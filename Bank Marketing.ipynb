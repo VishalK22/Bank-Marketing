{
 "cells": [
  {
   "cell_type": "code",
   "execution_count": 1,
   "metadata": {},
   "outputs": [],
   "source": [
    "import pandas as pd\n",
    "import matplotlib.pyplot as plt\n",
    "import seaborn as sns\n",
    "import numpy as np\n",
    "import scipy.stats as stats\n",
    "bank=pd.read_csv(r\"C:/Training/Final Project/bank-additional-full.csv\")\n",
    "bank_test=pd.read_csv(r\"C:/Training/Final Project/test_dataset.csv\")"
   ]
  },
  {
   "cell_type": "code",
   "execution_count": 2,
   "metadata": {},
   "outputs": [
    {
     "data": {
      "text/plain": [
       "((41188, 21), (4119, 20))"
      ]
     },
     "execution_count": 2,
     "metadata": {},
     "output_type": "execute_result"
    }
   ],
   "source": [
    "bank.shape, bank_test.shape"
   ]
  },
  {
   "cell_type": "code",
   "execution_count": 3,
   "metadata": {},
   "outputs": [
    {
     "data": {
      "text/html": [
       "<div>\n",
       "<style scoped>\n",
       "    .dataframe tbody tr th:only-of-type {\n",
       "        vertical-align: middle;\n",
       "    }\n",
       "\n",
       "    .dataframe tbody tr th {\n",
       "        vertical-align: top;\n",
       "    }\n",
       "\n",
       "    .dataframe thead th {\n",
       "        text-align: right;\n",
       "    }\n",
       "</style>\n",
       "<table border=\"1\" class=\"dataframe\">\n",
       "  <thead>\n",
       "    <tr style=\"text-align: right;\">\n",
       "      <th></th>\n",
       "      <th>age</th>\n",
       "      <th>job</th>\n",
       "      <th>marital</th>\n",
       "      <th>education</th>\n",
       "      <th>default</th>\n",
       "      <th>housing</th>\n",
       "      <th>loan</th>\n",
       "      <th>contact</th>\n",
       "      <th>month</th>\n",
       "      <th>day_of_week</th>\n",
       "      <th>...</th>\n",
       "      <th>campaign</th>\n",
       "      <th>pdays</th>\n",
       "      <th>previous</th>\n",
       "      <th>poutcome</th>\n",
       "      <th>emp.var.rate</th>\n",
       "      <th>cons.price.idx</th>\n",
       "      <th>cons.conf.idx</th>\n",
       "      <th>euribor3m</th>\n",
       "      <th>nr.employed</th>\n",
       "      <th>y</th>\n",
       "    </tr>\n",
       "  </thead>\n",
       "  <tbody>\n",
       "    <tr>\n",
       "      <td>0</td>\n",
       "      <td>56</td>\n",
       "      <td>housemaid</td>\n",
       "      <td>married</td>\n",
       "      <td>basic.4y</td>\n",
       "      <td>no</td>\n",
       "      <td>no</td>\n",
       "      <td>no</td>\n",
       "      <td>telephone</td>\n",
       "      <td>may</td>\n",
       "      <td>mon</td>\n",
       "      <td>...</td>\n",
       "      <td>1</td>\n",
       "      <td>999</td>\n",
       "      <td>0</td>\n",
       "      <td>nonexistent</td>\n",
       "      <td>1.1</td>\n",
       "      <td>93.994</td>\n",
       "      <td>-36.4</td>\n",
       "      <td>4.857</td>\n",
       "      <td>5191.0</td>\n",
       "      <td>no</td>\n",
       "    </tr>\n",
       "    <tr>\n",
       "      <td>1</td>\n",
       "      <td>57</td>\n",
       "      <td>services</td>\n",
       "      <td>married</td>\n",
       "      <td>high.school</td>\n",
       "      <td>unknown</td>\n",
       "      <td>no</td>\n",
       "      <td>no</td>\n",
       "      <td>telephone</td>\n",
       "      <td>may</td>\n",
       "      <td>mon</td>\n",
       "      <td>...</td>\n",
       "      <td>1</td>\n",
       "      <td>999</td>\n",
       "      <td>0</td>\n",
       "      <td>nonexistent</td>\n",
       "      <td>1.1</td>\n",
       "      <td>93.994</td>\n",
       "      <td>-36.4</td>\n",
       "      <td>4.857</td>\n",
       "      <td>5191.0</td>\n",
       "      <td>no</td>\n",
       "    </tr>\n",
       "    <tr>\n",
       "      <td>2</td>\n",
       "      <td>37</td>\n",
       "      <td>services</td>\n",
       "      <td>married</td>\n",
       "      <td>high.school</td>\n",
       "      <td>no</td>\n",
       "      <td>yes</td>\n",
       "      <td>no</td>\n",
       "      <td>telephone</td>\n",
       "      <td>may</td>\n",
       "      <td>mon</td>\n",
       "      <td>...</td>\n",
       "      <td>1</td>\n",
       "      <td>999</td>\n",
       "      <td>0</td>\n",
       "      <td>nonexistent</td>\n",
       "      <td>1.1</td>\n",
       "      <td>93.994</td>\n",
       "      <td>-36.4</td>\n",
       "      <td>4.857</td>\n",
       "      <td>5191.0</td>\n",
       "      <td>no</td>\n",
       "    </tr>\n",
       "    <tr>\n",
       "      <td>3</td>\n",
       "      <td>40</td>\n",
       "      <td>admin.</td>\n",
       "      <td>married</td>\n",
       "      <td>basic.6y</td>\n",
       "      <td>no</td>\n",
       "      <td>no</td>\n",
       "      <td>no</td>\n",
       "      <td>telephone</td>\n",
       "      <td>may</td>\n",
       "      <td>mon</td>\n",
       "      <td>...</td>\n",
       "      <td>1</td>\n",
       "      <td>999</td>\n",
       "      <td>0</td>\n",
       "      <td>nonexistent</td>\n",
       "      <td>1.1</td>\n",
       "      <td>93.994</td>\n",
       "      <td>-36.4</td>\n",
       "      <td>4.857</td>\n",
       "      <td>5191.0</td>\n",
       "      <td>no</td>\n",
       "    </tr>\n",
       "    <tr>\n",
       "      <td>4</td>\n",
       "      <td>56</td>\n",
       "      <td>services</td>\n",
       "      <td>married</td>\n",
       "      <td>high.school</td>\n",
       "      <td>no</td>\n",
       "      <td>no</td>\n",
       "      <td>yes</td>\n",
       "      <td>telephone</td>\n",
       "      <td>may</td>\n",
       "      <td>mon</td>\n",
       "      <td>...</td>\n",
       "      <td>1</td>\n",
       "      <td>999</td>\n",
       "      <td>0</td>\n",
       "      <td>nonexistent</td>\n",
       "      <td>1.1</td>\n",
       "      <td>93.994</td>\n",
       "      <td>-36.4</td>\n",
       "      <td>4.857</td>\n",
       "      <td>5191.0</td>\n",
       "      <td>no</td>\n",
       "    </tr>\n",
       "  </tbody>\n",
       "</table>\n",
       "<p>5 rows × 21 columns</p>\n",
       "</div>"
      ],
      "text/plain": [
       "   age        job  marital    education  default housing loan    contact  \\\n",
       "0   56  housemaid  married     basic.4y       no      no   no  telephone   \n",
       "1   57   services  married  high.school  unknown      no   no  telephone   \n",
       "2   37   services  married  high.school       no     yes   no  telephone   \n",
       "3   40     admin.  married     basic.6y       no      no   no  telephone   \n",
       "4   56   services  married  high.school       no      no  yes  telephone   \n",
       "\n",
       "  month day_of_week  ...  campaign  pdays  previous     poutcome emp.var.rate  \\\n",
       "0   may         mon  ...         1    999         0  nonexistent          1.1   \n",
       "1   may         mon  ...         1    999         0  nonexistent          1.1   \n",
       "2   may         mon  ...         1    999         0  nonexistent          1.1   \n",
       "3   may         mon  ...         1    999         0  nonexistent          1.1   \n",
       "4   may         mon  ...         1    999         0  nonexistent          1.1   \n",
       "\n",
       "   cons.price.idx  cons.conf.idx  euribor3m  nr.employed   y  \n",
       "0          93.994          -36.4      4.857       5191.0  no  \n",
       "1          93.994          -36.4      4.857       5191.0  no  \n",
       "2          93.994          -36.4      4.857       5191.0  no  \n",
       "3          93.994          -36.4      4.857       5191.0  no  \n",
       "4          93.994          -36.4      4.857       5191.0  no  \n",
       "\n",
       "[5 rows x 21 columns]"
      ]
     },
     "execution_count": 3,
     "metadata": {},
     "output_type": "execute_result"
    }
   ],
   "source": [
    "bank.head()"
   ]
  },
  {
   "cell_type": "code",
   "execution_count": 5,
   "metadata": {},
   "outputs": [
    {
     "data": {
      "text/html": [
       "<div>\n",
       "<style scoped>\n",
       "    .dataframe tbody tr th:only-of-type {\n",
       "        vertical-align: middle;\n",
       "    }\n",
       "\n",
       "    .dataframe tbody tr th {\n",
       "        vertical-align: top;\n",
       "    }\n",
       "\n",
       "    .dataframe thead th {\n",
       "        text-align: right;\n",
       "    }\n",
       "</style>\n",
       "<table border=\"1\" class=\"dataframe\">\n",
       "  <thead>\n",
       "    <tr style=\"text-align: right;\">\n",
       "      <th></th>\n",
       "      <th>age</th>\n",
       "      <th>job</th>\n",
       "      <th>marital</th>\n",
       "      <th>education</th>\n",
       "      <th>default</th>\n",
       "      <th>housing</th>\n",
       "      <th>loan</th>\n",
       "      <th>contact</th>\n",
       "      <th>month</th>\n",
       "      <th>day_of_week</th>\n",
       "      <th>...</th>\n",
       "      <th>campaign</th>\n",
       "      <th>pdays</th>\n",
       "      <th>previous</th>\n",
       "      <th>poutcome</th>\n",
       "      <th>emp.var.rate</th>\n",
       "      <th>cons.price.idx</th>\n",
       "      <th>cons.conf.idx</th>\n",
       "      <th>euribor3m</th>\n",
       "      <th>nr.employed</th>\n",
       "      <th>y</th>\n",
       "    </tr>\n",
       "  </thead>\n",
       "  <tbody>\n",
       "    <tr>\n",
       "      <td>41183</td>\n",
       "      <td>73</td>\n",
       "      <td>retired</td>\n",
       "      <td>married</td>\n",
       "      <td>professional.course</td>\n",
       "      <td>no</td>\n",
       "      <td>yes</td>\n",
       "      <td>no</td>\n",
       "      <td>cellular</td>\n",
       "      <td>nov</td>\n",
       "      <td>fri</td>\n",
       "      <td>...</td>\n",
       "      <td>1</td>\n",
       "      <td>999</td>\n",
       "      <td>0</td>\n",
       "      <td>nonexistent</td>\n",
       "      <td>-1.1</td>\n",
       "      <td>94.767</td>\n",
       "      <td>-50.8</td>\n",
       "      <td>1.028</td>\n",
       "      <td>4963.6</td>\n",
       "      <td>yes</td>\n",
       "    </tr>\n",
       "    <tr>\n",
       "      <td>41184</td>\n",
       "      <td>46</td>\n",
       "      <td>blue-collar</td>\n",
       "      <td>married</td>\n",
       "      <td>professional.course</td>\n",
       "      <td>no</td>\n",
       "      <td>no</td>\n",
       "      <td>no</td>\n",
       "      <td>cellular</td>\n",
       "      <td>nov</td>\n",
       "      <td>fri</td>\n",
       "      <td>...</td>\n",
       "      <td>1</td>\n",
       "      <td>999</td>\n",
       "      <td>0</td>\n",
       "      <td>nonexistent</td>\n",
       "      <td>-1.1</td>\n",
       "      <td>94.767</td>\n",
       "      <td>-50.8</td>\n",
       "      <td>1.028</td>\n",
       "      <td>4963.6</td>\n",
       "      <td>no</td>\n",
       "    </tr>\n",
       "    <tr>\n",
       "      <td>41185</td>\n",
       "      <td>56</td>\n",
       "      <td>retired</td>\n",
       "      <td>married</td>\n",
       "      <td>university.degree</td>\n",
       "      <td>no</td>\n",
       "      <td>yes</td>\n",
       "      <td>no</td>\n",
       "      <td>cellular</td>\n",
       "      <td>nov</td>\n",
       "      <td>fri</td>\n",
       "      <td>...</td>\n",
       "      <td>2</td>\n",
       "      <td>999</td>\n",
       "      <td>0</td>\n",
       "      <td>nonexistent</td>\n",
       "      <td>-1.1</td>\n",
       "      <td>94.767</td>\n",
       "      <td>-50.8</td>\n",
       "      <td>1.028</td>\n",
       "      <td>4963.6</td>\n",
       "      <td>no</td>\n",
       "    </tr>\n",
       "    <tr>\n",
       "      <td>41186</td>\n",
       "      <td>44</td>\n",
       "      <td>technician</td>\n",
       "      <td>married</td>\n",
       "      <td>professional.course</td>\n",
       "      <td>no</td>\n",
       "      <td>no</td>\n",
       "      <td>no</td>\n",
       "      <td>cellular</td>\n",
       "      <td>nov</td>\n",
       "      <td>fri</td>\n",
       "      <td>...</td>\n",
       "      <td>1</td>\n",
       "      <td>999</td>\n",
       "      <td>0</td>\n",
       "      <td>nonexistent</td>\n",
       "      <td>-1.1</td>\n",
       "      <td>94.767</td>\n",
       "      <td>-50.8</td>\n",
       "      <td>1.028</td>\n",
       "      <td>4963.6</td>\n",
       "      <td>yes</td>\n",
       "    </tr>\n",
       "    <tr>\n",
       "      <td>41187</td>\n",
       "      <td>74</td>\n",
       "      <td>retired</td>\n",
       "      <td>married</td>\n",
       "      <td>professional.course</td>\n",
       "      <td>no</td>\n",
       "      <td>yes</td>\n",
       "      <td>no</td>\n",
       "      <td>cellular</td>\n",
       "      <td>nov</td>\n",
       "      <td>fri</td>\n",
       "      <td>...</td>\n",
       "      <td>3</td>\n",
       "      <td>999</td>\n",
       "      <td>1</td>\n",
       "      <td>failure</td>\n",
       "      <td>-1.1</td>\n",
       "      <td>94.767</td>\n",
       "      <td>-50.8</td>\n",
       "      <td>1.028</td>\n",
       "      <td>4963.6</td>\n",
       "      <td>no</td>\n",
       "    </tr>\n",
       "  </tbody>\n",
       "</table>\n",
       "<p>5 rows × 21 columns</p>\n",
       "</div>"
      ],
      "text/plain": [
       "       age          job  marital            education default housing loan  \\\n",
       "41183   73      retired  married  professional.course      no     yes   no   \n",
       "41184   46  blue-collar  married  professional.course      no      no   no   \n",
       "41185   56      retired  married    university.degree      no     yes   no   \n",
       "41186   44   technician  married  professional.course      no      no   no   \n",
       "41187   74      retired  married  professional.course      no     yes   no   \n",
       "\n",
       "        contact month day_of_week  ...  campaign  pdays  previous  \\\n",
       "41183  cellular   nov         fri  ...         1    999         0   \n",
       "41184  cellular   nov         fri  ...         1    999         0   \n",
       "41185  cellular   nov         fri  ...         2    999         0   \n",
       "41186  cellular   nov         fri  ...         1    999         0   \n",
       "41187  cellular   nov         fri  ...         3    999         1   \n",
       "\n",
       "          poutcome emp.var.rate  cons.price.idx  cons.conf.idx  euribor3m  \\\n",
       "41183  nonexistent         -1.1          94.767          -50.8      1.028   \n",
       "41184  nonexistent         -1.1          94.767          -50.8      1.028   \n",
       "41185  nonexistent         -1.1          94.767          -50.8      1.028   \n",
       "41186  nonexistent         -1.1          94.767          -50.8      1.028   \n",
       "41187      failure         -1.1          94.767          -50.8      1.028   \n",
       "\n",
       "       nr.employed    y  \n",
       "41183       4963.6  yes  \n",
       "41184       4963.6   no  \n",
       "41185       4963.6   no  \n",
       "41186       4963.6  yes  \n",
       "41187       4963.6   no  \n",
       "\n",
       "[5 rows x 21 columns]"
      ]
     },
     "execution_count": 5,
     "metadata": {},
     "output_type": "execute_result"
    }
   ],
   "source": [
    "bank.tail()"
   ]
  },
  {
   "cell_type": "code",
   "execution_count": 6,
   "metadata": {},
   "outputs": [],
   "source": [
    "bank.rename(columns={'y':'deposit'}, inplace=True)"
   ]
  },
  {
   "cell_type": "code",
   "execution_count": 9,
   "metadata": {},
   "outputs": [
    {
     "data": {
      "text/html": [
       "<div>\n",
       "<style scoped>\n",
       "    .dataframe tbody tr th:only-of-type {\n",
       "        vertical-align: middle;\n",
       "    }\n",
       "\n",
       "    .dataframe tbody tr th {\n",
       "        vertical-align: top;\n",
       "    }\n",
       "\n",
       "    .dataframe thead th {\n",
       "        text-align: right;\n",
       "    }\n",
       "</style>\n",
       "<table border=\"1\" class=\"dataframe\">\n",
       "  <thead>\n",
       "    <tr style=\"text-align: right;\">\n",
       "      <th></th>\n",
       "      <th>age</th>\n",
       "      <th>duration</th>\n",
       "      <th>campaign</th>\n",
       "      <th>pdays</th>\n",
       "      <th>previous</th>\n",
       "      <th>emp.var.rate</th>\n",
       "      <th>cons.price.idx</th>\n",
       "      <th>cons.conf.idx</th>\n",
       "      <th>euribor3m</th>\n",
       "      <th>nr.employed</th>\n",
       "    </tr>\n",
       "  </thead>\n",
       "  <tbody>\n",
       "    <tr>\n",
       "      <td>count</td>\n",
       "      <td>41188.00000</td>\n",
       "      <td>41188.000000</td>\n",
       "      <td>41188.000000</td>\n",
       "      <td>41188.000000</td>\n",
       "      <td>41188.000000</td>\n",
       "      <td>41188.000000</td>\n",
       "      <td>41188.000000</td>\n",
       "      <td>41188.000000</td>\n",
       "      <td>41188.000000</td>\n",
       "      <td>41188.000000</td>\n",
       "    </tr>\n",
       "    <tr>\n",
       "      <td>mean</td>\n",
       "      <td>40.02406</td>\n",
       "      <td>258.285010</td>\n",
       "      <td>2.567593</td>\n",
       "      <td>962.475454</td>\n",
       "      <td>0.172963</td>\n",
       "      <td>0.081886</td>\n",
       "      <td>93.575664</td>\n",
       "      <td>-40.502600</td>\n",
       "      <td>3.621291</td>\n",
       "      <td>5167.035911</td>\n",
       "    </tr>\n",
       "    <tr>\n",
       "      <td>std</td>\n",
       "      <td>10.42125</td>\n",
       "      <td>259.279249</td>\n",
       "      <td>2.770014</td>\n",
       "      <td>186.910907</td>\n",
       "      <td>0.494901</td>\n",
       "      <td>1.570960</td>\n",
       "      <td>0.578840</td>\n",
       "      <td>4.628198</td>\n",
       "      <td>1.734447</td>\n",
       "      <td>72.251528</td>\n",
       "    </tr>\n",
       "    <tr>\n",
       "      <td>min</td>\n",
       "      <td>17.00000</td>\n",
       "      <td>0.000000</td>\n",
       "      <td>1.000000</td>\n",
       "      <td>0.000000</td>\n",
       "      <td>0.000000</td>\n",
       "      <td>-3.400000</td>\n",
       "      <td>92.201000</td>\n",
       "      <td>-50.800000</td>\n",
       "      <td>0.634000</td>\n",
       "      <td>4963.600000</td>\n",
       "    </tr>\n",
       "    <tr>\n",
       "      <td>25%</td>\n",
       "      <td>32.00000</td>\n",
       "      <td>102.000000</td>\n",
       "      <td>1.000000</td>\n",
       "      <td>999.000000</td>\n",
       "      <td>0.000000</td>\n",
       "      <td>-1.800000</td>\n",
       "      <td>93.075000</td>\n",
       "      <td>-42.700000</td>\n",
       "      <td>1.344000</td>\n",
       "      <td>5099.100000</td>\n",
       "    </tr>\n",
       "    <tr>\n",
       "      <td>50%</td>\n",
       "      <td>38.00000</td>\n",
       "      <td>180.000000</td>\n",
       "      <td>2.000000</td>\n",
       "      <td>999.000000</td>\n",
       "      <td>0.000000</td>\n",
       "      <td>1.100000</td>\n",
       "      <td>93.749000</td>\n",
       "      <td>-41.800000</td>\n",
       "      <td>4.857000</td>\n",
       "      <td>5191.000000</td>\n",
       "    </tr>\n",
       "    <tr>\n",
       "      <td>75%</td>\n",
       "      <td>47.00000</td>\n",
       "      <td>319.000000</td>\n",
       "      <td>3.000000</td>\n",
       "      <td>999.000000</td>\n",
       "      <td>0.000000</td>\n",
       "      <td>1.400000</td>\n",
       "      <td>93.994000</td>\n",
       "      <td>-36.400000</td>\n",
       "      <td>4.961000</td>\n",
       "      <td>5228.100000</td>\n",
       "    </tr>\n",
       "    <tr>\n",
       "      <td>max</td>\n",
       "      <td>98.00000</td>\n",
       "      <td>4918.000000</td>\n",
       "      <td>56.000000</td>\n",
       "      <td>999.000000</td>\n",
       "      <td>7.000000</td>\n",
       "      <td>1.400000</td>\n",
       "      <td>94.767000</td>\n",
       "      <td>-26.900000</td>\n",
       "      <td>5.045000</td>\n",
       "      <td>5228.100000</td>\n",
       "    </tr>\n",
       "  </tbody>\n",
       "</table>\n",
       "</div>"
      ],
      "text/plain": [
       "               age      duration      campaign         pdays      previous  \\\n",
       "count  41188.00000  41188.000000  41188.000000  41188.000000  41188.000000   \n",
       "mean      40.02406    258.285010      2.567593    962.475454      0.172963   \n",
       "std       10.42125    259.279249      2.770014    186.910907      0.494901   \n",
       "min       17.00000      0.000000      1.000000      0.000000      0.000000   \n",
       "25%       32.00000    102.000000      1.000000    999.000000      0.000000   \n",
       "50%       38.00000    180.000000      2.000000    999.000000      0.000000   \n",
       "75%       47.00000    319.000000      3.000000    999.000000      0.000000   \n",
       "max       98.00000   4918.000000     56.000000    999.000000      7.000000   \n",
       "\n",
       "       emp.var.rate  cons.price.idx  cons.conf.idx     euribor3m   nr.employed  \n",
       "count  41188.000000    41188.000000   41188.000000  41188.000000  41188.000000  \n",
       "mean       0.081886       93.575664     -40.502600      3.621291   5167.035911  \n",
       "std        1.570960        0.578840       4.628198      1.734447     72.251528  \n",
       "min       -3.400000       92.201000     -50.800000      0.634000   4963.600000  \n",
       "25%       -1.800000       93.075000     -42.700000      1.344000   5099.100000  \n",
       "50%        1.100000       93.749000     -41.800000      4.857000   5191.000000  \n",
       "75%        1.400000       93.994000     -36.400000      4.961000   5228.100000  \n",
       "max        1.400000       94.767000     -26.900000      5.045000   5228.100000  "
      ]
     },
     "execution_count": 9,
     "metadata": {},
     "output_type": "execute_result"
    }
   ],
   "source": [
    "bank.describe()"
   ]
  },
  {
   "cell_type": "code",
   "execution_count": 11,
   "metadata": {},
   "outputs": [
    {
     "data": {
      "text/plain": [
       "age               0\n",
       "job               0\n",
       "marital           0\n",
       "education         0\n",
       "default           0\n",
       "housing           0\n",
       "loan              0\n",
       "contact           0\n",
       "month             0\n",
       "day_of_week       0\n",
       "duration          0\n",
       "campaign          0\n",
       "pdays             0\n",
       "previous          0\n",
       "poutcome          0\n",
       "emp.var.rate      0\n",
       "cons.price.idx    0\n",
       "cons.conf.idx     0\n",
       "euribor3m         0\n",
       "nr.employed       0\n",
       "deposit           0\n",
       "dtype: int64"
      ]
     },
     "execution_count": 11,
     "metadata": {},
     "output_type": "execute_result"
    }
   ],
   "source": [
    "bank.isnull().sum()    # No NA values in the dataset"
   ]
  },
  {
   "cell_type": "code",
   "execution_count": 38,
   "metadata": {},
   "outputs": [
    {
     "data": {
      "text/html": [
       "<div>\n",
       "<style scoped>\n",
       "    .dataframe tbody tr th:only-of-type {\n",
       "        vertical-align: middle;\n",
       "    }\n",
       "\n",
       "    .dataframe tbody tr th {\n",
       "        vertical-align: top;\n",
       "    }\n",
       "\n",
       "    .dataframe thead th {\n",
       "        text-align: right;\n",
       "    }\n",
       "</style>\n",
       "<table border=\"1\" class=\"dataframe\">\n",
       "  <thead>\n",
       "    <tr style=\"text-align: right;\">\n",
       "      <th>education</th>\n",
       "      <th>basic.4y</th>\n",
       "      <th>basic.6y</th>\n",
       "      <th>basic.9y</th>\n",
       "      <th>high.school</th>\n",
       "      <th>illiterate</th>\n",
       "      <th>professional.course</th>\n",
       "      <th>university.degree</th>\n",
       "      <th>unknown</th>\n",
       "    </tr>\n",
       "    <tr>\n",
       "      <th>job</th>\n",
       "      <th></th>\n",
       "      <th></th>\n",
       "      <th></th>\n",
       "      <th></th>\n",
       "      <th></th>\n",
       "      <th></th>\n",
       "      <th></th>\n",
       "      <th></th>\n",
       "    </tr>\n",
       "  </thead>\n",
       "  <tbody>\n",
       "    <tr>\n",
       "      <td>admin.</td>\n",
       "      <td>77</td>\n",
       "      <td>151</td>\n",
       "      <td>499</td>\n",
       "      <td>3329</td>\n",
       "      <td>1</td>\n",
       "      <td>363</td>\n",
       "      <td>5753</td>\n",
       "      <td>249</td>\n",
       "    </tr>\n",
       "    <tr>\n",
       "      <td>blue-collar</td>\n",
       "      <td>2318</td>\n",
       "      <td>1426</td>\n",
       "      <td>3623</td>\n",
       "      <td>878</td>\n",
       "      <td>8</td>\n",
       "      <td>453</td>\n",
       "      <td>94</td>\n",
       "      <td>454</td>\n",
       "    </tr>\n",
       "    <tr>\n",
       "      <td>entrepreneur</td>\n",
       "      <td>137</td>\n",
       "      <td>71</td>\n",
       "      <td>210</td>\n",
       "      <td>234</td>\n",
       "      <td>2</td>\n",
       "      <td>135</td>\n",
       "      <td>610</td>\n",
       "      <td>57</td>\n",
       "    </tr>\n",
       "    <tr>\n",
       "      <td>housemaid</td>\n",
       "      <td>474</td>\n",
       "      <td>77</td>\n",
       "      <td>94</td>\n",
       "      <td>174</td>\n",
       "      <td>1</td>\n",
       "      <td>59</td>\n",
       "      <td>139</td>\n",
       "      <td>42</td>\n",
       "    </tr>\n",
       "    <tr>\n",
       "      <td>management</td>\n",
       "      <td>100</td>\n",
       "      <td>85</td>\n",
       "      <td>166</td>\n",
       "      <td>298</td>\n",
       "      <td>0</td>\n",
       "      <td>89</td>\n",
       "      <td>2063</td>\n",
       "      <td>123</td>\n",
       "    </tr>\n",
       "    <tr>\n",
       "      <td>retired</td>\n",
       "      <td>597</td>\n",
       "      <td>75</td>\n",
       "      <td>145</td>\n",
       "      <td>276</td>\n",
       "      <td>3</td>\n",
       "      <td>241</td>\n",
       "      <td>285</td>\n",
       "      <td>98</td>\n",
       "    </tr>\n",
       "    <tr>\n",
       "      <td>self-employed</td>\n",
       "      <td>93</td>\n",
       "      <td>25</td>\n",
       "      <td>220</td>\n",
       "      <td>118</td>\n",
       "      <td>3</td>\n",
       "      <td>168</td>\n",
       "      <td>765</td>\n",
       "      <td>29</td>\n",
       "    </tr>\n",
       "    <tr>\n",
       "      <td>services</td>\n",
       "      <td>132</td>\n",
       "      <td>226</td>\n",
       "      <td>388</td>\n",
       "      <td>2682</td>\n",
       "      <td>0</td>\n",
       "      <td>218</td>\n",
       "      <td>173</td>\n",
       "      <td>150</td>\n",
       "    </tr>\n",
       "    <tr>\n",
       "      <td>student</td>\n",
       "      <td>26</td>\n",
       "      <td>13</td>\n",
       "      <td>99</td>\n",
       "      <td>357</td>\n",
       "      <td>0</td>\n",
       "      <td>43</td>\n",
       "      <td>170</td>\n",
       "      <td>167</td>\n",
       "    </tr>\n",
       "    <tr>\n",
       "      <td>technician</td>\n",
       "      <td>58</td>\n",
       "      <td>87</td>\n",
       "      <td>384</td>\n",
       "      <td>873</td>\n",
       "      <td>0</td>\n",
       "      <td>3320</td>\n",
       "      <td>1809</td>\n",
       "      <td>212</td>\n",
       "    </tr>\n",
       "    <tr>\n",
       "      <td>unemployed</td>\n",
       "      <td>112</td>\n",
       "      <td>34</td>\n",
       "      <td>186</td>\n",
       "      <td>259</td>\n",
       "      <td>0</td>\n",
       "      <td>142</td>\n",
       "      <td>262</td>\n",
       "      <td>19</td>\n",
       "    </tr>\n",
       "    <tr>\n",
       "      <td>unknown</td>\n",
       "      <td>52</td>\n",
       "      <td>22</td>\n",
       "      <td>31</td>\n",
       "      <td>37</td>\n",
       "      <td>0</td>\n",
       "      <td>12</td>\n",
       "      <td>45</td>\n",
       "      <td>131</td>\n",
       "    </tr>\n",
       "  </tbody>\n",
       "</table>\n",
       "</div>"
      ],
      "text/plain": [
       "education      basic.4y  basic.6y  basic.9y  high.school  illiterate  \\\n",
       "job                                                                    \n",
       "admin.               77       151       499         3329           1   \n",
       "blue-collar        2318      1426      3623          878           8   \n",
       "entrepreneur        137        71       210          234           2   \n",
       "housemaid           474        77        94          174           1   \n",
       "management          100        85       166          298           0   \n",
       "retired             597        75       145          276           3   \n",
       "self-employed        93        25       220          118           3   \n",
       "services            132       226       388         2682           0   \n",
       "student              26        13        99          357           0   \n",
       "technician           58        87       384          873           0   \n",
       "unemployed          112        34       186          259           0   \n",
       "unknown              52        22        31           37           0   \n",
       "\n",
       "education      professional.course  university.degree  unknown  \n",
       "job                                                             \n",
       "admin.                         363               5753      249  \n",
       "blue-collar                    453                 94      454  \n",
       "entrepreneur                   135                610       57  \n",
       "housemaid                       59                139       42  \n",
       "management                      89               2063      123  \n",
       "retired                        241                285       98  \n",
       "self-employed                  168                765       29  \n",
       "services                       218                173      150  \n",
       "student                         43                170      167  \n",
       "technician                    3320               1809      212  \n",
       "unemployed                     142                262       19  \n",
       "unknown                         12                 45      131  "
      ]
     },
     "execution_count": 38,
     "metadata": {},
     "output_type": "execute_result"
    }
   ],
   "source": [
    "pd.crosstab(bank.job, bank.education)"
   ]
  },
  {
   "cell_type": "code",
   "execution_count": 665,
   "metadata": {},
   "outputs": [
    {
     "data": {
      "text/plain": [
       "retired          51\n",
       "housemaid         9\n",
       "unknown           4\n",
       "management        3\n",
       "blue-collar       3\n",
       "technician        3\n",
       "admin.            3\n",
       "self-employed     2\n",
       "unemployed        1\n",
       "Name: job, dtype: int64"
      ]
     },
     "execution_count": 665,
     "metadata": {},
     "output_type": "execute_result"
    }
   ],
   "source": [
    "bank_test['job'][bank_test['age']>60].value_counts()"
   ]
  },
  {
   "cell_type": "code",
   "execution_count": 13,
   "metadata": {},
   "outputs": [],
   "source": [
    "bank.loc[(bank['age']>60) & (bank['job']=='unknown'), 'job'] = 'retired'\n",
    "bank_test.loc[(bank_test['age']>60) & (bank_test['job']=='unknown'), 'job'] = 'retired'"
   ]
  },
  {
   "cell_type": "code",
   "execution_count": 14,
   "metadata": {},
   "outputs": [],
   "source": [
    "# Imputing unknown values for education based on job\n",
    "bank.loc[(bank['education']=='unknown') & (bank['job']=='management'), 'education'] = 'university.degree'\n",
    "bank.loc[(bank['education']=='unknown') & (bank['job']=='admin.'), 'education'] = 'university.degree'\n",
    "bank.loc[(bank['education']=='unknown') & (bank['job']=='services'), 'education'] = 'high.school'\n",
    "bank.loc[(bank['education']=='unknown') & (bank['job']=='housemaid'), 'education'] = 'basic.4y'\n",
    "bank.loc[(bank['education']=='unknown') & (bank['job']=='technician'), 'education'] = 'professional.course'\n",
    "bank.loc[(bank['education']=='unknown') & (bank['job']=='student'), 'education'] = 'high.school'\n",
    "bank.loc[(bank['education']=='unknown') & (bank['job']=='blue-collar'), 'education'] = 'basic.9y'"
   ]
  },
  {
   "cell_type": "code",
   "execution_count": 15,
   "metadata": {},
   "outputs": [],
   "source": [
    "# Imputing unknown values for job based on education\n",
    "bank.loc[(bank['job'] == 'unknown') & (bank['education']=='university.degree'), 'job'] = 'admin.'\n",
    "bank.loc[(bank['job'] == 'unknown') & (bank['education']=='basic.4y'), 'job'] = 'blue-collar'\n",
    "bank.loc[(bank['job'] == 'unknown') & (bank['education']=='basic.6y'), 'job'] = 'blue-collar'\n",
    "bank.loc[(bank['job'] == 'unknown') & (bank['education']=='basic.9y'), 'job'] = 'blue-collar'\n",
    "bank.loc[(bank['job']=='unknown') & (bank['education']=='professional.course'), 'job'] = 'technician'"
   ]
  },
  {
   "cell_type": "code",
   "execution_count": 16,
   "metadata": {},
   "outputs": [],
   "source": [
    "# Imputing unknown values for education based on job\n",
    "bank_test.loc[(bank_test['education']=='unknown') & (bank_test['job']=='management'), 'education'] = 'university.degree'\n",
    "bank_test.loc[(bank_test['education']=='unknown') & (bank_test['job']=='admin.'), 'education'] = 'university.degree'\n",
    "bank_test.loc[(bank_test['education']=='unknown') & (bank_test['job']=='services'), 'education'] = 'high.school'\n",
    "bank_test.loc[(bank_test['education']=='unknown') & (bank_test['job']=='housemaid'), 'education'] = 'basic.4y'\n",
    "bank_test.loc[(bank_test['education']=='unknown') & (bank_test['job']=='technician'), 'education'] = 'professional.course'\n",
    "bank_test.loc[(bank_test['education']=='unknown') & (bank_test['job']=='student'), 'education'] = 'high.school'\n",
    "bank_test.loc[(bank_test['education']=='unknown') & (bank_test['job']=='blue-collar'), 'education'] = 'basic.9y'"
   ]
  },
  {
   "cell_type": "code",
   "execution_count": 17,
   "metadata": {},
   "outputs": [],
   "source": [
    "# Imputing unknown values for job based on education\n",
    "bank_test.loc[(bank_test['job'] == 'unknown') & (bank_test['education']=='university.degree'), 'job'] = 'admin.'\n",
    "bank_test.loc[(bank_test['job'] == 'unknown') & (bank_test['education']=='basic.4y'), 'job'] = 'blue-collar'\n",
    "bank_test.loc[(bank_test['job'] == 'unknown') & (bank_test['education']=='basic.6y'), 'job'] = 'blue-collar'\n",
    "bank_test.loc[(bank_test['job'] == 'unknown') & (bank_test['education']=='basic.9y'), 'job'] = 'blue-collar'\n",
    "bank_test.loc[(bank_test['job']=='unknown') & (bank_test['education']=='professional.course'), 'job'] = 'technician'"
   ]
  },
  {
   "cell_type": "code",
   "execution_count": 18,
   "metadata": {},
   "outputs": [],
   "source": [
    "# Imputing mode for unknown values in housing, loan, default and marital\n",
    "bank['housing']=bank['housing'].replace('unknown','yes')\n",
    "bank['loan']=bank['loan'].replace('unknown','no')\n",
    "bank['default']=bank['default'].replace('unknown','no')\n",
    "bank['marital']=bank['marital'].replace('unknown','married')\n",
    "\n",
    "bank_test['housing']=bank_test['housing'].replace('unknown','yes')\n",
    "bank_test['loan']=bank_test['loan'].replace('unknown','no')\n",
    "bank_test['default']=bank_test['default'].replace('unknown','no')\n",
    "bank_test['marital']=bank_test['marital'].replace('unknown','married')"
   ]
  },
  {
   "cell_type": "code",
   "execution_count": 19,
   "metadata": {},
   "outputs": [
    {
     "data": {
      "text/plain": [
       "no     88.734583\n",
       "yes    11.265417\n",
       "Name: deposit, dtype: float64"
      ]
     },
     "execution_count": 19,
     "metadata": {},
     "output_type": "execute_result"
    }
   ],
   "source": [
    "bank.deposit.value_counts(normalize=True) *100"
   ]
  },
  {
   "cell_type": "code",
   "execution_count": 20,
   "metadata": {},
   "outputs": [
    {
     "data": {
      "text/plain": [
       "no     36548\n",
       "yes     4640\n",
       "Name: deposit, dtype: int64"
      ]
     },
     "execution_count": 20,
     "metadata": {},
     "output_type": "execute_result"
    }
   ],
   "source": [
    "bank.deposit.value_counts()"
   ]
  },
  {
   "cell_type": "code",
   "execution_count": 251,
   "metadata": {},
   "outputs": [
    {
     "data": {
      "text/plain": [
       "<matplotlib.axes._subplots.AxesSubplot at 0x1c72b23f688>"
      ]
     },
     "execution_count": 251,
     "metadata": {},
     "output_type": "execute_result"
    },
    {
     "data": {
      "image/png": "[encoded data removed]",
      "text/plain": [
       "<Figure size 432x288 with 1 Axes>"
      ]
     },
     "metadata": {
      "needs_background": "light"
     },
     "output_type": "display_data"
    }
   ],
   "source": [
    "sns.countplot(x='deposit', data=bank)"
   ]
  },
  {
   "cell_type": "code",
   "execution_count": 1416,
   "metadata": {},
   "outputs": [
    {
     "data": {
      "text/plain": [
       "admin.           25.303486\n",
       "blue-collar      22.467709\n",
       "technician       16.371273\n",
       "services          9.636302\n",
       "management        7.099155\n",
       "retired           4.175974\n",
       "entrepreneur      3.535010\n",
       "self-employed     3.450034\n",
       "housemaid         2.573565\n",
       "unemployed        2.461882\n",
       "student           2.124405\n",
       "unknown           0.801204\n",
       "Name: job, dtype: float64"
      ]
     },
     "execution_count": 1416,
     "metadata": {},
     "output_type": "execute_result"
    }
   ],
   "source": [
    "bank.job.value_counts(normalize=True) * 100"
   ]
  },
  {
   "cell_type": "code",
   "execution_count": 48,
   "metadata": {},
   "outputs": [
    {
     "data": {
      "text/html": [
       "<div>\n",
       "<style scoped>\n",
       "    .dataframe tbody tr th:only-of-type {\n",
       "        vertical-align: middle;\n",
       "    }\n",
       "\n",
       "    .dataframe tbody tr th {\n",
       "        vertical-align: top;\n",
       "    }\n",
       "\n",
       "    .dataframe thead th {\n",
       "        text-align: right;\n",
       "    }\n",
       "</style>\n",
       "<table border=\"1\" class=\"dataframe\">\n",
       "  <thead>\n",
       "    <tr style=\"text-align: right;\">\n",
       "      <th>job</th>\n",
       "      <th>admin.</th>\n",
       "      <th>blue-collar</th>\n",
       "      <th>entrepreneur</th>\n",
       "      <th>housemaid</th>\n",
       "      <th>management</th>\n",
       "      <th>retired</th>\n",
       "      <th>self-employed</th>\n",
       "      <th>services</th>\n",
       "      <th>student</th>\n",
       "      <th>technician</th>\n",
       "      <th>unemployed</th>\n",
       "      <th>unknown</th>\n",
       "      <th>All</th>\n",
       "    </tr>\n",
       "    <tr>\n",
       "      <th>deposit</th>\n",
       "      <th></th>\n",
       "      <th></th>\n",
       "      <th></th>\n",
       "      <th></th>\n",
       "      <th></th>\n",
       "      <th></th>\n",
       "      <th></th>\n",
       "      <th></th>\n",
       "      <th></th>\n",
       "      <th></th>\n",
       "      <th></th>\n",
       "      <th></th>\n",
       "      <th></th>\n",
       "    </tr>\n",
       "  </thead>\n",
       "  <tbody>\n",
       "    <tr>\n",
       "      <td>no</td>\n",
       "      <td>22.101097</td>\n",
       "      <td>21.149364</td>\n",
       "      <td>3.233952</td>\n",
       "      <td>2.316209</td>\n",
       "      <td>6.302807</td>\n",
       "      <td>3.153831</td>\n",
       "      <td>3.088278</td>\n",
       "      <td>8.852093</td>\n",
       "      <td>1.456735</td>\n",
       "      <td>14.620763</td>\n",
       "      <td>2.112266</td>\n",
       "      <td>0.347189</td>\n",
       "      <td>88.734583</td>\n",
       "    </tr>\n",
       "    <tr>\n",
       "      <td>yes</td>\n",
       "      <td>3.309216</td>\n",
       "      <td>1.563562</td>\n",
       "      <td>0.301059</td>\n",
       "      <td>0.257357</td>\n",
       "      <td>0.796348</td>\n",
       "      <td>1.073128</td>\n",
       "      <td>0.361756</td>\n",
       "      <td>0.784209</td>\n",
       "      <td>0.667670</td>\n",
       "      <td>1.774789</td>\n",
       "      <td>0.349616</td>\n",
       "      <td>0.026707</td>\n",
       "      <td>11.265417</td>\n",
       "    </tr>\n",
       "    <tr>\n",
       "      <td>All</td>\n",
       "      <td>25.410314</td>\n",
       "      <td>22.712926</td>\n",
       "      <td>3.535010</td>\n",
       "      <td>2.573565</td>\n",
       "      <td>7.099155</td>\n",
       "      <td>4.226959</td>\n",
       "      <td>3.450034</td>\n",
       "      <td>9.636302</td>\n",
       "      <td>2.124405</td>\n",
       "      <td>16.395552</td>\n",
       "      <td>2.461882</td>\n",
       "      <td>0.373895</td>\n",
       "      <td>100.000000</td>\n",
       "    </tr>\n",
       "  </tbody>\n",
       "</table>\n",
       "</div>"
      ],
      "text/plain": [
       "job         admin.  blue-collar  entrepreneur  housemaid  management  \\\n",
       "deposit                                                                \n",
       "no       22.101097    21.149364      3.233952   2.316209    6.302807   \n",
       "yes       3.309216     1.563562      0.301059   0.257357    0.796348   \n",
       "All      25.410314    22.712926      3.535010   2.573565    7.099155   \n",
       "\n",
       "job       retired  self-employed  services   student  technician  unemployed  \\\n",
       "deposit                                                                        \n",
       "no       3.153831       3.088278  8.852093  1.456735   14.620763    2.112266   \n",
       "yes      1.073128       0.361756  0.784209  0.667670    1.774789    0.349616   \n",
       "All      4.226959       3.450034  9.636302  2.124405   16.395552    2.461882   \n",
       "\n",
       "job       unknown         All  \n",
       "deposit                        \n",
       "no       0.347189   88.734583  \n",
       "yes      0.026707   11.265417  \n",
       "All      0.373895  100.000000  "
      ]
     },
     "execution_count": 48,
     "metadata": {},
     "output_type": "execute_result"
    }
   ],
   "source": [
    "job_cross_perc=(pd.crosstab(bank.deposit, bank.job, margins=True)/len(bank))*100\n",
    "job_cross_perc"
   ]
  },
  {
   "cell_type": "code",
   "execution_count": 49,
   "metadata": {
    "scrolled": true
   },
   "outputs": [
    {
     "data": {
      "text/plain": [
       "<matplotlib.axes._subplots.AxesSubplot at 0x2104e8f9588>"
      ]
     },
     "execution_count": 49,
     "metadata": {},
     "output_type": "execute_result"
    },
    {
     "data": {
      "image/png": "[encoded data removed]",
      "text/plain": [
       "<Figure size 1008x432 with 1 Axes>"
      ]
     },
     "metadata": {
      "needs_background": "light"
     },
     "output_type": "display_data"
    }
   ],
   "source": [
    "fig=plt.figure(figsize=(14,6))\n",
    "sns.countplot(x='job', data=bank, hue='deposit')"
   ]
  },
  {
   "cell_type": "code",
   "execution_count": 1272,
   "metadata": {},
   "outputs": [
    {
     "data": {
      "text/plain": [
       "married     60.716714\n",
       "single      28.085850\n",
       "divorced    11.197436\n",
       "Name: marital, dtype: float64"
      ]
     },
     "execution_count": 1272,
     "metadata": {},
     "output_type": "execute_result"
    }
   ],
   "source": [
    "bank.marital.value_counts(normalize=True) * 100"
   ]
  },
  {
   "cell_type": "code",
   "execution_count": 1273,
   "metadata": {},
   "outputs": [
    {
     "data": {
      "text/plain": [
       "<matplotlib.axes._subplots.AxesSubplot at 0x164c9652148>"
      ]
     },
     "execution_count": 1273,
     "metadata": {},
     "output_type": "execute_result"
    },
    {
     "data": {
      "image/png": "[encoded data removed]",
      "text/plain": [
       "<Figure size 432x288 with 1 Axes>"
      ]
     },
     "metadata": {
      "needs_background": "light"
     },
     "output_type": "display_data"
    }
   ],
   "source": [
    "sns.countplot(x='marital', data=bank, hue='deposit')"
   ]
  },
  {
   "cell_type": "code",
   "execution_count": 302,
   "metadata": {},
   "outputs": [
    {
     "data": {
      "text/plain": [
       "university.degree      30.445761\n",
       "high.school            23.871030\n",
       "basic.9y               15.778868\n",
       "professional.course    13.244149\n",
       "basic.4y               10.240847\n",
       "basic.6y                5.564728\n",
       "unknown                 0.810916\n",
       "illiterate              0.043702\n",
       "Name: education, dtype: float64"
      ]
     },
     "execution_count": 302,
     "metadata": {},
     "output_type": "execute_result"
    }
   ],
   "source": [
    "bank.education.value_counts(normalize=True) * 100"
   ]
  },
  {
   "cell_type": "code",
   "execution_count": 303,
   "metadata": {},
   "outputs": [
    {
     "data": {
      "text/plain": [
       "<matplotlib.axes._subplots.AxesSubplot at 0x1ad00e67e10>"
      ]
     },
     "execution_count": 303,
     "metadata": {},
     "output_type": "execute_result"
    },
    {
     "data": {
      "image/png": "[encoded data removed]",
      "text/plain": [
       "<Figure size 1008x432 with 1 Axes>"
      ]
     },
     "metadata": {},
     "output_type": "display_data"
    }
   ],
   "source": [
    "fig=plt.figure(figsize=(14,6))\n",
    "sns.countplot(x='education', data=bank, hue='deposit')"
   ]
  },
  {
   "cell_type": "code",
   "execution_count": 98,
   "metadata": {},
   "outputs": [
    {
     "data": {
      "text/plain": [
       "no     99.992716\n",
       "yes     0.007284\n",
       "Name: default, dtype: float64"
      ]
     },
     "execution_count": 98,
     "metadata": {},
     "output_type": "execute_result"
    }
   ],
   "source": [
    "bank.default.value_counts(normalize=True) * 100"
   ]
  },
  {
   "cell_type": "code",
   "execution_count": 99,
   "metadata": {},
   "outputs": [
    {
     "data": {
      "text/plain": [
       "<matplotlib.axes._subplots.AxesSubplot at 0x1c72af62a48>"
      ]
     },
     "execution_count": 99,
     "metadata": {},
     "output_type": "execute_result"
    },
    {
     "data": {
      "image/png": "[encoded data removed]",
      "text/plain": [
       "<Figure size 432x288 with 1 Axes>"
      ]
     },
     "metadata": {
      "needs_background": "light"
     },
     "output_type": "display_data"
    }
   ],
   "source": [
    "sns.countplot(x='default', data=bank, hue='deposit')"
   ]
  },
  {
   "cell_type": "code",
   "execution_count": 100,
   "metadata": {},
   "outputs": [
    {
     "data": {
      "text/plain": [
       "yes    54.787802\n",
       "no     45.212198\n",
       "Name: housing, dtype: float64"
      ]
     },
     "execution_count": 100,
     "metadata": {},
     "output_type": "execute_result"
    }
   ],
   "source": [
    "bank.housing.value_counts(normalize=True) * 100"
   ]
  },
  {
   "cell_type": "code",
   "execution_count": 101,
   "metadata": {},
   "outputs": [
    {
     "data": {
      "text/plain": [
       "<matplotlib.axes._subplots.AxesSubplot at 0x1c72afb6808>"
      ]
     },
     "execution_count": 101,
     "metadata": {},
     "output_type": "execute_result"
    },
    {
     "data": {
      "image/png": "[encoded data removed]",
      "text/plain": [
       "<Figure size 432x288 with 1 Axes>"
      ]
     },
     "metadata": {
      "needs_background": "light"
     },
     "output_type": "display_data"
    }
   ],
   "source": [
    "sns.countplot(x='housing', data=bank, hue='deposit')"
   ]
  },
  {
   "cell_type": "code",
   "execution_count": 1303,
   "metadata": {},
   "outputs": [
    {
     "data": {
      "text/plain": [
       "no     84.830533\n",
       "yes    15.169467\n",
       "Name: loan, dtype: float64"
      ]
     },
     "execution_count": 1303,
     "metadata": {},
     "output_type": "execute_result"
    }
   ],
   "source": [
    "bank.loan.value_counts(normalize=True) * 100"
   ]
  },
  {
   "cell_type": "code",
   "execution_count": 1304,
   "metadata": {},
   "outputs": [
    {
     "data": {
      "text/plain": [
       "<matplotlib.axes._subplots.AxesSubplot at 0x164c148cd48>"
      ]
     },
     "execution_count": 1304,
     "metadata": {},
     "output_type": "execute_result"
    },
    {
     "data": {
      "image/png": "[encoded data removed]",
      "text/plain": [
       "<Figure size 432x288 with 1 Axes>"
      ]
     },
     "metadata": {
      "needs_background": "light"
     },
     "output_type": "display_data"
    }
   ],
   "source": [
    "sns.countplot(x='loan', data=bank, hue='deposit')"
   ]
  },
  {
   "cell_type": "code",
   "execution_count": 28,
   "metadata": {},
   "outputs": [
    {
     "data": {
      "text/plain": [
       "cellular     63.474798\n",
       "telephone    36.525202\n",
       "Name: contact, dtype: float64"
      ]
     },
     "execution_count": 28,
     "metadata": {},
     "output_type": "execute_result"
    }
   ],
   "source": [
    "bank.contact.value_counts(normalize=True) * 100"
   ]
  },
  {
   "cell_type": "code",
   "execution_count": 311,
   "metadata": {},
   "outputs": [
    {
     "data": {
      "text/plain": [
       "<matplotlib.axes._subplots.AxesSubplot at 0x1ad0082ac50>"
      ]
     },
     "execution_count": 311,
     "metadata": {},
     "output_type": "execute_result"
    },
    {
     "data": {
      "image/png": "[encoded data removed]",
      "text/plain": [
       "<Figure size 432x288 with 1 Axes>"
      ]
     },
     "metadata": {},
     "output_type": "display_data"
    }
   ],
   "source": [
    "sns.countplot(x='contact', data=bank, hue='deposit')"
   ]
  },
  {
   "cell_type": "code",
   "execution_count": 164,
   "metadata": {},
   "outputs": [
    {
     "data": {
      "text/html": [
       "<div>\n",
       "<style scoped>\n",
       "    .dataframe tbody tr th:only-of-type {\n",
       "        vertical-align: middle;\n",
       "    }\n",
       "\n",
       "    .dataframe tbody tr th {\n",
       "        vertical-align: top;\n",
       "    }\n",
       "\n",
       "    .dataframe thead th {\n",
       "        text-align: right;\n",
       "    }\n",
       "</style>\n",
       "<table border=\"1\" class=\"dataframe\">\n",
       "  <thead>\n",
       "    <tr style=\"text-align: right;\">\n",
       "      <th>contact</th>\n",
       "      <th>cellular</th>\n",
       "      <th>telephone</th>\n",
       "      <th>All</th>\n",
       "    </tr>\n",
       "    <tr>\n",
       "      <th>deposit</th>\n",
       "      <th></th>\n",
       "      <th></th>\n",
       "      <th></th>\n",
       "    </tr>\n",
       "  </thead>\n",
       "  <tbody>\n",
       "    <tr>\n",
       "      <td>no</td>\n",
       "      <td>54.120132</td>\n",
       "      <td>34.614451</td>\n",
       "      <td>88.734583</td>\n",
       "    </tr>\n",
       "    <tr>\n",
       "      <td>yes</td>\n",
       "      <td>9.354666</td>\n",
       "      <td>1.910751</td>\n",
       "      <td>11.265417</td>\n",
       "    </tr>\n",
       "    <tr>\n",
       "      <td>All</td>\n",
       "      <td>63.474798</td>\n",
       "      <td>36.525202</td>\n",
       "      <td>100.000000</td>\n",
       "    </tr>\n",
       "  </tbody>\n",
       "</table>\n",
       "</div>"
      ],
      "text/plain": [
       "contact   cellular  telephone         All\n",
       "deposit                                  \n",
       "no       54.120132  34.614451   88.734583\n",
       "yes       9.354666   1.910751   11.265417\n",
       "All      63.474798  36.525202  100.000000"
      ]
     },
     "execution_count": 164,
     "metadata": {},
     "output_type": "execute_result"
    }
   ],
   "source": [
    "contact_cross_perc=(pd.crosstab(bank.deposit, bank.contact, margins=True)/len(bank))*100\n",
    "contact_cross_perc"
   ]
  },
  {
   "cell_type": "code",
   "execution_count": 312,
   "metadata": {},
   "outputs": [
    {
     "data": {
      "text/plain": [
       "may    33.429640\n",
       "jul    17.417694\n",
       "aug    14.999514\n",
       "jun    12.911528\n",
       "nov     9.956784\n",
       "apr     6.390211\n",
       "oct     1.743226\n",
       "sep     1.383898\n",
       "mar     1.325629\n",
       "dec     0.441876\n",
       "Name: month, dtype: float64"
      ]
     },
     "execution_count": 312,
     "metadata": {},
     "output_type": "execute_result"
    }
   ],
   "source": [
    "bank.month.value_counts(normalize=True) * 100"
   ]
  },
  {
   "cell_type": "code",
   "execution_count": 313,
   "metadata": {},
   "outputs": [
    {
     "data": {
      "text/plain": [
       "<matplotlib.axes._subplots.AxesSubplot at 0x1ad02a1e4e0>"
      ]
     },
     "execution_count": 313,
     "metadata": {},
     "output_type": "execute_result"
    },
    {
     "data": {
      "image/png": "[encoded data removed]",
      "text/plain": [
       "<Figure size 1008x432 with 1 Axes>"
      ]
     },
     "metadata": {},
     "output_type": "display_data"
    }
   ],
   "source": [
    "fig=plt.figure(figsize=(14,6))\n",
    "sns.countplot(x='month', data=bank, hue='deposit')"
   ]
  },
  {
   "cell_type": "code",
   "execution_count": 314,
   "metadata": {},
   "outputs": [
    {
     "data": {
      "text/plain": [
       "thu    20.935709\n",
       "mon    20.671069\n",
       "wed    19.748470\n",
       "tue    19.641643\n",
       "fri    19.003108\n",
       "Name: day_of_week, dtype: float64"
      ]
     },
     "execution_count": 314,
     "metadata": {},
     "output_type": "execute_result"
    }
   ],
   "source": [
    "bank.day_of_week.value_counts(normalize=True) * 100"
   ]
  },
  {
   "cell_type": "code",
   "execution_count": 315,
   "metadata": {},
   "outputs": [
    {
     "data": {
      "text/plain": [
       "<matplotlib.axes._subplots.AxesSubplot at 0x1ad79579898>"
      ]
     },
     "execution_count": 315,
     "metadata": {},
     "output_type": "execute_result"
    },
    {
     "data": {
      "image/png": "[encoded data removed]",
      "text/plain": [
       "<Figure size 1008x432 with 1 Axes>"
      ]
     },
     "metadata": {},
     "output_type": "display_data"
    }
   ],
   "source": [
    "fig=plt.figure(figsize=(14,6))\n",
    "sns.countplot(x='day_of_week', data=bank, hue='deposit')"
   ]
  },
  {
   "cell_type": "code",
   "execution_count": 316,
   "metadata": {},
   "outputs": [
    {
     "data": {
      "text/plain": [
       "nonexistent    86.343110\n",
       "failure        10.323395\n",
       "success         3.333495\n",
       "Name: poutcome, dtype: float64"
      ]
     },
     "execution_count": 316,
     "metadata": {},
     "output_type": "execute_result"
    }
   ],
   "source": [
    "bank.poutcome.value_counts(normalize=True) * 100"
   ]
  },
  {
   "cell_type": "code",
   "execution_count": 317,
   "metadata": {},
   "outputs": [
    {
     "data": {
      "text/plain": [
       "<matplotlib.axes._subplots.AxesSubplot at 0x1ad00f15160>"
      ]
     },
     "execution_count": 317,
     "metadata": {},
     "output_type": "execute_result"
    },
    {
     "data": {
      "image/png": "[encoded data removed]",
      "text/plain": [
       "<Figure size 432x288 with 1 Axes>"
      ]
     },
     "metadata": {},
     "output_type": "display_data"
    }
   ],
   "source": [
    "sns.countplot(x='poutcome', data=bank, hue='deposit')\n",
    "# Below plot indicates most of the cusotmers are new customers as their outcome of previous campaigns does not exist.\n",
    "# But we can see that customers who had a successful result, did subcribe to the term deposit."
   ]
  },
  {
   "cell_type": "code",
   "execution_count": 318,
   "metadata": {},
   "outputs": [
    {
     "data": {
      "image/png": "[encoded data removed]",
      "text/plain": [
       "<Figure size 720x576 with 1 Axes>"
      ]
     },
     "metadata": {},
     "output_type": "display_data"
    }
   ],
   "source": [
    "plt.figure(figsize=(10,8))\n",
    "sns.boxplot(data=bank, x=\"deposit\", y=\"age\")\n",
    "plt.show()\n",
    "# Median is almost same in both cases, so age does not seem to be an important factor \n",
    "# in deciding if the customer will opt for term deposit"
   ]
  },
  {
   "cell_type": "code",
   "execution_count": 319,
   "metadata": {},
   "outputs": [
    {
     "name": "stderr",
     "output_type": "stream",
     "text": [
      "C:\\ProgramData\\Anaconda3\\lib\\site-packages\\matplotlib\\axes\\_axes.py:6462: UserWarning: The 'normed' kwarg is deprecated, and has been replaced by the 'density' kwarg.\n",
      "  warnings.warn(\"The 'normed' kwarg is deprecated, and has been \"\n"
     ]
    },
    {
     "data": {
      "text/plain": [
       "<matplotlib.axes._subplots.AxesSubplot at 0x1ad01191278>"
      ]
     },
     "execution_count": 319,
     "metadata": {},
     "output_type": "execute_result"
    },
    {
     "data": {
      "image/png": "[encoded data removed]",
      "text/plain": [
       "<Figure size 720x576 with 1 Axes>"
      ]
     },
     "metadata": {},
     "output_type": "display_data"
    }
   ],
   "source": [
    "plt.figure(figsize=(10,8))\n",
    "sns.distplot(bank[\"age\"])"
   ]
  },
  {
   "cell_type": "code",
   "execution_count": 214,
   "metadata": {},
   "outputs": [
    {
     "data": {
      "text/html": [
       "<div>\n",
       "<style scoped>\n",
       "    .dataframe tbody tr th:only-of-type {\n",
       "        vertical-align: middle;\n",
       "    }\n",
       "\n",
       "    .dataframe tbody tr th {\n",
       "        vertical-align: top;\n",
       "    }\n",
       "\n",
       "    .dataframe thead th {\n",
       "        text-align: right;\n",
       "    }\n",
       "</style>\n",
       "<table border=\"1\" class=\"dataframe\">\n",
       "  <thead>\n",
       "    <tr style=\"text-align: right;\">\n",
       "      <th></th>\n",
       "      <th>age</th>\n",
       "      <th>duration</th>\n",
       "      <th>campaign</th>\n",
       "      <th>pdays</th>\n",
       "      <th>previous</th>\n",
       "      <th>emp.var.rate</th>\n",
       "      <th>cons.price.idx</th>\n",
       "      <th>cons.conf.idx</th>\n",
       "      <th>euribor3m</th>\n",
       "      <th>nr.employed</th>\n",
       "    </tr>\n",
       "  </thead>\n",
       "  <tbody>\n",
       "    <tr>\n",
       "      <td>count</td>\n",
       "      <td>41188.00000</td>\n",
       "      <td>41188.000000</td>\n",
       "      <td>41188.000000</td>\n",
       "      <td>41188.000000</td>\n",
       "      <td>41188.000000</td>\n",
       "      <td>41188.000000</td>\n",
       "      <td>41188.000000</td>\n",
       "      <td>41188.000000</td>\n",
       "      <td>41188.000000</td>\n",
       "      <td>41188.000000</td>\n",
       "    </tr>\n",
       "    <tr>\n",
       "      <td>mean</td>\n",
       "      <td>40.02406</td>\n",
       "      <td>258.285010</td>\n",
       "      <td>2.567593</td>\n",
       "      <td>962.475454</td>\n",
       "      <td>0.172963</td>\n",
       "      <td>0.081886</td>\n",
       "      <td>93.575664</td>\n",
       "      <td>-40.502600</td>\n",
       "      <td>3.621291</td>\n",
       "      <td>5167.035911</td>\n",
       "    </tr>\n",
       "    <tr>\n",
       "      <td>std</td>\n",
       "      <td>10.42125</td>\n",
       "      <td>259.279249</td>\n",
       "      <td>2.770014</td>\n",
       "      <td>186.910907</td>\n",
       "      <td>0.494901</td>\n",
       "      <td>1.570960</td>\n",
       "      <td>0.578840</td>\n",
       "      <td>4.628198</td>\n",
       "      <td>1.734447</td>\n",
       "      <td>72.251528</td>\n",
       "    </tr>\n",
       "    <tr>\n",
       "      <td>min</td>\n",
       "      <td>17.00000</td>\n",
       "      <td>0.000000</td>\n",
       "      <td>1.000000</td>\n",
       "      <td>0.000000</td>\n",
       "      <td>0.000000</td>\n",
       "      <td>-3.400000</td>\n",
       "      <td>92.201000</td>\n",
       "      <td>-50.800000</td>\n",
       "      <td>0.634000</td>\n",
       "      <td>4963.600000</td>\n",
       "    </tr>\n",
       "    <tr>\n",
       "      <td>25%</td>\n",
       "      <td>32.00000</td>\n",
       "      <td>102.000000</td>\n",
       "      <td>1.000000</td>\n",
       "      <td>999.000000</td>\n",
       "      <td>0.000000</td>\n",
       "      <td>-1.800000</td>\n",
       "      <td>93.075000</td>\n",
       "      <td>-42.700000</td>\n",
       "      <td>1.344000</td>\n",
       "      <td>5099.100000</td>\n",
       "    </tr>\n",
       "    <tr>\n",
       "      <td>50%</td>\n",
       "      <td>38.00000</td>\n",
       "      <td>180.000000</td>\n",
       "      <td>2.000000</td>\n",
       "      <td>999.000000</td>\n",
       "      <td>0.000000</td>\n",
       "      <td>1.100000</td>\n",
       "      <td>93.749000</td>\n",
       "      <td>-41.800000</td>\n",
       "      <td>4.857000</td>\n",
       "      <td>5191.000000</td>\n",
       "    </tr>\n",
       "    <tr>\n",
       "      <td>75%</td>\n",
       "      <td>47.00000</td>\n",
       "      <td>319.000000</td>\n",
       "      <td>3.000000</td>\n",
       "      <td>999.000000</td>\n",
       "      <td>0.000000</td>\n",
       "      <td>1.400000</td>\n",
       "      <td>93.994000</td>\n",
       "      <td>-36.400000</td>\n",
       "      <td>4.961000</td>\n",
       "      <td>5228.100000</td>\n",
       "    </tr>\n",
       "    <tr>\n",
       "      <td>max</td>\n",
       "      <td>98.00000</td>\n",
       "      <td>4918.000000</td>\n",
       "      <td>56.000000</td>\n",
       "      <td>999.000000</td>\n",
       "      <td>7.000000</td>\n",
       "      <td>1.400000</td>\n",
       "      <td>94.767000</td>\n",
       "      <td>-26.900000</td>\n",
       "      <td>5.045000</td>\n",
       "      <td>5228.100000</td>\n",
       "    </tr>\n",
       "  </tbody>\n",
       "</table>\n",
       "</div>"
      ],
      "text/plain": [
       "               age      duration      campaign         pdays      previous  \\\n",
       "count  41188.00000  41188.000000  41188.000000  41188.000000  41188.000000   \n",
       "mean      40.02406    258.285010      2.567593    962.475454      0.172963   \n",
       "std       10.42125    259.279249      2.770014    186.910907      0.494901   \n",
       "min       17.00000      0.000000      1.000000      0.000000      0.000000   \n",
       "25%       32.00000    102.000000      1.000000    999.000000      0.000000   \n",
       "50%       38.00000    180.000000      2.000000    999.000000      0.000000   \n",
       "75%       47.00000    319.000000      3.000000    999.000000      0.000000   \n",
       "max       98.00000   4918.000000     56.000000    999.000000      7.000000   \n",
       "\n",
       "       emp.var.rate  cons.price.idx  cons.conf.idx     euribor3m   nr.employed  \n",
       "count  41188.000000    41188.000000   41188.000000  41188.000000  41188.000000  \n",
       "mean       0.081886       93.575664     -40.502600      3.621291   5167.035911  \n",
       "std        1.570960        0.578840       4.628198      1.734447     72.251528  \n",
       "min       -3.400000       92.201000     -50.800000      0.634000   4963.600000  \n",
       "25%       -1.800000       93.075000     -42.700000      1.344000   5099.100000  \n",
       "50%        1.100000       93.749000     -41.800000      4.857000   5191.000000  \n",
       "75%        1.400000       93.994000     -36.400000      4.961000   5228.100000  \n",
       "max        1.400000       94.767000     -26.900000      5.045000   5228.100000  "
      ]
     },
     "execution_count": 214,
     "metadata": {},
     "output_type": "execute_result"
    }
   ],
   "source": [
    "bank.describe()"
   ]
  },
  {
   "cell_type": "code",
   "execution_count": 583,
   "metadata": {},
   "outputs": [
    {
     "data": {
      "text/plain": [
       "age               0.784697\n",
       "duration          3.263141\n",
       "campaign          4.762507\n",
       "pdays            -4.922190\n",
       "previous          3.832042\n",
       "emp.var.rate     -0.724096\n",
       "cons.price.idx   -0.230888\n",
       "cons.conf.idx     0.303180\n",
       "euribor3m        -0.709188\n",
       "nr.employed      -1.044262\n",
       "dtype: float64"
      ]
     },
     "execution_count": 583,
     "metadata": {},
     "output_type": "execute_result"
    }
   ],
   "source": [
    "# Check skewness of numerical data\n",
    "bank.skew(axis=0)\n",
    "# cons.price.idx, cons.conf.idx are normally distributed\n",
    "# Rest all columns are skewed"
   ]
  },
  {
   "cell_type": "code",
   "execution_count": 584,
   "metadata": {},
   "outputs": [
    {
     "data": {
      "text/plain": [
       "age               0.715694\n",
       "duration          3.294781\n",
       "campaign          4.003185\n",
       "pdays            -4.775139\n",
       "previous          4.022979\n",
       "emp.var.rate     -0.727688\n",
       "cons.price.idx   -0.216641\n",
       "cons.conf.idx     0.287309\n",
       "euribor3m        -0.715080\n",
       "nr.employed      -1.075877\n",
       "dtype: float64"
      ]
     },
     "execution_count": 584,
     "metadata": {},
     "output_type": "execute_result"
    }
   ],
   "source": [
    "bank_test.skew(axis=0)"
   ]
  },
  {
   "cell_type": "code",
   "execution_count": 585,
   "metadata": {},
   "outputs": [
    {
     "data": {
      "image/png": "[encoded data removed]",
      "text/plain": [
       "<Figure size 1080x1080 with 12 Axes>"
      ]
     },
     "metadata": {
      "needs_background": "light"
     },
     "output_type": "display_data"
    }
   ],
   "source": [
    "bank.hist(figsize=(15,15))\n",
    "plt.show()"
   ]
  },
  {
   "cell_type": "code",
   "execution_count": 320,
   "metadata": {},
   "outputs": [
    {
     "data": {
      "image/png": "[encoded data removed]",
      "text/plain": [
       "<Figure size 864x576 with 1 Axes>"
      ]
     },
     "metadata": {},
     "output_type": "display_data"
    }
   ],
   "source": [
    "plt.figure(figsize=(12,8))\n",
    "sns.boxplot(data=bank, x=\"deposit\", y=\"duration\")\n",
    "plt.show()"
   ]
  },
  {
   "cell_type": "code",
   "execution_count": 321,
   "metadata": {},
   "outputs": [
    {
     "name": "stderr",
     "output_type": "stream",
     "text": [
      "C:\\ProgramData\\Anaconda3\\lib\\site-packages\\matplotlib\\axes\\_axes.py:6462: UserWarning: The 'normed' kwarg is deprecated, and has been replaced by the 'density' kwarg.\n",
      "  warnings.warn(\"The 'normed' kwarg is deprecated, and has been \"\n"
     ]
    },
    {
     "data": {
      "text/plain": [
       "<matplotlib.axes._subplots.AxesSubplot at 0x1ad02eea080>"
      ]
     },
     "execution_count": 321,
     "metadata": {},
     "output_type": "execute_result"
    },
    {
     "data": {
      "image/png": "[encoded data removed]",
      "text/plain": [
       "<Figure size 720x576 with 1 Axes>"
      ]
     },
     "metadata": {},
     "output_type": "display_data"
    }
   ],
   "source": [
    "plt.figure(figsize=(10,8))\n",
    "sns.distplot(bank[\"duration\"])"
   ]
  },
  {
   "cell_type": "code",
   "execution_count": 322,
   "metadata": {},
   "outputs": [
    {
     "data": {
      "image/png": "[encoded data removed]",
      "text/plain": [
       "<Figure size 1008x720 with 1 Axes>"
      ]
     },
     "metadata": {},
     "output_type": "display_data"
    }
   ],
   "source": [
    "plt.figure(figsize=(14,10))\n",
    "sns.boxplot(data=bank, x=\"deposit\", y=\"campaign\")\n",
    "plt.show()    # Outliers"
   ]
  },
  {
   "cell_type": "code",
   "execution_count": 323,
   "metadata": {},
   "outputs": [
    {
     "name": "stderr",
     "output_type": "stream",
     "text": [
      "C:\\ProgramData\\Anaconda3\\lib\\site-packages\\matplotlib\\axes\\_axes.py:6462: UserWarning: The 'normed' kwarg is deprecated, and has been replaced by the 'density' kwarg.\n",
      "  warnings.warn(\"The 'normed' kwarg is deprecated, and has been \"\n"
     ]
    },
    {
     "data": {
      "text/plain": [
       "<matplotlib.axes._subplots.AxesSubplot at 0x1ad01133f60>"
      ]
     },
     "execution_count": 323,
     "metadata": {},
     "output_type": "execute_result"
    },
    {
     "data": {
      "image/png": "[encoded data removed]",
      "text/plain": [
       "<Figure size 720x576 with 1 Axes>"
      ]
     },
     "metadata": {},
     "output_type": "display_data"
    }
   ],
   "source": [
    "plt.figure(figsize=(10,8))\n",
    "sns.distplot(bank[\"campaign\"])"
   ]
  },
  {
   "cell_type": "code",
   "execution_count": 324,
   "metadata": {},
   "outputs": [
    {
     "data": {
      "text/html": [
       "<div>\n",
       "<style scoped>\n",
       "    .dataframe tbody tr th:only-of-type {\n",
       "        vertical-align: middle;\n",
       "    }\n",
       "\n",
       "    .dataframe tbody tr th {\n",
       "        vertical-align: top;\n",
       "    }\n",
       "\n",
       "    .dataframe thead th {\n",
       "        text-align: right;\n",
       "    }\n",
       "</style>\n",
       "<table border=\"1\" class=\"dataframe\">\n",
       "  <thead>\n",
       "    <tr style=\"text-align: right;\">\n",
       "      <th>campaign</th>\n",
       "      <th>1</th>\n",
       "      <th>2</th>\n",
       "      <th>3</th>\n",
       "      <th>4</th>\n",
       "      <th>5</th>\n",
       "      <th>6</th>\n",
       "      <th>7</th>\n",
       "      <th>8</th>\n",
       "      <th>9</th>\n",
       "      <th>10</th>\n",
       "      <th>...</th>\n",
       "      <th>34</th>\n",
       "      <th>35</th>\n",
       "      <th>37</th>\n",
       "      <th>39</th>\n",
       "      <th>40</th>\n",
       "      <th>41</th>\n",
       "      <th>42</th>\n",
       "      <th>43</th>\n",
       "      <th>56</th>\n",
       "      <th>All</th>\n",
       "    </tr>\n",
       "    <tr>\n",
       "      <th>deposit</th>\n",
       "      <th></th>\n",
       "      <th></th>\n",
       "      <th></th>\n",
       "      <th></th>\n",
       "      <th></th>\n",
       "      <th></th>\n",
       "      <th></th>\n",
       "      <th></th>\n",
       "      <th></th>\n",
       "      <th></th>\n",
       "      <th></th>\n",
       "      <th></th>\n",
       "      <th></th>\n",
       "      <th></th>\n",
       "      <th></th>\n",
       "      <th></th>\n",
       "      <th></th>\n",
       "      <th></th>\n",
       "      <th></th>\n",
       "      <th></th>\n",
       "      <th></th>\n",
       "    </tr>\n",
       "  </thead>\n",
       "  <tbody>\n",
       "    <tr>\n",
       "      <th>no</th>\n",
       "      <td>37.248713</td>\n",
       "      <td>22.722638</td>\n",
       "      <td>11.573759</td>\n",
       "      <td>5.831796</td>\n",
       "      <td>3.590852</td>\n",
       "      <td>2.194814</td>\n",
       "      <td>1.434884</td>\n",
       "      <td>0.929882</td>\n",
       "      <td>0.645819</td>\n",
       "      <td>0.517141</td>\n",
       "      <td>...</td>\n",
       "      <td>0.007284</td>\n",
       "      <td>0.012139</td>\n",
       "      <td>0.002428</td>\n",
       "      <td>0.002428</td>\n",
       "      <td>0.004856</td>\n",
       "      <td>0.002428</td>\n",
       "      <td>0.004856</td>\n",
       "      <td>0.004856</td>\n",
       "      <td>0.002428</td>\n",
       "      <td>88.734583</td>\n",
       "    </tr>\n",
       "    <tr>\n",
       "      <th>yes</th>\n",
       "      <td>5.584151</td>\n",
       "      <td>2.940177</td>\n",
       "      <td>1.393610</td>\n",
       "      <td>0.604545</td>\n",
       "      <td>0.291347</td>\n",
       "      <td>0.182092</td>\n",
       "      <td>0.092260</td>\n",
       "      <td>0.041274</td>\n",
       "      <td>0.041274</td>\n",
       "      <td>0.029135</td>\n",
       "      <td>...</td>\n",
       "      <td>0.000000</td>\n",
       "      <td>0.000000</td>\n",
       "      <td>0.000000</td>\n",
       "      <td>0.000000</td>\n",
       "      <td>0.000000</td>\n",
       "      <td>0.000000</td>\n",
       "      <td>0.000000</td>\n",
       "      <td>0.000000</td>\n",
       "      <td>0.000000</td>\n",
       "      <td>11.265417</td>\n",
       "    </tr>\n",
       "    <tr>\n",
       "      <th>All</th>\n",
       "      <td>42.832864</td>\n",
       "      <td>25.662814</td>\n",
       "      <td>12.967369</td>\n",
       "      <td>6.436341</td>\n",
       "      <td>3.882199</td>\n",
       "      <td>2.376906</td>\n",
       "      <td>1.527144</td>\n",
       "      <td>0.971157</td>\n",
       "      <td>0.687093</td>\n",
       "      <td>0.546276</td>\n",
       "      <td>...</td>\n",
       "      <td>0.007284</td>\n",
       "      <td>0.012139</td>\n",
       "      <td>0.002428</td>\n",
       "      <td>0.002428</td>\n",
       "      <td>0.004856</td>\n",
       "      <td>0.002428</td>\n",
       "      <td>0.004856</td>\n",
       "      <td>0.004856</td>\n",
       "      <td>0.002428</td>\n",
       "      <td>100.000000</td>\n",
       "    </tr>\n",
       "  </tbody>\n",
       "</table>\n",
       "<p>3 rows × 43 columns</p>\n",
       "</div>"
      ],
      "text/plain": [
       "campaign          1          2          3         4         5         6  \\\n",
       "deposit                                                                   \n",
       "no        37.248713  22.722638  11.573759  5.831796  3.590852  2.194814   \n",
       "yes        5.584151   2.940177   1.393610  0.604545  0.291347  0.182092   \n",
       "All       42.832864  25.662814  12.967369  6.436341  3.882199  2.376906   \n",
       "\n",
       "campaign         7         8         9        10     ...            34  \\\n",
       "deposit                                              ...                 \n",
       "no        1.434884  0.929882  0.645819  0.517141     ...      0.007284   \n",
       "yes       0.092260  0.041274  0.041274  0.029135     ...      0.000000   \n",
       "All       1.527144  0.971157  0.687093  0.546276     ...      0.007284   \n",
       "\n",
       "campaign        35        37        39        40        41        42  \\\n",
       "deposit                                                                \n",
       "no        0.012139  0.002428  0.002428  0.004856  0.002428  0.004856   \n",
       "yes       0.000000  0.000000  0.000000  0.000000  0.000000  0.000000   \n",
       "All       0.012139  0.002428  0.002428  0.004856  0.002428  0.004856   \n",
       "\n",
       "campaign        43        56         All  \n",
       "deposit                                   \n",
       "no        0.004856  0.002428   88.734583  \n",
       "yes       0.000000  0.000000   11.265417  \n",
       "All       0.004856  0.002428  100.000000  \n",
       "\n",
       "[3 rows x 43 columns]"
      ]
     },
     "execution_count": 324,
     "metadata": {},
     "output_type": "execute_result"
    }
   ],
   "source": [
    "camp_cross_perc=(pd.crosstab(bank.deposit, bank.campaign, margins=True)/len(bank))*100\n",
    "camp_cross_perc"
   ]
  },
  {
   "cell_type": "code",
   "execution_count": 347,
   "metadata": {},
   "outputs": [
    {
     "data": {
      "text/plain": [
       "1     17632\n",
       "2     10568\n",
       "3      5340\n",
       "4      2650\n",
       "5      1599\n",
       "6       979\n",
       "7       629\n",
       "8       400\n",
       "9       283\n",
       "10      225\n",
       "11      177\n",
       "12      125\n",
       "13       92\n",
       "14       69\n",
       "17       58\n",
       "15       51\n",
       "16       51\n",
       "18       33\n",
       "20       30\n",
       "19       26\n",
       "21       24\n",
       "22       17\n",
       "23       16\n",
       "24       15\n",
       "27       11\n",
       "29       10\n",
       "25        8\n",
       "26        8\n",
       "28        8\n",
       "30        7\n",
       "31        7\n",
       "35        5\n",
       "33        4\n",
       "32        4\n",
       "34        3\n",
       "40        2\n",
       "42        2\n",
       "43        2\n",
       "37        1\n",
       "39        1\n",
       "41        1\n",
       "56        1\n",
       "Name: campaign, dtype: int64"
      ]
     },
     "execution_count": 347,
     "metadata": {},
     "output_type": "execute_result"
    }
   ],
   "source": [
    "bank.campaign.value_counts()"
   ]
  },
  {
   "cell_type": "code",
   "execution_count": 326,
   "metadata": {},
   "outputs": [
    {
     "name": "stderr",
     "output_type": "stream",
     "text": [
      "C:\\ProgramData\\Anaconda3\\lib\\site-packages\\matplotlib\\axes\\_axes.py:6462: UserWarning: The 'normed' kwarg is deprecated, and has been replaced by the 'density' kwarg.\n",
      "  warnings.warn(\"The 'normed' kwarg is deprecated, and has been \"\n"
     ]
    },
    {
     "data": {
      "text/plain": [
       "<matplotlib.axes._subplots.AxesSubplot at 0x1ad0368aef0>"
      ]
     },
     "execution_count": 326,
     "metadata": {},
     "output_type": "execute_result"
    },
    {
     "data": {
      "image/png": "[encoded data removed]",
      "text/plain": [
       "<Figure size 720x576 with 1 Axes>"
      ]
     },
     "metadata": {},
     "output_type": "display_data"
    }
   ],
   "source": [
    "plt.figure(figsize=(10,8))\n",
    "sns.distplot(bank[\"pdays\"])"
   ]
  },
  {
   "cell_type": "code",
   "execution_count": 732,
   "metadata": {},
   "outputs": [
    {
     "data": {
      "text/plain": [
       "30    39673\n",
       "3       439\n",
       "6       412\n",
       "4       118\n",
       "9        64\n",
       "2        61\n",
       "7        60\n",
       "12       58\n",
       "10       52\n",
       "5        46\n",
       "13       36\n",
       "11       28\n",
       "1        26\n",
       "15       24\n",
       "14       20\n",
       "8        18\n",
       "0        15\n",
       "16       11\n",
       "17        8\n",
       "18        7\n",
       "19        3\n",
       "22        3\n",
       "21        2\n",
       "27        1\n",
       "20        1\n",
       "25        1\n",
       "26        1\n",
       "Name: pdays, dtype: int64"
      ]
     },
     "execution_count": 732,
     "metadata": {},
     "output_type": "execute_result"
    }
   ],
   "source": [
    "bank.pdays.value_counts()    # Majority of the customers were not contacted previously"
   ]
  },
  {
   "cell_type": "code",
   "execution_count": 731,
   "metadata": {},
   "outputs": [
    {
     "data": {
      "text/html": [
       "<div>\n",
       "<style scoped>\n",
       "    .dataframe tbody tr th:only-of-type {\n",
       "        vertical-align: middle;\n",
       "    }\n",
       "\n",
       "    .dataframe tbody tr th {\n",
       "        vertical-align: top;\n",
       "    }\n",
       "\n",
       "    .dataframe thead th {\n",
       "        text-align: right;\n",
       "    }\n",
       "</style>\n",
       "<table border=\"1\" class=\"dataframe\">\n",
       "  <thead>\n",
       "    <tr style=\"text-align: right;\">\n",
       "      <th>pdays</th>\n",
       "      <th>0</th>\n",
       "      <th>1</th>\n",
       "      <th>2</th>\n",
       "      <th>3</th>\n",
       "      <th>4</th>\n",
       "      <th>5</th>\n",
       "      <th>6</th>\n",
       "      <th>7</th>\n",
       "      <th>8</th>\n",
       "      <th>9</th>\n",
       "      <th>...</th>\n",
       "      <th>17</th>\n",
       "      <th>18</th>\n",
       "      <th>19</th>\n",
       "      <th>20</th>\n",
       "      <th>21</th>\n",
       "      <th>22</th>\n",
       "      <th>25</th>\n",
       "      <th>26</th>\n",
       "      <th>27</th>\n",
       "      <th>30</th>\n",
       "    </tr>\n",
       "    <tr>\n",
       "      <th>deposit</th>\n",
       "      <th></th>\n",
       "      <th></th>\n",
       "      <th></th>\n",
       "      <th></th>\n",
       "      <th></th>\n",
       "      <th></th>\n",
       "      <th></th>\n",
       "      <th></th>\n",
       "      <th></th>\n",
       "      <th></th>\n",
       "      <th></th>\n",
       "      <th></th>\n",
       "      <th></th>\n",
       "      <th></th>\n",
       "      <th></th>\n",
       "      <th></th>\n",
       "      <th></th>\n",
       "      <th></th>\n",
       "      <th></th>\n",
       "      <th></th>\n",
       "      <th></th>\n",
       "    </tr>\n",
       "  </thead>\n",
       "  <tbody>\n",
       "    <tr>\n",
       "      <td>no</td>\n",
       "      <td>5</td>\n",
       "      <td>18</td>\n",
       "      <td>24</td>\n",
       "      <td>141</td>\n",
       "      <td>55</td>\n",
       "      <td>17</td>\n",
       "      <td>123</td>\n",
       "      <td>20</td>\n",
       "      <td>6</td>\n",
       "      <td>29</td>\n",
       "      <td>...</td>\n",
       "      <td>6</td>\n",
       "      <td>3</td>\n",
       "      <td>2</td>\n",
       "      <td>1</td>\n",
       "      <td>0</td>\n",
       "      <td>1</td>\n",
       "      <td>0</td>\n",
       "      <td>0</td>\n",
       "      <td>0</td>\n",
       "      <td>36000</td>\n",
       "    </tr>\n",
       "    <tr>\n",
       "      <td>yes</td>\n",
       "      <td>10</td>\n",
       "      <td>8</td>\n",
       "      <td>37</td>\n",
       "      <td>298</td>\n",
       "      <td>63</td>\n",
       "      <td>29</td>\n",
       "      <td>289</td>\n",
       "      <td>40</td>\n",
       "      <td>12</td>\n",
       "      <td>35</td>\n",
       "      <td>...</td>\n",
       "      <td>2</td>\n",
       "      <td>4</td>\n",
       "      <td>1</td>\n",
       "      <td>0</td>\n",
       "      <td>2</td>\n",
       "      <td>2</td>\n",
       "      <td>1</td>\n",
       "      <td>1</td>\n",
       "      <td>1</td>\n",
       "      <td>3673</td>\n",
       "    </tr>\n",
       "  </tbody>\n",
       "</table>\n",
       "<p>2 rows × 27 columns</p>\n",
       "</div>"
      ],
      "text/plain": [
       "pdays    0   1   2    3   4   5    6   7   8   9   ...  17  18  19  20  21  \\\n",
       "deposit                                            ...                       \n",
       "no        5  18  24  141  55  17  123  20   6  29  ...   6   3   2   1   0   \n",
       "yes      10   8  37  298  63  29  289  40  12  35  ...   2   4   1   0   2   \n",
       "\n",
       "pdays    22  25  26  27     30  \n",
       "deposit                         \n",
       "no        1   0   0   0  36000  \n",
       "yes       2   1   1   1   3673  \n",
       "\n",
       "[2 rows x 27 columns]"
      ]
     },
     "execution_count": 731,
     "metadata": {},
     "output_type": "execute_result"
    }
   ],
   "source": [
    "pd.crosstab(bank.deposit, bank.pdays)"
   ]
  },
  {
   "cell_type": "code",
   "execution_count": 729,
   "metadata": {},
   "outputs": [],
   "source": [
    "bank.pdays.replace({999 : 30}, inplace=True)"
   ]
  },
  {
   "cell_type": "code",
   "execution_count": 730,
   "metadata": {},
   "outputs": [],
   "source": [
    "bank_test.pdays.replace({999 : 30}, inplace=True)"
   ]
  },
  {
   "cell_type": "code",
   "execution_count": 328,
   "metadata": {},
   "outputs": [
    {
     "data": {
      "image/png": "[encoded data removed]",
      "text/plain": [
       "<Figure size 1008x720 with 1 Axes>"
      ]
     },
     "metadata": {},
     "output_type": "display_data"
    }
   ],
   "source": [
    "plt.figure(figsize=(14,10))\n",
    "sns.boxplot(data=bank, x=\"deposit\", y=\"previous\")\n",
    "plt.show()"
   ]
  },
  {
   "cell_type": "code",
   "execution_count": 329,
   "metadata": {},
   "outputs": [
    {
     "name": "stderr",
     "output_type": "stream",
     "text": [
      "C:\\ProgramData\\Anaconda3\\lib\\site-packages\\matplotlib\\axes\\_axes.py:6462: UserWarning: The 'normed' kwarg is deprecated, and has been replaced by the 'density' kwarg.\n",
      "  warnings.warn(\"The 'normed' kwarg is deprecated, and has been \"\n"
     ]
    },
    {
     "data": {
      "text/plain": [
       "<matplotlib.axes._subplots.AxesSubplot at 0x1ad0362dcc0>"
      ]
     },
     "execution_count": 329,
     "metadata": {},
     "output_type": "execute_result"
    },
    {
     "data": {
      "image/png": "[encoded data removed]",
      "text/plain": [
       "<Figure size 720x576 with 1 Axes>"
      ]
     },
     "metadata": {},
     "output_type": "display_data"
    }
   ],
   "source": [
    "plt.figure(figsize=(10,8))\n",
    "sns.distplot(bank[\"previous\"])"
   ]
  },
  {
   "cell_type": "code",
   "execution_count": 330,
   "metadata": {},
   "outputs": [
    {
     "data": {
      "text/html": [
       "<div>\n",
       "<style scoped>\n",
       "    .dataframe tbody tr th:only-of-type {\n",
       "        vertical-align: middle;\n",
       "    }\n",
       "\n",
       "    .dataframe tbody tr th {\n",
       "        vertical-align: top;\n",
       "    }\n",
       "\n",
       "    .dataframe thead th {\n",
       "        text-align: right;\n",
       "    }\n",
       "</style>\n",
       "<table border=\"1\" class=\"dataframe\">\n",
       "  <thead>\n",
       "    <tr style=\"text-align: right;\">\n",
       "      <th>previous</th>\n",
       "      <th>0</th>\n",
       "      <th>1</th>\n",
       "      <th>2</th>\n",
       "      <th>3</th>\n",
       "      <th>4</th>\n",
       "      <th>5</th>\n",
       "      <th>6</th>\n",
       "      <th>7</th>\n",
       "      <th>All</th>\n",
       "    </tr>\n",
       "    <tr>\n",
       "      <th>deposit</th>\n",
       "      <th></th>\n",
       "      <th></th>\n",
       "      <th></th>\n",
       "      <th></th>\n",
       "      <th></th>\n",
       "      <th></th>\n",
       "      <th></th>\n",
       "      <th></th>\n",
       "      <th></th>\n",
       "    </tr>\n",
       "  </thead>\n",
       "  <tbody>\n",
       "    <tr>\n",
       "      <th>no</th>\n",
       "      <td>78.717102</td>\n",
       "      <td>8.725842</td>\n",
       "      <td>0.980868</td>\n",
       "      <td>0.213654</td>\n",
       "      <td>0.077693</td>\n",
       "      <td>0.012139</td>\n",
       "      <td>0.004856</td>\n",
       "      <td>0.002428</td>\n",
       "      <td>88.734583</td>\n",
       "    </tr>\n",
       "    <tr>\n",
       "      <th>yes</th>\n",
       "      <td>7.626008</td>\n",
       "      <td>2.347771</td>\n",
       "      <td>0.849762</td>\n",
       "      <td>0.310770</td>\n",
       "      <td>0.092260</td>\n",
       "      <td>0.031563</td>\n",
       "      <td>0.007284</td>\n",
       "      <td>0.000000</td>\n",
       "      <td>11.265417</td>\n",
       "    </tr>\n",
       "    <tr>\n",
       "      <th>All</th>\n",
       "      <td>86.343110</td>\n",
       "      <td>11.073614</td>\n",
       "      <td>1.830630</td>\n",
       "      <td>0.524425</td>\n",
       "      <td>0.169952</td>\n",
       "      <td>0.043702</td>\n",
       "      <td>0.012139</td>\n",
       "      <td>0.002428</td>\n",
       "      <td>100.000000</td>\n",
       "    </tr>\n",
       "  </tbody>\n",
       "</table>\n",
       "</div>"
      ],
      "text/plain": [
       "previous          0          1         2         3         4         5  \\\n",
       "deposit                                                                  \n",
       "no        78.717102   8.725842  0.980868  0.213654  0.077693  0.012139   \n",
       "yes        7.626008   2.347771  0.849762  0.310770  0.092260  0.031563   \n",
       "All       86.343110  11.073614  1.830630  0.524425  0.169952  0.043702   \n",
       "\n",
       "previous         6         7         All  \n",
       "deposit                                   \n",
       "no        0.004856  0.002428   88.734583  \n",
       "yes       0.007284  0.000000   11.265417  \n",
       "All       0.012139  0.002428  100.000000  "
      ]
     },
     "execution_count": 330,
     "metadata": {},
     "output_type": "execute_result"
    }
   ],
   "source": [
    "prev_cross_perc=(pd.crosstab(bank.deposit, bank.previous, margins=True)/len(bank))*100\n",
    "prev_cross_perc"
   ]
  },
  {
   "cell_type": "code",
   "execution_count": 139,
   "metadata": {},
   "outputs": [
    {
     "data": {
      "image/png": "[encoded data removed]",
      "text/plain": [
       "<Figure size 864x576 with 1 Axes>"
      ]
     },
     "metadata": {
      "needs_background": "light"
     },
     "output_type": "display_data"
    }
   ],
   "source": [
    "plt.figure(figsize=(12,8))\n",
    "sns.boxplot(data=bank, x=\"deposit\", y=\"emp.var.rate\")\n",
    "plt.show()"
   ]
  },
  {
   "cell_type": "code",
   "execution_count": 140,
   "metadata": {},
   "outputs": [
    {
     "data": {
      "text/plain": [
       "<matplotlib.axes._subplots.AxesSubplot at 0x164bb169f48>"
      ]
     },
     "execution_count": 140,
     "metadata": {},
     "output_type": "execute_result"
    },
    {
     "data": {
      "image/png": "[encoded data removed]",
      "text/plain": [
       "<Figure size 720x576 with 1 Axes>"
      ]
     },
     "metadata": {
      "needs_background": "light"
     },
     "output_type": "display_data"
    }
   ],
   "source": [
    "plt.figure(figsize=(10,8))\n",
    "sns.distplot(bank[\"emp.var.rate\"])"
   ]
  },
  {
   "cell_type": "code",
   "execution_count": 141,
   "metadata": {},
   "outputs": [
    {
     "data": {
      "image/png": "[encoded data removed]",
      "text/plain": [
       "<Figure size 864x576 with 1 Axes>"
      ]
     },
     "metadata": {
      "needs_background": "light"
     },
     "output_type": "display_data"
    }
   ],
   "source": [
    "plt.figure(figsize=(12,8))\n",
    "sns.boxplot(data=bank, x=\"deposit\", y=\"cons.price.idx\")\n",
    "plt.show()"
   ]
  },
  {
   "cell_type": "code",
   "execution_count": 143,
   "metadata": {},
   "outputs": [
    {
     "data": {
      "text/plain": [
       "<matplotlib.axes._subplots.AxesSubplot at 0x164b8db5088>"
      ]
     },
     "execution_count": 143,
     "metadata": {},
     "output_type": "execute_result"
    },
    {
     "data": {
      "image/png": "[encoded data removed]",
      "text/plain": [
       "<Figure size 720x576 with 1 Axes>"
      ]
     },
     "metadata": {
      "needs_background": "light"
     },
     "output_type": "display_data"
    }
   ],
   "source": [
    "plt.figure(figsize=(10,8))\n",
    "sns.distplot(bank[\"cons.price.idx\"])"
   ]
  },
  {
   "cell_type": "code",
   "execution_count": 335,
   "metadata": {},
   "outputs": [
    {
     "data": {
      "image/png": "[encoded data removed]",
      "text/plain": [
       "<Figure size 864x576 with 1 Axes>"
      ]
     },
     "metadata": {},
     "output_type": "display_data"
    }
   ],
   "source": [
    "plt.figure(figsize=(12,8))\n",
    "sns.boxplot(data=bank, x=\"deposit\", y=\"cons.conf.idx\")\n",
    "plt.show()"
   ]
  },
  {
   "cell_type": "code",
   "execution_count": 144,
   "metadata": {},
   "outputs": [
    {
     "data": {
      "text/plain": [
       "<matplotlib.axes._subplots.AxesSubplot at 0x164b77ae408>"
      ]
     },
     "execution_count": 144,
     "metadata": {},
     "output_type": "execute_result"
    },
    {
     "data": {
      "image/png": "[encoded data removed]",
      "text/plain": [
       "<Figure size 720x576 with 1 Axes>"
      ]
     },
     "metadata": {
      "needs_background": "light"
     },
     "output_type": "display_data"
    }
   ],
   "source": [
    "plt.figure(figsize=(10,8))\n",
    "sns.distplot(bank[\"cons.conf.idx\"])"
   ]
  },
  {
   "cell_type": "code",
   "execution_count": 145,
   "metadata": {},
   "outputs": [
    {
     "data": {
      "image/png": "[encoded data removed]",
      "text/plain": [
       "<Figure size 720x576 with 1 Axes>"
      ]
     },
     "metadata": {
      "needs_background": "light"
     },
     "output_type": "display_data"
    }
   ],
   "source": [
    "plt.figure(figsize=(10,8))\n",
    "sns.boxplot(data=bank, x=\"deposit\", y=\"euribor3m\")\n",
    "plt.show()"
   ]
  },
  {
   "cell_type": "code",
   "execution_count": 146,
   "metadata": {},
   "outputs": [
    {
     "data": {
      "text/plain": [
       "<matplotlib.axes._subplots.AxesSubplot at 0x164bb00f288>"
      ]
     },
     "execution_count": 146,
     "metadata": {},
     "output_type": "execute_result"
    },
    {
     "data": {
      "image/png": "[encoded data removed]",
      "text/plain": [
       "<Figure size 720x576 with 1 Axes>"
      ]
     },
     "metadata": {
      "needs_background": "light"
     },
     "output_type": "display_data"
    }
   ],
   "source": [
    "plt.figure(figsize=(10,8))\n",
    "sns.distplot(bank[\"euribor3m\"])"
   ]
  },
  {
   "cell_type": "code",
   "execution_count": 339,
   "metadata": {},
   "outputs": [
    {
     "data": {
      "image/png": "[encoded data removed]",
      "text/plain": [
       "<Figure size 864x576 with 1 Axes>"
      ]
     },
     "metadata": {},
     "output_type": "display_data"
    }
   ],
   "source": [
    "plt.figure(figsize=(12,8))\n",
    "sns.boxplot(data=bank, x=\"deposit\", y=\"nr.employed\")\n",
    "plt.show()"
   ]
  },
  {
   "cell_type": "code",
   "execution_count": 340,
   "metadata": {},
   "outputs": [
    {
     "name": "stderr",
     "output_type": "stream",
     "text": [
      "C:\\ProgramData\\Anaconda3\\lib\\site-packages\\matplotlib\\axes\\_axes.py:6462: UserWarning: The 'normed' kwarg is deprecated, and has been replaced by the 'density' kwarg.\n",
      "  warnings.warn(\"The 'normed' kwarg is deprecated, and has been \"\n"
     ]
    },
    {
     "data": {
      "text/plain": [
       "<matplotlib.axes._subplots.AxesSubplot at 0x1ad0342fa58>"
      ]
     },
     "execution_count": 340,
     "metadata": {},
     "output_type": "execute_result"
    },
    {
     "data": {
      "image/png": "[encoded data removed]",
      "text/plain": [
       "<Figure size 720x576 with 1 Axes>"
      ]
     },
     "metadata": {},
     "output_type": "display_data"
    }
   ],
   "source": [
    "plt.figure(figsize=(10,8))\n",
    "sns.distplot(bank[\"nr.employed\"])"
   ]
  },
  {
   "cell_type": "code",
   "execution_count": 1060,
   "metadata": {},
   "outputs": [],
   "source": [
    "#outlier_cols=['age']\n",
    "#for cols in outlier_cols:\n",
    " #   Q1 = bank[cols].quantile(0.25)\n",
    "  #  Q3 = bank[cols].quantile(0.75)\n",
    "   # IQR = Q3 - Q1     \n",
    "#\n",
    " #   no_outliers = (bank[cols] >= Q1 - 1.5 * IQR) & (bank[cols] <= Q3 + 1.5 *IQR)\n",
    "  #  bank=bank.loc[no_outliers]"
   ]
  },
  {
   "cell_type": "code",
   "execution_count": 21,
   "metadata": {},
   "outputs": [],
   "source": [
    "bank.loc[bank['pdays'] == 999, 'pdays'] = 0\n",
    "bank.loc[bank['pdays'] != 0, 'pdays'] = 1\n",
    "\n",
    "bank_test.loc[bank_test['pdays'] == 999, 'pdays'] = 0\n",
    "bank_test.loc[bank_test['pdays'] != 0, 'pdays'] = 1"
   ]
  },
  {
   "cell_type": "code",
   "execution_count": 22,
   "metadata": {},
   "outputs": [],
   "source": [
    "bank.deposit.replace({\"yes\" : 1, \"no\" : 0}, inplace=True)"
   ]
  },
  {
   "cell_type": "code",
   "execution_count": 58,
   "metadata": {},
   "outputs": [
    {
     "data": {
      "text/html": [
       "<div>\n",
       "<style scoped>\n",
       "    .dataframe tbody tr th:only-of-type {\n",
       "        vertical-align: middle;\n",
       "    }\n",
       "\n",
       "    .dataframe tbody tr th {\n",
       "        vertical-align: top;\n",
       "    }\n",
       "\n",
       "    .dataframe thead th {\n",
       "        text-align: right;\n",
       "    }\n",
       "</style>\n",
       "<table border=\"1\" class=\"dataframe\">\n",
       "  <thead>\n",
       "    <tr style=\"text-align: right;\">\n",
       "      <th></th>\n",
       "      <th>age</th>\n",
       "      <th>duration</th>\n",
       "      <th>campaign</th>\n",
       "      <th>pdays</th>\n",
       "      <th>previous</th>\n",
       "      <th>emp.var.rate</th>\n",
       "      <th>cons.price.idx</th>\n",
       "      <th>cons.conf.idx</th>\n",
       "      <th>euribor3m</th>\n",
       "      <th>nr.employed</th>\n",
       "      <th>deposit</th>\n",
       "    </tr>\n",
       "  </thead>\n",
       "  <tbody>\n",
       "    <tr>\n",
       "      <td>age</td>\n",
       "      <td>1.000000</td>\n",
       "      <td>-0.000866</td>\n",
       "      <td>0.004594</td>\n",
       "      <td>0.035195</td>\n",
       "      <td>0.024365</td>\n",
       "      <td>-0.000371</td>\n",
       "      <td>0.000857</td>\n",
       "      <td>0.129372</td>\n",
       "      <td>0.010767</td>\n",
       "      <td>-0.017725</td>\n",
       "      <td>0.030399</td>\n",
       "    </tr>\n",
       "    <tr>\n",
       "      <td>duration</td>\n",
       "      <td>-0.000866</td>\n",
       "      <td>1.000000</td>\n",
       "      <td>-0.071699</td>\n",
       "      <td>0.047588</td>\n",
       "      <td>0.020640</td>\n",
       "      <td>-0.027968</td>\n",
       "      <td>0.005312</td>\n",
       "      <td>-0.008173</td>\n",
       "      <td>-0.032897</td>\n",
       "      <td>-0.044703</td>\n",
       "      <td>0.405274</td>\n",
       "    </tr>\n",
       "    <tr>\n",
       "      <td>campaign</td>\n",
       "      <td>0.004594</td>\n",
       "      <td>-0.071699</td>\n",
       "      <td>1.000000</td>\n",
       "      <td>-0.051955</td>\n",
       "      <td>-0.079141</td>\n",
       "      <td>0.150754</td>\n",
       "      <td>0.127836</td>\n",
       "      <td>-0.013733</td>\n",
       "      <td>0.135133</td>\n",
       "      <td>0.144095</td>\n",
       "      <td>-0.066357</td>\n",
       "    </tr>\n",
       "    <tr>\n",
       "      <td>pdays</td>\n",
       "      <td>0.035195</td>\n",
       "      <td>0.047588</td>\n",
       "      <td>-0.051955</td>\n",
       "      <td>1.000000</td>\n",
       "      <td>0.583103</td>\n",
       "      <td>-0.270271</td>\n",
       "      <td>-0.079344</td>\n",
       "      <td>0.091934</td>\n",
       "      <td>-0.295913</td>\n",
       "      <td>-0.371254</td>\n",
       "      <td>0.323029</td>\n",
       "    </tr>\n",
       "    <tr>\n",
       "      <td>previous</td>\n",
       "      <td>0.024365</td>\n",
       "      <td>0.020640</td>\n",
       "      <td>-0.079141</td>\n",
       "      <td>0.583103</td>\n",
       "      <td>1.000000</td>\n",
       "      <td>-0.420489</td>\n",
       "      <td>-0.203130</td>\n",
       "      <td>-0.050936</td>\n",
       "      <td>-0.454494</td>\n",
       "      <td>-0.501333</td>\n",
       "      <td>0.230181</td>\n",
       "    </tr>\n",
       "    <tr>\n",
       "      <td>emp.var.rate</td>\n",
       "      <td>-0.000371</td>\n",
       "      <td>-0.027968</td>\n",
       "      <td>0.150754</td>\n",
       "      <td>-0.270271</td>\n",
       "      <td>-0.420489</td>\n",
       "      <td>1.000000</td>\n",
       "      <td>0.775334</td>\n",
       "      <td>0.196041</td>\n",
       "      <td>0.972245</td>\n",
       "      <td>0.906970</td>\n",
       "      <td>-0.298334</td>\n",
       "    </tr>\n",
       "    <tr>\n",
       "      <td>cons.price.idx</td>\n",
       "      <td>0.000857</td>\n",
       "      <td>0.005312</td>\n",
       "      <td>0.127836</td>\n",
       "      <td>-0.079344</td>\n",
       "      <td>-0.203130</td>\n",
       "      <td>0.775334</td>\n",
       "      <td>1.000000</td>\n",
       "      <td>0.058986</td>\n",
       "      <td>0.688230</td>\n",
       "      <td>0.522034</td>\n",
       "      <td>-0.136211</td>\n",
       "    </tr>\n",
       "    <tr>\n",
       "      <td>cons.conf.idx</td>\n",
       "      <td>0.129372</td>\n",
       "      <td>-0.008173</td>\n",
       "      <td>-0.013733</td>\n",
       "      <td>0.091934</td>\n",
       "      <td>-0.050936</td>\n",
       "      <td>0.196041</td>\n",
       "      <td>0.058986</td>\n",
       "      <td>1.000000</td>\n",
       "      <td>0.277686</td>\n",
       "      <td>0.100513</td>\n",
       "      <td>0.054878</td>\n",
       "    </tr>\n",
       "    <tr>\n",
       "      <td>euribor3m</td>\n",
       "      <td>0.010767</td>\n",
       "      <td>-0.032897</td>\n",
       "      <td>0.135133</td>\n",
       "      <td>-0.295913</td>\n",
       "      <td>-0.454494</td>\n",
       "      <td>0.972245</td>\n",
       "      <td>0.688230</td>\n",
       "      <td>0.277686</td>\n",
       "      <td>1.000000</td>\n",
       "      <td>0.945154</td>\n",
       "      <td>-0.307771</td>\n",
       "    </tr>\n",
       "    <tr>\n",
       "      <td>nr.employed</td>\n",
       "      <td>-0.017725</td>\n",
       "      <td>-0.044703</td>\n",
       "      <td>0.144095</td>\n",
       "      <td>-0.371254</td>\n",
       "      <td>-0.501333</td>\n",
       "      <td>0.906970</td>\n",
       "      <td>0.522034</td>\n",
       "      <td>0.100513</td>\n",
       "      <td>0.945154</td>\n",
       "      <td>1.000000</td>\n",
       "      <td>-0.354678</td>\n",
       "    </tr>\n",
       "    <tr>\n",
       "      <td>deposit</td>\n",
       "      <td>0.030399</td>\n",
       "      <td>0.405274</td>\n",
       "      <td>-0.066357</td>\n",
       "      <td>0.323029</td>\n",
       "      <td>0.230181</td>\n",
       "      <td>-0.298334</td>\n",
       "      <td>-0.136211</td>\n",
       "      <td>0.054878</td>\n",
       "      <td>-0.307771</td>\n",
       "      <td>-0.354678</td>\n",
       "      <td>1.000000</td>\n",
       "    </tr>\n",
       "  </tbody>\n",
       "</table>\n",
       "</div>"
      ],
      "text/plain": [
       "                     age  duration  campaign     pdays  previous  \\\n",
       "age             1.000000 -0.000866  0.004594  0.035195  0.024365   \n",
       "duration       -0.000866  1.000000 -0.071699  0.047588  0.020640   \n",
       "campaign        0.004594 -0.071699  1.000000 -0.051955 -0.079141   \n",
       "pdays           0.035195  0.047588 -0.051955  1.000000  0.583103   \n",
       "previous        0.024365  0.020640 -0.079141  0.583103  1.000000   \n",
       "emp.var.rate   -0.000371 -0.027968  0.150754 -0.270271 -0.420489   \n",
       "cons.price.idx  0.000857  0.005312  0.127836 -0.079344 -0.203130   \n",
       "cons.conf.idx   0.129372 -0.008173 -0.013733  0.091934 -0.050936   \n",
       "euribor3m       0.010767 -0.032897  0.135133 -0.295913 -0.454494   \n",
       "nr.employed    -0.017725 -0.044703  0.144095 -0.371254 -0.501333   \n",
       "deposit         0.030399  0.405274 -0.066357  0.323029  0.230181   \n",
       "\n",
       "                emp.var.rate  cons.price.idx  cons.conf.idx  euribor3m  \\\n",
       "age                -0.000371        0.000857       0.129372   0.010767   \n",
       "duration           -0.027968        0.005312      -0.008173  -0.032897   \n",
       "campaign            0.150754        0.127836      -0.013733   0.135133   \n",
       "pdays              -0.270271       -0.079344       0.091934  -0.295913   \n",
       "previous           -0.420489       -0.203130      -0.050936  -0.454494   \n",
       "emp.var.rate        1.000000        0.775334       0.196041   0.972245   \n",
       "cons.price.idx      0.775334        1.000000       0.058986   0.688230   \n",
       "cons.conf.idx       0.196041        0.058986       1.000000   0.277686   \n",
       "euribor3m           0.972245        0.688230       0.277686   1.000000   \n",
       "nr.employed         0.906970        0.522034       0.100513   0.945154   \n",
       "deposit            -0.298334       -0.136211       0.054878  -0.307771   \n",
       "\n",
       "                nr.employed   deposit  \n",
       "age               -0.017725  0.030399  \n",
       "duration          -0.044703  0.405274  \n",
       "campaign           0.144095 -0.066357  \n",
       "pdays             -0.371254  0.323029  \n",
       "previous          -0.501333  0.230181  \n",
       "emp.var.rate       0.906970 -0.298334  \n",
       "cons.price.idx     0.522034 -0.136211  \n",
       "cons.conf.idx      0.100513  0.054878  \n",
       "euribor3m          0.945154 -0.307771  \n",
       "nr.employed        1.000000 -0.354678  \n",
       "deposit           -0.354678  1.000000  "
      ]
     },
     "execution_count": 58,
     "metadata": {},
     "output_type": "execute_result"
    }
   ],
   "source": [
    "bank.corr()    # Correlation matrix\n",
    "\n",
    "# emp.var.rate and nr.employed are highly correlated (0.90)\n",
    "# emp.var.rate and euribor3m are highly correlated (0.97)\n",
    "# emp.var.rate and cons.price.idx are highly correlated (0.77)\n",
    "\n",
    "# cons.price.idx and euribor3m are highly correlated (0.68)\n",
    "\n",
    "# euribor3m and nr.employed are highly correlated (0.94)"
   ]
  },
  {
   "cell_type": "code",
   "execution_count": 24,
   "metadata": {},
   "outputs": [
    {
     "data": {
      "text/html": [
       "<div>\n",
       "<style scoped>\n",
       "    .dataframe tbody tr th:only-of-type {\n",
       "        vertical-align: middle;\n",
       "    }\n",
       "\n",
       "    .dataframe tbody tr th {\n",
       "        vertical-align: top;\n",
       "    }\n",
       "\n",
       "    .dataframe thead th {\n",
       "        text-align: right;\n",
       "    }\n",
       "</style>\n",
       "<table border=\"1\" class=\"dataframe\">\n",
       "  <thead>\n",
       "    <tr style=\"text-align: right;\">\n",
       "      <th></th>\n",
       "      <th>age</th>\n",
       "      <th>job</th>\n",
       "      <th>marital</th>\n",
       "      <th>education</th>\n",
       "      <th>default</th>\n",
       "      <th>housing</th>\n",
       "      <th>loan</th>\n",
       "      <th>contact</th>\n",
       "      <th>month</th>\n",
       "      <th>day_of_week</th>\n",
       "      <th>...</th>\n",
       "      <th>campaign</th>\n",
       "      <th>pdays</th>\n",
       "      <th>previous</th>\n",
       "      <th>poutcome</th>\n",
       "      <th>emp.var.rate</th>\n",
       "      <th>cons.price.idx</th>\n",
       "      <th>cons.conf.idx</th>\n",
       "      <th>euribor3m</th>\n",
       "      <th>nr.employed</th>\n",
       "      <th>deposit</th>\n",
       "    </tr>\n",
       "  </thead>\n",
       "  <tbody>\n",
       "    <tr>\n",
       "      <td>236</td>\n",
       "      <td>56</td>\n",
       "      <td>blue-collar</td>\n",
       "      <td>married</td>\n",
       "      <td>basic.4y</td>\n",
       "      <td>no</td>\n",
       "      <td>no</td>\n",
       "      <td>no</td>\n",
       "      <td>telephone</td>\n",
       "      <td>may</td>\n",
       "      <td>mon</td>\n",
       "      <td>...</td>\n",
       "      <td>1</td>\n",
       "      <td>0</td>\n",
       "      <td>0</td>\n",
       "      <td>nonexistent</td>\n",
       "      <td>1.1</td>\n",
       "      <td>93.994</td>\n",
       "      <td>-36.4</td>\n",
       "      <td>4.857</td>\n",
       "      <td>5191.0</td>\n",
       "      <td>0</td>\n",
       "    </tr>\n",
       "    <tr>\n",
       "      <td>1265</td>\n",
       "      <td>39</td>\n",
       "      <td>blue-collar</td>\n",
       "      <td>married</td>\n",
       "      <td>basic.6y</td>\n",
       "      <td>no</td>\n",
       "      <td>no</td>\n",
       "      <td>no</td>\n",
       "      <td>telephone</td>\n",
       "      <td>may</td>\n",
       "      <td>thu</td>\n",
       "      <td>...</td>\n",
       "      <td>1</td>\n",
       "      <td>0</td>\n",
       "      <td>0</td>\n",
       "      <td>nonexistent</td>\n",
       "      <td>1.1</td>\n",
       "      <td>93.994</td>\n",
       "      <td>-36.4</td>\n",
       "      <td>4.855</td>\n",
       "      <td>5191.0</td>\n",
       "      <td>0</td>\n",
       "    </tr>\n",
       "    <tr>\n",
       "      <td>12260</td>\n",
       "      <td>36</td>\n",
       "      <td>retired</td>\n",
       "      <td>married</td>\n",
       "      <td>unknown</td>\n",
       "      <td>no</td>\n",
       "      <td>no</td>\n",
       "      <td>no</td>\n",
       "      <td>telephone</td>\n",
       "      <td>jul</td>\n",
       "      <td>thu</td>\n",
       "      <td>...</td>\n",
       "      <td>1</td>\n",
       "      <td>0</td>\n",
       "      <td>0</td>\n",
       "      <td>nonexistent</td>\n",
       "      <td>1.4</td>\n",
       "      <td>93.918</td>\n",
       "      <td>-42.7</td>\n",
       "      <td>4.966</td>\n",
       "      <td>5228.1</td>\n",
       "      <td>0</td>\n",
       "    </tr>\n",
       "    <tr>\n",
       "      <td>14155</td>\n",
       "      <td>27</td>\n",
       "      <td>technician</td>\n",
       "      <td>single</td>\n",
       "      <td>professional.course</td>\n",
       "      <td>no</td>\n",
       "      <td>no</td>\n",
       "      <td>no</td>\n",
       "      <td>cellular</td>\n",
       "      <td>jul</td>\n",
       "      <td>mon</td>\n",
       "      <td>...</td>\n",
       "      <td>2</td>\n",
       "      <td>0</td>\n",
       "      <td>0</td>\n",
       "      <td>nonexistent</td>\n",
       "      <td>1.4</td>\n",
       "      <td>93.918</td>\n",
       "      <td>-42.7</td>\n",
       "      <td>4.962</td>\n",
       "      <td>5228.1</td>\n",
       "      <td>0</td>\n",
       "    </tr>\n",
       "    <tr>\n",
       "      <td>16819</td>\n",
       "      <td>47</td>\n",
       "      <td>technician</td>\n",
       "      <td>divorced</td>\n",
       "      <td>high.school</td>\n",
       "      <td>no</td>\n",
       "      <td>yes</td>\n",
       "      <td>no</td>\n",
       "      <td>cellular</td>\n",
       "      <td>jul</td>\n",
       "      <td>thu</td>\n",
       "      <td>...</td>\n",
       "      <td>3</td>\n",
       "      <td>0</td>\n",
       "      <td>0</td>\n",
       "      <td>nonexistent</td>\n",
       "      <td>1.4</td>\n",
       "      <td>93.918</td>\n",
       "      <td>-42.7</td>\n",
       "      <td>4.962</td>\n",
       "      <td>5228.1</td>\n",
       "      <td>0</td>\n",
       "    </tr>\n",
       "    <tr>\n",
       "      <td>18464</td>\n",
       "      <td>32</td>\n",
       "      <td>technician</td>\n",
       "      <td>single</td>\n",
       "      <td>professional.course</td>\n",
       "      <td>no</td>\n",
       "      <td>yes</td>\n",
       "      <td>no</td>\n",
       "      <td>cellular</td>\n",
       "      <td>jul</td>\n",
       "      <td>thu</td>\n",
       "      <td>...</td>\n",
       "      <td>1</td>\n",
       "      <td>0</td>\n",
       "      <td>0</td>\n",
       "      <td>nonexistent</td>\n",
       "      <td>1.4</td>\n",
       "      <td>93.918</td>\n",
       "      <td>-42.7</td>\n",
       "      <td>4.968</td>\n",
       "      <td>5228.1</td>\n",
       "      <td>0</td>\n",
       "    </tr>\n",
       "    <tr>\n",
       "      <td>19451</td>\n",
       "      <td>33</td>\n",
       "      <td>admin.</td>\n",
       "      <td>married</td>\n",
       "      <td>university.degree</td>\n",
       "      <td>no</td>\n",
       "      <td>yes</td>\n",
       "      <td>no</td>\n",
       "      <td>cellular</td>\n",
       "      <td>aug</td>\n",
       "      <td>thu</td>\n",
       "      <td>...</td>\n",
       "      <td>1</td>\n",
       "      <td>0</td>\n",
       "      <td>0</td>\n",
       "      <td>nonexistent</td>\n",
       "      <td>1.4</td>\n",
       "      <td>93.444</td>\n",
       "      <td>-36.1</td>\n",
       "      <td>4.968</td>\n",
       "      <td>5228.1</td>\n",
       "      <td>0</td>\n",
       "    </tr>\n",
       "    <tr>\n",
       "      <td>20072</td>\n",
       "      <td>55</td>\n",
       "      <td>services</td>\n",
       "      <td>married</td>\n",
       "      <td>high.school</td>\n",
       "      <td>no</td>\n",
       "      <td>no</td>\n",
       "      <td>no</td>\n",
       "      <td>cellular</td>\n",
       "      <td>aug</td>\n",
       "      <td>mon</td>\n",
       "      <td>...</td>\n",
       "      <td>1</td>\n",
       "      <td>0</td>\n",
       "      <td>0</td>\n",
       "      <td>nonexistent</td>\n",
       "      <td>1.4</td>\n",
       "      <td>93.444</td>\n",
       "      <td>-36.1</td>\n",
       "      <td>4.965</td>\n",
       "      <td>5228.1</td>\n",
       "      <td>0</td>\n",
       "    </tr>\n",
       "    <tr>\n",
       "      <td>20531</td>\n",
       "      <td>41</td>\n",
       "      <td>technician</td>\n",
       "      <td>married</td>\n",
       "      <td>professional.course</td>\n",
       "      <td>no</td>\n",
       "      <td>yes</td>\n",
       "      <td>no</td>\n",
       "      <td>cellular</td>\n",
       "      <td>aug</td>\n",
       "      <td>tue</td>\n",
       "      <td>...</td>\n",
       "      <td>1</td>\n",
       "      <td>0</td>\n",
       "      <td>0</td>\n",
       "      <td>nonexistent</td>\n",
       "      <td>1.4</td>\n",
       "      <td>93.444</td>\n",
       "      <td>-36.1</td>\n",
       "      <td>4.966</td>\n",
       "      <td>5228.1</td>\n",
       "      <td>0</td>\n",
       "    </tr>\n",
       "    <tr>\n",
       "      <td>25183</td>\n",
       "      <td>39</td>\n",
       "      <td>admin.</td>\n",
       "      <td>married</td>\n",
       "      <td>university.degree</td>\n",
       "      <td>no</td>\n",
       "      <td>no</td>\n",
       "      <td>no</td>\n",
       "      <td>cellular</td>\n",
       "      <td>nov</td>\n",
       "      <td>tue</td>\n",
       "      <td>...</td>\n",
       "      <td>2</td>\n",
       "      <td>0</td>\n",
       "      <td>0</td>\n",
       "      <td>nonexistent</td>\n",
       "      <td>-0.1</td>\n",
       "      <td>93.200</td>\n",
       "      <td>-42.0</td>\n",
       "      <td>4.153</td>\n",
       "      <td>5195.8</td>\n",
       "      <td>0</td>\n",
       "    </tr>\n",
       "    <tr>\n",
       "      <td>28476</td>\n",
       "      <td>24</td>\n",
       "      <td>services</td>\n",
       "      <td>single</td>\n",
       "      <td>high.school</td>\n",
       "      <td>no</td>\n",
       "      <td>yes</td>\n",
       "      <td>no</td>\n",
       "      <td>cellular</td>\n",
       "      <td>apr</td>\n",
       "      <td>tue</td>\n",
       "      <td>...</td>\n",
       "      <td>1</td>\n",
       "      <td>0</td>\n",
       "      <td>0</td>\n",
       "      <td>nonexistent</td>\n",
       "      <td>-1.8</td>\n",
       "      <td>93.075</td>\n",
       "      <td>-47.1</td>\n",
       "      <td>1.423</td>\n",
       "      <td>5099.1</td>\n",
       "      <td>0</td>\n",
       "    </tr>\n",
       "    <tr>\n",
       "      <td>32505</td>\n",
       "      <td>35</td>\n",
       "      <td>admin.</td>\n",
       "      <td>married</td>\n",
       "      <td>university.degree</td>\n",
       "      <td>no</td>\n",
       "      <td>yes</td>\n",
       "      <td>no</td>\n",
       "      <td>cellular</td>\n",
       "      <td>may</td>\n",
       "      <td>fri</td>\n",
       "      <td>...</td>\n",
       "      <td>4</td>\n",
       "      <td>0</td>\n",
       "      <td>0</td>\n",
       "      <td>nonexistent</td>\n",
       "      <td>-1.8</td>\n",
       "      <td>92.893</td>\n",
       "      <td>-46.2</td>\n",
       "      <td>1.313</td>\n",
       "      <td>5099.1</td>\n",
       "      <td>0</td>\n",
       "    </tr>\n",
       "    <tr>\n",
       "      <td>36950</td>\n",
       "      <td>45</td>\n",
       "      <td>admin.</td>\n",
       "      <td>married</td>\n",
       "      <td>university.degree</td>\n",
       "      <td>no</td>\n",
       "      <td>no</td>\n",
       "      <td>no</td>\n",
       "      <td>cellular</td>\n",
       "      <td>jul</td>\n",
       "      <td>thu</td>\n",
       "      <td>...</td>\n",
       "      <td>1</td>\n",
       "      <td>0</td>\n",
       "      <td>0</td>\n",
       "      <td>nonexistent</td>\n",
       "      <td>-2.9</td>\n",
       "      <td>92.469</td>\n",
       "      <td>-33.6</td>\n",
       "      <td>1.072</td>\n",
       "      <td>5076.2</td>\n",
       "      <td>1</td>\n",
       "    </tr>\n",
       "    <tr>\n",
       "      <td>38255</td>\n",
       "      <td>71</td>\n",
       "      <td>retired</td>\n",
       "      <td>single</td>\n",
       "      <td>university.degree</td>\n",
       "      <td>no</td>\n",
       "      <td>no</td>\n",
       "      <td>no</td>\n",
       "      <td>telephone</td>\n",
       "      <td>oct</td>\n",
       "      <td>tue</td>\n",
       "      <td>...</td>\n",
       "      <td>1</td>\n",
       "      <td>0</td>\n",
       "      <td>0</td>\n",
       "      <td>nonexistent</td>\n",
       "      <td>-3.4</td>\n",
       "      <td>92.431</td>\n",
       "      <td>-26.9</td>\n",
       "      <td>0.742</td>\n",
       "      <td>5017.5</td>\n",
       "      <td>0</td>\n",
       "    </tr>\n",
       "  </tbody>\n",
       "</table>\n",
       "<p>14 rows × 21 columns</p>\n",
       "</div>"
      ],
      "text/plain": [
       "       age          job   marital            education default housing loan  \\\n",
       "236     56  blue-collar   married             basic.4y      no      no   no   \n",
       "1265    39  blue-collar   married             basic.6y      no      no   no   \n",
       "12260   36      retired   married              unknown      no      no   no   \n",
       "14155   27   technician    single  professional.course      no      no   no   \n",
       "16819   47   technician  divorced          high.school      no     yes   no   \n",
       "18464   32   technician    single  professional.course      no     yes   no   \n",
       "19451   33       admin.   married    university.degree      no     yes   no   \n",
       "20072   55     services   married          high.school      no      no   no   \n",
       "20531   41   technician   married  professional.course      no     yes   no   \n",
       "25183   39       admin.   married    university.degree      no      no   no   \n",
       "28476   24     services    single          high.school      no     yes   no   \n",
       "32505   35       admin.   married    university.degree      no     yes   no   \n",
       "36950   45       admin.   married    university.degree      no      no   no   \n",
       "38255   71      retired    single    university.degree      no      no   no   \n",
       "\n",
       "         contact month day_of_week  ...  campaign  pdays  previous  \\\n",
       "236    telephone   may         mon  ...         1      0         0   \n",
       "1265   telephone   may         thu  ...         1      0         0   \n",
       "12260  telephone   jul         thu  ...         1      0         0   \n",
       "14155   cellular   jul         mon  ...         2      0         0   \n",
       "16819   cellular   jul         thu  ...         3      0         0   \n",
       "18464   cellular   jul         thu  ...         1      0         0   \n",
       "19451   cellular   aug         thu  ...         1      0         0   \n",
       "20072   cellular   aug         mon  ...         1      0         0   \n",
       "20531   cellular   aug         tue  ...         1      0         0   \n",
       "25183   cellular   nov         tue  ...         2      0         0   \n",
       "28476   cellular   apr         tue  ...         1      0         0   \n",
       "32505   cellular   may         fri  ...         4      0         0   \n",
       "36950   cellular   jul         thu  ...         1      0         0   \n",
       "38255  telephone   oct         tue  ...         1      0         0   \n",
       "\n",
       "          poutcome emp.var.rate  cons.price.idx  cons.conf.idx  euribor3m  \\\n",
       "236    nonexistent          1.1          93.994          -36.4      4.857   \n",
       "1265   nonexistent          1.1          93.994          -36.4      4.855   \n",
       "12260  nonexistent          1.4          93.918          -42.7      4.966   \n",
       "14155  nonexistent          1.4          93.918          -42.7      4.962   \n",
       "16819  nonexistent          1.4          93.918          -42.7      4.962   \n",
       "18464  nonexistent          1.4          93.918          -42.7      4.968   \n",
       "19451  nonexistent          1.4          93.444          -36.1      4.968   \n",
       "20072  nonexistent          1.4          93.444          -36.1      4.965   \n",
       "20531  nonexistent          1.4          93.444          -36.1      4.966   \n",
       "25183  nonexistent         -0.1          93.200          -42.0      4.153   \n",
       "28476  nonexistent         -1.8          93.075          -47.1      1.423   \n",
       "32505  nonexistent         -1.8          92.893          -46.2      1.313   \n",
       "36950  nonexistent         -2.9          92.469          -33.6      1.072   \n",
       "38255  nonexistent         -3.4          92.431          -26.9      0.742   \n",
       "\n",
       "       nr.employed  deposit  \n",
       "236         5191.0        0  \n",
       "1265        5191.0        0  \n",
       "12260       5228.1        0  \n",
       "14155       5228.1        0  \n",
       "16819       5228.1        0  \n",
       "18464       5228.1        0  \n",
       "19451       5228.1        0  \n",
       "20072       5228.1        0  \n",
       "20531       5228.1        0  \n",
       "25183       5195.8        0  \n",
       "28476       5099.1        0  \n",
       "32505       5099.1        0  \n",
       "36950       5076.2        1  \n",
       "38255       5017.5        0  \n",
       "\n",
       "[14 rows x 21 columns]"
      ]
     },
     "execution_count": 24,
     "metadata": {},
     "output_type": "execute_result"
    }
   ],
   "source": [
    "# Select all the duplicate rows except their last occurrence\n",
    "dup_data = bank[bank.duplicated(keep=\"last\")]\n",
    "dup_data"
   ]
  },
  {
   "cell_type": "code",
   "execution_count": 25,
   "metadata": {},
   "outputs": [
    {
     "data": {
      "text/html": [
       "<div>\n",
       "<style scoped>\n",
       "    .dataframe tbody tr th:only-of-type {\n",
       "        vertical-align: middle;\n",
       "    }\n",
       "\n",
       "    .dataframe tbody tr th {\n",
       "        vertical-align: top;\n",
       "    }\n",
       "\n",
       "    .dataframe thead th {\n",
       "        text-align: right;\n",
       "    }\n",
       "</style>\n",
       "<table border=\"1\" class=\"dataframe\">\n",
       "  <thead>\n",
       "    <tr style=\"text-align: right;\">\n",
       "      <th></th>\n",
       "      <th>age</th>\n",
       "      <th>job</th>\n",
       "      <th>marital</th>\n",
       "      <th>education</th>\n",
       "      <th>default</th>\n",
       "      <th>housing</th>\n",
       "      <th>loan</th>\n",
       "      <th>contact</th>\n",
       "      <th>month</th>\n",
       "      <th>day_of_week</th>\n",
       "      <th>duration</th>\n",
       "      <th>campaign</th>\n",
       "      <th>pdays</th>\n",
       "      <th>previous</th>\n",
       "      <th>poutcome</th>\n",
       "      <th>emp.var.rate</th>\n",
       "      <th>cons.price.idx</th>\n",
       "      <th>cons.conf.idx</th>\n",
       "      <th>euribor3m</th>\n",
       "      <th>nr.employed</th>\n",
       "    </tr>\n",
       "  </thead>\n",
       "  <tbody>\n",
       "  </tbody>\n",
       "</table>\n",
       "</div>"
      ],
      "text/plain": [
       "Empty DataFrame\n",
       "Columns: [age, job, marital, education, default, housing, loan, contact, month, day_of_week, duration, campaign, pdays, previous, poutcome, emp.var.rate, cons.price.idx, cons.conf.idx, euribor3m, nr.employed]\n",
       "Index: []"
      ]
     },
     "execution_count": 25,
     "metadata": {},
     "output_type": "execute_result"
    }
   ],
   "source": [
    "dup_test_data = bank_test[bank_test.duplicated(keep=\"last\")]\n",
    "dup_test_data    # No duplicate records in test data"
   ]
  },
  {
   "cell_type": "code",
   "execution_count": 26,
   "metadata": {},
   "outputs": [
    {
     "data": {
      "text/plain": [
       "(14, 21)"
      ]
     },
     "execution_count": 26,
     "metadata": {},
     "output_type": "execute_result"
    }
   ],
   "source": [
    "dup_data.shape"
   ]
  },
  {
   "cell_type": "code",
   "execution_count": 27,
   "metadata": {},
   "outputs": [
    {
     "data": {
      "text/plain": [
       "(41174, 21)"
      ]
     },
     "execution_count": 27,
     "metadata": {},
     "output_type": "execute_result"
    }
   ],
   "source": [
    "bank=bank.drop_duplicates()\n",
    "bank.shape"
   ]
  },
  {
   "cell_type": "code",
   "execution_count": 29,
   "metadata": {},
   "outputs": [],
   "source": [
    "bank=bank.drop(columns=['default','loan','duration','campaign'])\n",
    "bank_test=bank_test.drop(columns=['default','loan','duration','campaign'])"
   ]
  },
  {
   "cell_type": "code",
   "execution_count": 30,
   "metadata": {},
   "outputs": [],
   "source": [
    "bank=pd.get_dummies(data=bank, columns=['job','marital','education','housing','contact','month','poutcome','day_of_week'], drop_first=True)\n",
    "\n",
    "bank_test=pd.get_dummies(data=bank_test, columns=['job','marital','education','housing','contact','month','poutcome','day_of_week'], drop_first=True)"
   ]
  },
  {
   "cell_type": "code",
   "execution_count": 31,
   "metadata": {},
   "outputs": [
    {
     "data": {
      "text/html": [
       "<div>\n",
       "<style scoped>\n",
       "    .dataframe tbody tr th:only-of-type {\n",
       "        vertical-align: middle;\n",
       "    }\n",
       "\n",
       "    .dataframe tbody tr th {\n",
       "        vertical-align: top;\n",
       "    }\n",
       "\n",
       "    .dataframe thead th {\n",
       "        text-align: right;\n",
       "    }\n",
       "</style>\n",
       "<table border=\"1\" class=\"dataframe\">\n",
       "  <thead>\n",
       "    <tr style=\"text-align: right;\">\n",
       "      <th></th>\n",
       "      <th>age</th>\n",
       "      <th>pdays</th>\n",
       "      <th>previous</th>\n",
       "      <th>emp.var.rate</th>\n",
       "      <th>cons.price.idx</th>\n",
       "      <th>cons.conf.idx</th>\n",
       "      <th>euribor3m</th>\n",
       "      <th>nr.employed</th>\n",
       "      <th>deposit</th>\n",
       "      <th>job_blue-collar</th>\n",
       "      <th>...</th>\n",
       "      <th>month_may</th>\n",
       "      <th>month_nov</th>\n",
       "      <th>month_oct</th>\n",
       "      <th>month_sep</th>\n",
       "      <th>poutcome_nonexistent</th>\n",
       "      <th>poutcome_success</th>\n",
       "      <th>day_of_week_mon</th>\n",
       "      <th>day_of_week_thu</th>\n",
       "      <th>day_of_week_tue</th>\n",
       "      <th>day_of_week_wed</th>\n",
       "    </tr>\n",
       "  </thead>\n",
       "  <tbody>\n",
       "    <tr>\n",
       "      <td>0</td>\n",
       "      <td>56</td>\n",
       "      <td>0</td>\n",
       "      <td>0</td>\n",
       "      <td>1.1</td>\n",
       "      <td>93.994</td>\n",
       "      <td>-36.4</td>\n",
       "      <td>4.857</td>\n",
       "      <td>5191.0</td>\n",
       "      <td>0</td>\n",
       "      <td>0</td>\n",
       "      <td>...</td>\n",
       "      <td>1</td>\n",
       "      <td>0</td>\n",
       "      <td>0</td>\n",
       "      <td>0</td>\n",
       "      <td>1</td>\n",
       "      <td>0</td>\n",
       "      <td>1</td>\n",
       "      <td>0</td>\n",
       "      <td>0</td>\n",
       "      <td>0</td>\n",
       "    </tr>\n",
       "    <tr>\n",
       "      <td>1</td>\n",
       "      <td>57</td>\n",
       "      <td>0</td>\n",
       "      <td>0</td>\n",
       "      <td>1.1</td>\n",
       "      <td>93.994</td>\n",
       "      <td>-36.4</td>\n",
       "      <td>4.857</td>\n",
       "      <td>5191.0</td>\n",
       "      <td>0</td>\n",
       "      <td>0</td>\n",
       "      <td>...</td>\n",
       "      <td>1</td>\n",
       "      <td>0</td>\n",
       "      <td>0</td>\n",
       "      <td>0</td>\n",
       "      <td>1</td>\n",
       "      <td>0</td>\n",
       "      <td>1</td>\n",
       "      <td>0</td>\n",
       "      <td>0</td>\n",
       "      <td>0</td>\n",
       "    </tr>\n",
       "    <tr>\n",
       "      <td>2</td>\n",
       "      <td>37</td>\n",
       "      <td>0</td>\n",
       "      <td>0</td>\n",
       "      <td>1.1</td>\n",
       "      <td>93.994</td>\n",
       "      <td>-36.4</td>\n",
       "      <td>4.857</td>\n",
       "      <td>5191.0</td>\n",
       "      <td>0</td>\n",
       "      <td>0</td>\n",
       "      <td>...</td>\n",
       "      <td>1</td>\n",
       "      <td>0</td>\n",
       "      <td>0</td>\n",
       "      <td>0</td>\n",
       "      <td>1</td>\n",
       "      <td>0</td>\n",
       "      <td>1</td>\n",
       "      <td>0</td>\n",
       "      <td>0</td>\n",
       "      <td>0</td>\n",
       "    </tr>\n",
       "    <tr>\n",
       "      <td>3</td>\n",
       "      <td>40</td>\n",
       "      <td>0</td>\n",
       "      <td>0</td>\n",
       "      <td>1.1</td>\n",
       "      <td>93.994</td>\n",
       "      <td>-36.4</td>\n",
       "      <td>4.857</td>\n",
       "      <td>5191.0</td>\n",
       "      <td>0</td>\n",
       "      <td>0</td>\n",
       "      <td>...</td>\n",
       "      <td>1</td>\n",
       "      <td>0</td>\n",
       "      <td>0</td>\n",
       "      <td>0</td>\n",
       "      <td>1</td>\n",
       "      <td>0</td>\n",
       "      <td>1</td>\n",
       "      <td>0</td>\n",
       "      <td>0</td>\n",
       "      <td>0</td>\n",
       "    </tr>\n",
       "    <tr>\n",
       "      <td>4</td>\n",
       "      <td>56</td>\n",
       "      <td>0</td>\n",
       "      <td>0</td>\n",
       "      <td>1.1</td>\n",
       "      <td>93.994</td>\n",
       "      <td>-36.4</td>\n",
       "      <td>4.857</td>\n",
       "      <td>5191.0</td>\n",
       "      <td>0</td>\n",
       "      <td>0</td>\n",
       "      <td>...</td>\n",
       "      <td>1</td>\n",
       "      <td>0</td>\n",
       "      <td>0</td>\n",
       "      <td>0</td>\n",
       "      <td>1</td>\n",
       "      <td>0</td>\n",
       "      <td>1</td>\n",
       "      <td>0</td>\n",
       "      <td>0</td>\n",
       "      <td>0</td>\n",
       "    </tr>\n",
       "  </tbody>\n",
       "</table>\n",
       "<p>5 rows × 46 columns</p>\n",
       "</div>"
      ],
      "text/plain": [
       "   age  pdays  previous  emp.var.rate  cons.price.idx  cons.conf.idx  \\\n",
       "0   56      0         0           1.1          93.994          -36.4   \n",
       "1   57      0         0           1.1          93.994          -36.4   \n",
       "2   37      0         0           1.1          93.994          -36.4   \n",
       "3   40      0         0           1.1          93.994          -36.4   \n",
       "4   56      0         0           1.1          93.994          -36.4   \n",
       "\n",
       "   euribor3m  nr.employed  deposit  job_blue-collar  ...  month_may  \\\n",
       "0      4.857       5191.0        0                0  ...          1   \n",
       "1      4.857       5191.0        0                0  ...          1   \n",
       "2      4.857       5191.0        0                0  ...          1   \n",
       "3      4.857       5191.0        0                0  ...          1   \n",
       "4      4.857       5191.0        0                0  ...          1   \n",
       "\n",
       "   month_nov  month_oct  month_sep  poutcome_nonexistent  poutcome_success  \\\n",
       "0          0          0          0                     1                 0   \n",
       "1          0          0          0                     1                 0   \n",
       "2          0          0          0                     1                 0   \n",
       "3          0          0          0                     1                 0   \n",
       "4          0          0          0                     1                 0   \n",
       "\n",
       "   day_of_week_mon  day_of_week_thu  day_of_week_tue  day_of_week_wed  \n",
       "0                1                0                0                0  \n",
       "1                1                0                0                0  \n",
       "2                1                0                0                0  \n",
       "3                1                0                0                0  \n",
       "4                1                0                0                0  \n",
       "\n",
       "[5 rows x 46 columns]"
      ]
     },
     "execution_count": 31,
     "metadata": {},
     "output_type": "execute_result"
    }
   ],
   "source": [
    "bank.head()"
   ]
  },
  {
   "cell_type": "code",
   "execution_count": 32,
   "metadata": {},
   "outputs": [
    {
     "data": {
      "text/html": [
       "<div>\n",
       "<style scoped>\n",
       "    .dataframe tbody tr th:only-of-type {\n",
       "        vertical-align: middle;\n",
       "    }\n",
       "\n",
       "    .dataframe tbody tr th {\n",
       "        vertical-align: top;\n",
       "    }\n",
       "\n",
       "    .dataframe thead th {\n",
       "        text-align: right;\n",
       "    }\n",
       "</style>\n",
       "<table border=\"1\" class=\"dataframe\">\n",
       "  <thead>\n",
       "    <tr style=\"text-align: right;\">\n",
       "      <th></th>\n",
       "      <th>age</th>\n",
       "      <th>pdays</th>\n",
       "      <th>previous</th>\n",
       "      <th>emp.var.rate</th>\n",
       "      <th>cons.price.idx</th>\n",
       "      <th>cons.conf.idx</th>\n",
       "      <th>euribor3m</th>\n",
       "      <th>nr.employed</th>\n",
       "      <th>job_blue-collar</th>\n",
       "      <th>job_entrepreneur</th>\n",
       "      <th>...</th>\n",
       "      <th>month_may</th>\n",
       "      <th>month_nov</th>\n",
       "      <th>month_oct</th>\n",
       "      <th>month_sep</th>\n",
       "      <th>poutcome_nonexistent</th>\n",
       "      <th>poutcome_success</th>\n",
       "      <th>day_of_week_mon</th>\n",
       "      <th>day_of_week_thu</th>\n",
       "      <th>day_of_week_tue</th>\n",
       "      <th>day_of_week_wed</th>\n",
       "    </tr>\n",
       "  </thead>\n",
       "  <tbody>\n",
       "    <tr>\n",
       "      <td>0</td>\n",
       "      <td>30</td>\n",
       "      <td>0</td>\n",
       "      <td>0</td>\n",
       "      <td>-1.8</td>\n",
       "      <td>92.893</td>\n",
       "      <td>-46.2</td>\n",
       "      <td>1.313</td>\n",
       "      <td>5099.1</td>\n",
       "      <td>1</td>\n",
       "      <td>0</td>\n",
       "      <td>...</td>\n",
       "      <td>1</td>\n",
       "      <td>0</td>\n",
       "      <td>0</td>\n",
       "      <td>0</td>\n",
       "      <td>1</td>\n",
       "      <td>0</td>\n",
       "      <td>0</td>\n",
       "      <td>0</td>\n",
       "      <td>0</td>\n",
       "      <td>0</td>\n",
       "    </tr>\n",
       "    <tr>\n",
       "      <td>1</td>\n",
       "      <td>39</td>\n",
       "      <td>0</td>\n",
       "      <td>0</td>\n",
       "      <td>1.1</td>\n",
       "      <td>93.994</td>\n",
       "      <td>-36.4</td>\n",
       "      <td>4.855</td>\n",
       "      <td>5191.0</td>\n",
       "      <td>0</td>\n",
       "      <td>0</td>\n",
       "      <td>...</td>\n",
       "      <td>1</td>\n",
       "      <td>0</td>\n",
       "      <td>0</td>\n",
       "      <td>0</td>\n",
       "      <td>1</td>\n",
       "      <td>0</td>\n",
       "      <td>0</td>\n",
       "      <td>0</td>\n",
       "      <td>0</td>\n",
       "      <td>0</td>\n",
       "    </tr>\n",
       "    <tr>\n",
       "      <td>2</td>\n",
       "      <td>25</td>\n",
       "      <td>0</td>\n",
       "      <td>0</td>\n",
       "      <td>1.4</td>\n",
       "      <td>94.465</td>\n",
       "      <td>-41.8</td>\n",
       "      <td>4.962</td>\n",
       "      <td>5228.1</td>\n",
       "      <td>0</td>\n",
       "      <td>0</td>\n",
       "      <td>...</td>\n",
       "      <td>0</td>\n",
       "      <td>0</td>\n",
       "      <td>0</td>\n",
       "      <td>0</td>\n",
       "      <td>1</td>\n",
       "      <td>0</td>\n",
       "      <td>0</td>\n",
       "      <td>0</td>\n",
       "      <td>0</td>\n",
       "      <td>1</td>\n",
       "    </tr>\n",
       "    <tr>\n",
       "      <td>3</td>\n",
       "      <td>38</td>\n",
       "      <td>0</td>\n",
       "      <td>0</td>\n",
       "      <td>1.4</td>\n",
       "      <td>94.465</td>\n",
       "      <td>-41.8</td>\n",
       "      <td>4.959</td>\n",
       "      <td>5228.1</td>\n",
       "      <td>0</td>\n",
       "      <td>0</td>\n",
       "      <td>...</td>\n",
       "      <td>0</td>\n",
       "      <td>0</td>\n",
       "      <td>0</td>\n",
       "      <td>0</td>\n",
       "      <td>1</td>\n",
       "      <td>0</td>\n",
       "      <td>0</td>\n",
       "      <td>0</td>\n",
       "      <td>0</td>\n",
       "      <td>0</td>\n",
       "    </tr>\n",
       "    <tr>\n",
       "      <td>4</td>\n",
       "      <td>47</td>\n",
       "      <td>0</td>\n",
       "      <td>0</td>\n",
       "      <td>-0.1</td>\n",
       "      <td>93.200</td>\n",
       "      <td>-42.0</td>\n",
       "      <td>4.191</td>\n",
       "      <td>5195.8</td>\n",
       "      <td>0</td>\n",
       "      <td>0</td>\n",
       "      <td>...</td>\n",
       "      <td>0</td>\n",
       "      <td>1</td>\n",
       "      <td>0</td>\n",
       "      <td>0</td>\n",
       "      <td>1</td>\n",
       "      <td>0</td>\n",
       "      <td>1</td>\n",
       "      <td>0</td>\n",
       "      <td>0</td>\n",
       "      <td>0</td>\n",
       "    </tr>\n",
       "  </tbody>\n",
       "</table>\n",
       "<p>5 rows × 45 columns</p>\n",
       "</div>"
      ],
      "text/plain": [
       "   age  pdays  previous  emp.var.rate  cons.price.idx  cons.conf.idx  \\\n",
       "0   30      0         0          -1.8          92.893          -46.2   \n",
       "1   39      0         0           1.1          93.994          -36.4   \n",
       "2   25      0         0           1.4          94.465          -41.8   \n",
       "3   38      0         0           1.4          94.465          -41.8   \n",
       "4   47      0         0          -0.1          93.200          -42.0   \n",
       "\n",
       "   euribor3m  nr.employed  job_blue-collar  job_entrepreneur  ...  month_may  \\\n",
       "0      1.313       5099.1                1                 0  ...          1   \n",
       "1      4.855       5191.0                0                 0  ...          1   \n",
       "2      4.962       5228.1                0                 0  ...          0   \n",
       "3      4.959       5228.1                0                 0  ...          0   \n",
       "4      4.191       5195.8                0                 0  ...          0   \n",
       "\n",
       "   month_nov  month_oct  month_sep  poutcome_nonexistent  poutcome_success  \\\n",
       "0          0          0          0                     1                 0   \n",
       "1          0          0          0                     1                 0   \n",
       "2          0          0          0                     1                 0   \n",
       "3          0          0          0                     1                 0   \n",
       "4          1          0          0                     1                 0   \n",
       "\n",
       "   day_of_week_mon  day_of_week_thu  day_of_week_tue  day_of_week_wed  \n",
       "0                0                0                0                0  \n",
       "1                0                0                0                0  \n",
       "2                0                0                0                1  \n",
       "3                0                0                0                0  \n",
       "4                1                0                0                0  \n",
       "\n",
       "[5 rows x 45 columns]"
      ]
     },
     "execution_count": 32,
     "metadata": {},
     "output_type": "execute_result"
    }
   ],
   "source": [
    "bank_test.head()"
   ]
  },
  {
   "cell_type": "code",
   "execution_count": 33,
   "metadata": {},
   "outputs": [
    {
     "data": {
      "text/plain": [
       "Index(['age', 'pdays', 'previous', 'emp.var.rate', 'cons.price.idx',\n",
       "       'cons.conf.idx', 'euribor3m', 'nr.employed', 'deposit',\n",
       "       'job_blue-collar', 'job_entrepreneur', 'job_housemaid',\n",
       "       'job_management', 'job_retired', 'job_self-employed', 'job_services',\n",
       "       'job_student', 'job_technician', 'job_unemployed', 'job_unknown',\n",
       "       'marital_married', 'marital_single', 'education_basic.6y',\n",
       "       'education_basic.9y', 'education_high.school', 'education_illiterate',\n",
       "       'education_professional.course', 'education_university.degree',\n",
       "       'education_unknown', 'housing_yes', 'contact_telephone', 'month_aug',\n",
       "       'month_dec', 'month_jul', 'month_jun', 'month_mar', 'month_may',\n",
       "       'month_nov', 'month_oct', 'month_sep', 'poutcome_nonexistent',\n",
       "       'poutcome_success', 'day_of_week_mon', 'day_of_week_thu',\n",
       "       'day_of_week_tue', 'day_of_week_wed'],\n",
       "      dtype='object')"
      ]
     },
     "execution_count": 33,
     "metadata": {},
     "output_type": "execute_result"
    }
   ],
   "source": [
    "bank.columns"
   ]
  },
  {
   "cell_type": "code",
   "execution_count": 34,
   "metadata": {},
   "outputs": [
    {
     "data": {
      "text/html": [
       "<div>\n",
       "<style scoped>\n",
       "    .dataframe tbody tr th:only-of-type {\n",
       "        vertical-align: middle;\n",
       "    }\n",
       "\n",
       "    .dataframe tbody tr th {\n",
       "        vertical-align: top;\n",
       "    }\n",
       "\n",
       "    .dataframe thead th {\n",
       "        text-align: right;\n",
       "    }\n",
       "</style>\n",
       "<table border=\"1\" class=\"dataframe\">\n",
       "  <thead>\n",
       "    <tr style=\"text-align: right;\">\n",
       "      <th></th>\n",
       "      <th>age</th>\n",
       "      <th>pdays</th>\n",
       "      <th>previous</th>\n",
       "      <th>emp.var.rate</th>\n",
       "      <th>cons.price.idx</th>\n",
       "      <th>cons.conf.idx</th>\n",
       "      <th>euribor3m</th>\n",
       "      <th>nr.employed</th>\n",
       "      <th>deposit</th>\n",
       "      <th>job_blue-collar</th>\n",
       "      <th>...</th>\n",
       "      <th>month_may</th>\n",
       "      <th>month_nov</th>\n",
       "      <th>month_oct</th>\n",
       "      <th>month_sep</th>\n",
       "      <th>poutcome_nonexistent</th>\n",
       "      <th>poutcome_success</th>\n",
       "      <th>day_of_week_mon</th>\n",
       "      <th>day_of_week_thu</th>\n",
       "      <th>day_of_week_tue</th>\n",
       "      <th>day_of_week_wed</th>\n",
       "    </tr>\n",
       "  </thead>\n",
       "  <tbody>\n",
       "    <tr>\n",
       "      <td>count</td>\n",
       "      <td>41174.000000</td>\n",
       "      <td>41174.000000</td>\n",
       "      <td>41174.000000</td>\n",
       "      <td>41174.000000</td>\n",
       "      <td>41174.000000</td>\n",
       "      <td>41174.000000</td>\n",
       "      <td>41174.000000</td>\n",
       "      <td>41174.000000</td>\n",
       "      <td>41174.000000</td>\n",
       "      <td>41174.000000</td>\n",
       "      <td>...</td>\n",
       "      <td>41174.000000</td>\n",
       "      <td>41174.000000</td>\n",
       "      <td>41174.000000</td>\n",
       "      <td>41174.000000</td>\n",
       "      <td>41174.000000</td>\n",
       "      <td>41174.000000</td>\n",
       "      <td>41174.000000</td>\n",
       "      <td>41174.000000</td>\n",
       "      <td>41174.000000</td>\n",
       "      <td>41174.000000</td>\n",
       "    </tr>\n",
       "    <tr>\n",
       "      <td>mean</td>\n",
       "      <td>40.023583</td>\n",
       "      <td>0.036431</td>\n",
       "      <td>0.173022</td>\n",
       "      <td>0.081865</td>\n",
       "      <td>93.575713</td>\n",
       "      <td>-40.503070</td>\n",
       "      <td>3.621231</td>\n",
       "      <td>5167.032805</td>\n",
       "      <td>0.112668</td>\n",
       "      <td>0.227158</td>\n",
       "      <td>...</td>\n",
       "      <td>0.334337</td>\n",
       "      <td>0.099577</td>\n",
       "      <td>0.017414</td>\n",
       "      <td>0.013844</td>\n",
       "      <td>0.863385</td>\n",
       "      <td>0.033346</td>\n",
       "      <td>0.206708</td>\n",
       "      <td>0.209283</td>\n",
       "      <td>0.196386</td>\n",
       "      <td>0.197552</td>\n",
       "    </tr>\n",
       "    <tr>\n",
       "      <td>std</td>\n",
       "      <td>10.420578</td>\n",
       "      <td>0.187362</td>\n",
       "      <td>0.494975</td>\n",
       "      <td>1.570899</td>\n",
       "      <td>0.578849</td>\n",
       "      <td>4.627877</td>\n",
       "      <td>1.734456</td>\n",
       "      <td>72.252395</td>\n",
       "      <td>0.316191</td>\n",
       "      <td>0.419001</td>\n",
       "      <td>...</td>\n",
       "      <td>0.471764</td>\n",
       "      <td>0.299439</td>\n",
       "      <td>0.130809</td>\n",
       "      <td>0.116843</td>\n",
       "      <td>0.343445</td>\n",
       "      <td>0.179541</td>\n",
       "      <td>0.404949</td>\n",
       "      <td>0.406801</td>\n",
       "      <td>0.397269</td>\n",
       "      <td>0.398157</td>\n",
       "    </tr>\n",
       "    <tr>\n",
       "      <td>min</td>\n",
       "      <td>17.000000</td>\n",
       "      <td>0.000000</td>\n",
       "      <td>0.000000</td>\n",
       "      <td>-3.400000</td>\n",
       "      <td>92.201000</td>\n",
       "      <td>-50.800000</td>\n",
       "      <td>0.634000</td>\n",
       "      <td>4963.600000</td>\n",
       "      <td>0.000000</td>\n",
       "      <td>0.000000</td>\n",
       "      <td>...</td>\n",
       "      <td>0.000000</td>\n",
       "      <td>0.000000</td>\n",
       "      <td>0.000000</td>\n",
       "      <td>0.000000</td>\n",
       "      <td>0.000000</td>\n",
       "      <td>0.000000</td>\n",
       "      <td>0.000000</td>\n",
       "      <td>0.000000</td>\n",
       "      <td>0.000000</td>\n",
       "      <td>0.000000</td>\n",
       "    </tr>\n",
       "    <tr>\n",
       "      <td>25%</td>\n",
       "      <td>32.000000</td>\n",
       "      <td>0.000000</td>\n",
       "      <td>0.000000</td>\n",
       "      <td>-1.800000</td>\n",
       "      <td>93.075000</td>\n",
       "      <td>-42.700000</td>\n",
       "      <td>1.344000</td>\n",
       "      <td>5099.100000</td>\n",
       "      <td>0.000000</td>\n",
       "      <td>0.000000</td>\n",
       "      <td>...</td>\n",
       "      <td>0.000000</td>\n",
       "      <td>0.000000</td>\n",
       "      <td>0.000000</td>\n",
       "      <td>0.000000</td>\n",
       "      <td>1.000000</td>\n",
       "      <td>0.000000</td>\n",
       "      <td>0.000000</td>\n",
       "      <td>0.000000</td>\n",
       "      <td>0.000000</td>\n",
       "      <td>0.000000</td>\n",
       "    </tr>\n",
       "    <tr>\n",
       "      <td>50%</td>\n",
       "      <td>38.000000</td>\n",
       "      <td>0.000000</td>\n",
       "      <td>0.000000</td>\n",
       "      <td>1.100000</td>\n",
       "      <td>93.749000</td>\n",
       "      <td>-41.800000</td>\n",
       "      <td>4.857000</td>\n",
       "      <td>5191.000000</td>\n",
       "      <td>0.000000</td>\n",
       "      <td>0.000000</td>\n",
       "      <td>...</td>\n",
       "      <td>0.000000</td>\n",
       "      <td>0.000000</td>\n",
       "      <td>0.000000</td>\n",
       "      <td>0.000000</td>\n",
       "      <td>1.000000</td>\n",
       "      <td>0.000000</td>\n",
       "      <td>0.000000</td>\n",
       "      <td>0.000000</td>\n",
       "      <td>0.000000</td>\n",
       "      <td>0.000000</td>\n",
       "    </tr>\n",
       "    <tr>\n",
       "      <td>75%</td>\n",
       "      <td>47.000000</td>\n",
       "      <td>0.000000</td>\n",
       "      <td>0.000000</td>\n",
       "      <td>1.400000</td>\n",
       "      <td>93.994000</td>\n",
       "      <td>-36.400000</td>\n",
       "      <td>4.961000</td>\n",
       "      <td>5228.100000</td>\n",
       "      <td>0.000000</td>\n",
       "      <td>0.000000</td>\n",
       "      <td>...</td>\n",
       "      <td>1.000000</td>\n",
       "      <td>0.000000</td>\n",
       "      <td>0.000000</td>\n",
       "      <td>0.000000</td>\n",
       "      <td>1.000000</td>\n",
       "      <td>0.000000</td>\n",
       "      <td>0.000000</td>\n",
       "      <td>0.000000</td>\n",
       "      <td>0.000000</td>\n",
       "      <td>0.000000</td>\n",
       "    </tr>\n",
       "    <tr>\n",
       "      <td>max</td>\n",
       "      <td>98.000000</td>\n",
       "      <td>1.000000</td>\n",
       "      <td>7.000000</td>\n",
       "      <td>1.400000</td>\n",
       "      <td>94.767000</td>\n",
       "      <td>-26.900000</td>\n",
       "      <td>5.045000</td>\n",
       "      <td>5228.100000</td>\n",
       "      <td>1.000000</td>\n",
       "      <td>1.000000</td>\n",
       "      <td>...</td>\n",
       "      <td>1.000000</td>\n",
       "      <td>1.000000</td>\n",
       "      <td>1.000000</td>\n",
       "      <td>1.000000</td>\n",
       "      <td>1.000000</td>\n",
       "      <td>1.000000</td>\n",
       "      <td>1.000000</td>\n",
       "      <td>1.000000</td>\n",
       "      <td>1.000000</td>\n",
       "      <td>1.000000</td>\n",
       "    </tr>\n",
       "  </tbody>\n",
       "</table>\n",
       "<p>8 rows × 46 columns</p>\n",
       "</div>"
      ],
      "text/plain": [
       "                age         pdays      previous  emp.var.rate  cons.price.idx  \\\n",
       "count  41174.000000  41174.000000  41174.000000  41174.000000    41174.000000   \n",
       "mean      40.023583      0.036431      0.173022      0.081865       93.575713   \n",
       "std       10.420578      0.187362      0.494975      1.570899        0.578849   \n",
       "min       17.000000      0.000000      0.000000     -3.400000       92.201000   \n",
       "25%       32.000000      0.000000      0.000000     -1.800000       93.075000   \n",
       "50%       38.000000      0.000000      0.000000      1.100000       93.749000   \n",
       "75%       47.000000      0.000000      0.000000      1.400000       93.994000   \n",
       "max       98.000000      1.000000      7.000000      1.400000       94.767000   \n",
       "\n",
       "       cons.conf.idx     euribor3m   nr.employed       deposit  \\\n",
       "count   41174.000000  41174.000000  41174.000000  41174.000000   \n",
       "mean      -40.503070      3.621231   5167.032805      0.112668   \n",
       "std         4.627877      1.734456     72.252395      0.316191   \n",
       "min       -50.800000      0.634000   4963.600000      0.000000   \n",
       "25%       -42.700000      1.344000   5099.100000      0.000000   \n",
       "50%       -41.800000      4.857000   5191.000000      0.000000   \n",
       "75%       -36.400000      4.961000   5228.100000      0.000000   \n",
       "max       -26.900000      5.045000   5228.100000      1.000000   \n",
       "\n",
       "       job_blue-collar  ...     month_may     month_nov     month_oct  \\\n",
       "count     41174.000000  ...  41174.000000  41174.000000  41174.000000   \n",
       "mean          0.227158  ...      0.334337      0.099577      0.017414   \n",
       "std           0.419001  ...      0.471764      0.299439      0.130809   \n",
       "min           0.000000  ...      0.000000      0.000000      0.000000   \n",
       "25%           0.000000  ...      0.000000      0.000000      0.000000   \n",
       "50%           0.000000  ...      0.000000      0.000000      0.000000   \n",
       "75%           0.000000  ...      1.000000      0.000000      0.000000   \n",
       "max           1.000000  ...      1.000000      1.000000      1.000000   \n",
       "\n",
       "          month_sep  poutcome_nonexistent  poutcome_success  day_of_week_mon  \\\n",
       "count  41174.000000          41174.000000      41174.000000     41174.000000   \n",
       "mean       0.013844              0.863385          0.033346         0.206708   \n",
       "std        0.116843              0.343445          0.179541         0.404949   \n",
       "min        0.000000              0.000000          0.000000         0.000000   \n",
       "25%        0.000000              1.000000          0.000000         0.000000   \n",
       "50%        0.000000              1.000000          0.000000         0.000000   \n",
       "75%        0.000000              1.000000          0.000000         0.000000   \n",
       "max        1.000000              1.000000          1.000000         1.000000   \n",
       "\n",
       "       day_of_week_thu  day_of_week_tue  day_of_week_wed  \n",
       "count     41174.000000     41174.000000     41174.000000  \n",
       "mean          0.209283         0.196386         0.197552  \n",
       "std           0.406801         0.397269         0.398157  \n",
       "min           0.000000         0.000000         0.000000  \n",
       "25%           0.000000         0.000000         0.000000  \n",
       "50%           0.000000         0.000000         0.000000  \n",
       "75%           0.000000         0.000000         0.000000  \n",
       "max           1.000000         1.000000         1.000000  \n",
       "\n",
       "[8 rows x 46 columns]"
      ]
     },
     "execution_count": 34,
     "metadata": {},
     "output_type": "execute_result"
    }
   ],
   "source": [
    "bank.describe()"
   ]
  },
  {
   "cell_type": "code",
   "execution_count": 1316,
   "metadata": {},
   "outputs": [],
   "source": [
    "# Model Building"
   ]
  },
  {
   "cell_type": "code",
   "execution_count": 35,
   "metadata": {},
   "outputs": [],
   "source": [
    "bank_backup=bank"
   ]
  },
  {
   "cell_type": "code",
   "execution_count": 36,
   "metadata": {},
   "outputs": [],
   "source": [
    "bank_test_backup=bank_test"
   ]
  },
  {
   "cell_type": "code",
   "execution_count": 37,
   "metadata": {},
   "outputs": [
    {
     "data": {
      "text/plain": [
       "(41174, 46)"
      ]
     },
     "execution_count": 37,
     "metadata": {},
     "output_type": "execute_result"
    }
   ],
   "source": [
    "bank.shape"
   ]
  },
  {
   "cell_type": "code",
   "execution_count": 38,
   "metadata": {},
   "outputs": [
    {
     "data": {
      "text/html": [
       "<div>\n",
       "<style scoped>\n",
       "    .dataframe tbody tr th:only-of-type {\n",
       "        vertical-align: middle;\n",
       "    }\n",
       "\n",
       "    .dataframe tbody tr th {\n",
       "        vertical-align: top;\n",
       "    }\n",
       "\n",
       "    .dataframe thead th {\n",
       "        text-align: right;\n",
       "    }\n",
       "</style>\n",
       "<table border=\"1\" class=\"dataframe\">\n",
       "  <thead>\n",
       "    <tr style=\"text-align: right;\">\n",
       "      <th></th>\n",
       "      <th>age</th>\n",
       "      <th>pdays</th>\n",
       "      <th>previous</th>\n",
       "      <th>emp.var.rate</th>\n",
       "      <th>cons.price.idx</th>\n",
       "      <th>cons.conf.idx</th>\n",
       "      <th>euribor3m</th>\n",
       "      <th>nr.employed</th>\n",
       "      <th>deposit</th>\n",
       "      <th>job_blue-collar</th>\n",
       "      <th>...</th>\n",
       "      <th>month_may</th>\n",
       "      <th>month_nov</th>\n",
       "      <th>month_oct</th>\n",
       "      <th>month_sep</th>\n",
       "      <th>poutcome_nonexistent</th>\n",
       "      <th>poutcome_success</th>\n",
       "      <th>day_of_week_mon</th>\n",
       "      <th>day_of_week_thu</th>\n",
       "      <th>day_of_week_tue</th>\n",
       "      <th>day_of_week_wed</th>\n",
       "    </tr>\n",
       "  </thead>\n",
       "  <tbody>\n",
       "    <tr>\n",
       "      <td>0</td>\n",
       "      <td>56</td>\n",
       "      <td>0</td>\n",
       "      <td>0</td>\n",
       "      <td>1.1</td>\n",
       "      <td>93.994</td>\n",
       "      <td>-36.4</td>\n",
       "      <td>4.857</td>\n",
       "      <td>5191.0</td>\n",
       "      <td>0</td>\n",
       "      <td>0</td>\n",
       "      <td>...</td>\n",
       "      <td>1</td>\n",
       "      <td>0</td>\n",
       "      <td>0</td>\n",
       "      <td>0</td>\n",
       "      <td>1</td>\n",
       "      <td>0</td>\n",
       "      <td>1</td>\n",
       "      <td>0</td>\n",
       "      <td>0</td>\n",
       "      <td>0</td>\n",
       "    </tr>\n",
       "    <tr>\n",
       "      <td>1</td>\n",
       "      <td>57</td>\n",
       "      <td>0</td>\n",
       "      <td>0</td>\n",
       "      <td>1.1</td>\n",
       "      <td>93.994</td>\n",
       "      <td>-36.4</td>\n",
       "      <td>4.857</td>\n",
       "      <td>5191.0</td>\n",
       "      <td>0</td>\n",
       "      <td>0</td>\n",
       "      <td>...</td>\n",
       "      <td>1</td>\n",
       "      <td>0</td>\n",
       "      <td>0</td>\n",
       "      <td>0</td>\n",
       "      <td>1</td>\n",
       "      <td>0</td>\n",
       "      <td>1</td>\n",
       "      <td>0</td>\n",
       "      <td>0</td>\n",
       "      <td>0</td>\n",
       "    </tr>\n",
       "    <tr>\n",
       "      <td>2</td>\n",
       "      <td>37</td>\n",
       "      <td>0</td>\n",
       "      <td>0</td>\n",
       "      <td>1.1</td>\n",
       "      <td>93.994</td>\n",
       "      <td>-36.4</td>\n",
       "      <td>4.857</td>\n",
       "      <td>5191.0</td>\n",
       "      <td>0</td>\n",
       "      <td>0</td>\n",
       "      <td>...</td>\n",
       "      <td>1</td>\n",
       "      <td>0</td>\n",
       "      <td>0</td>\n",
       "      <td>0</td>\n",
       "      <td>1</td>\n",
       "      <td>0</td>\n",
       "      <td>1</td>\n",
       "      <td>0</td>\n",
       "      <td>0</td>\n",
       "      <td>0</td>\n",
       "    </tr>\n",
       "    <tr>\n",
       "      <td>3</td>\n",
       "      <td>40</td>\n",
       "      <td>0</td>\n",
       "      <td>0</td>\n",
       "      <td>1.1</td>\n",
       "      <td>93.994</td>\n",
       "      <td>-36.4</td>\n",
       "      <td>4.857</td>\n",
       "      <td>5191.0</td>\n",
       "      <td>0</td>\n",
       "      <td>0</td>\n",
       "      <td>...</td>\n",
       "      <td>1</td>\n",
       "      <td>0</td>\n",
       "      <td>0</td>\n",
       "      <td>0</td>\n",
       "      <td>1</td>\n",
       "      <td>0</td>\n",
       "      <td>1</td>\n",
       "      <td>0</td>\n",
       "      <td>0</td>\n",
       "      <td>0</td>\n",
       "    </tr>\n",
       "    <tr>\n",
       "      <td>4</td>\n",
       "      <td>56</td>\n",
       "      <td>0</td>\n",
       "      <td>0</td>\n",
       "      <td>1.1</td>\n",
       "      <td>93.994</td>\n",
       "      <td>-36.4</td>\n",
       "      <td>4.857</td>\n",
       "      <td>5191.0</td>\n",
       "      <td>0</td>\n",
       "      <td>0</td>\n",
       "      <td>...</td>\n",
       "      <td>1</td>\n",
       "      <td>0</td>\n",
       "      <td>0</td>\n",
       "      <td>0</td>\n",
       "      <td>1</td>\n",
       "      <td>0</td>\n",
       "      <td>1</td>\n",
       "      <td>0</td>\n",
       "      <td>0</td>\n",
       "      <td>0</td>\n",
       "    </tr>\n",
       "  </tbody>\n",
       "</table>\n",
       "<p>5 rows × 46 columns</p>\n",
       "</div>"
      ],
      "text/plain": [
       "   age  pdays  previous  emp.var.rate  cons.price.idx  cons.conf.idx  \\\n",
       "0   56      0         0           1.1          93.994          -36.4   \n",
       "1   57      0         0           1.1          93.994          -36.4   \n",
       "2   37      0         0           1.1          93.994          -36.4   \n",
       "3   40      0         0           1.1          93.994          -36.4   \n",
       "4   56      0         0           1.1          93.994          -36.4   \n",
       "\n",
       "   euribor3m  nr.employed  deposit  job_blue-collar  ...  month_may  \\\n",
       "0      4.857       5191.0        0                0  ...          1   \n",
       "1      4.857       5191.0        0                0  ...          1   \n",
       "2      4.857       5191.0        0                0  ...          1   \n",
       "3      4.857       5191.0        0                0  ...          1   \n",
       "4      4.857       5191.0        0                0  ...          1   \n",
       "\n",
       "   month_nov  month_oct  month_sep  poutcome_nonexistent  poutcome_success  \\\n",
       "0          0          0          0                     1                 0   \n",
       "1          0          0          0                     1                 0   \n",
       "2          0          0          0                     1                 0   \n",
       "3          0          0          0                     1                 0   \n",
       "4          0          0          0                     1                 0   \n",
       "\n",
       "   day_of_week_mon  day_of_week_thu  day_of_week_tue  day_of_week_wed  \n",
       "0                1                0                0                0  \n",
       "1                1                0                0                0  \n",
       "2                1                0                0                0  \n",
       "3                1                0                0                0  \n",
       "4                1                0                0                0  \n",
       "\n",
       "[5 rows x 46 columns]"
      ]
     },
     "execution_count": 38,
     "metadata": {},
     "output_type": "execute_result"
    }
   ],
   "source": [
    "bank.head()"
   ]
  },
  {
   "cell_type": "code",
   "execution_count": 39,
   "metadata": {},
   "outputs": [],
   "source": [
    "bank_x=bank.iloc[:,0:46]"
   ]
  },
  {
   "cell_type": "code",
   "execution_count": 40,
   "metadata": {},
   "outputs": [],
   "source": [
    "bank_x=bank_x.drop(columns=['deposit'])"
   ]
  },
  {
   "cell_type": "code",
   "execution_count": 41,
   "metadata": {},
   "outputs": [
    {
     "data": {
      "text/html": [
       "<div>\n",
       "<style scoped>\n",
       "    .dataframe tbody tr th:only-of-type {\n",
       "        vertical-align: middle;\n",
       "    }\n",
       "\n",
       "    .dataframe tbody tr th {\n",
       "        vertical-align: top;\n",
       "    }\n",
       "\n",
       "    .dataframe thead th {\n",
       "        text-align: right;\n",
       "    }\n",
       "</style>\n",
       "<table border=\"1\" class=\"dataframe\">\n",
       "  <thead>\n",
       "    <tr style=\"text-align: right;\">\n",
       "      <th></th>\n",
       "      <th>age</th>\n",
       "      <th>pdays</th>\n",
       "      <th>previous</th>\n",
       "      <th>emp.var.rate</th>\n",
       "      <th>cons.price.idx</th>\n",
       "      <th>cons.conf.idx</th>\n",
       "      <th>euribor3m</th>\n",
       "      <th>nr.employed</th>\n",
       "      <th>job_blue-collar</th>\n",
       "      <th>job_entrepreneur</th>\n",
       "      <th>...</th>\n",
       "      <th>month_may</th>\n",
       "      <th>month_nov</th>\n",
       "      <th>month_oct</th>\n",
       "      <th>month_sep</th>\n",
       "      <th>poutcome_nonexistent</th>\n",
       "      <th>poutcome_success</th>\n",
       "      <th>day_of_week_mon</th>\n",
       "      <th>day_of_week_thu</th>\n",
       "      <th>day_of_week_tue</th>\n",
       "      <th>day_of_week_wed</th>\n",
       "    </tr>\n",
       "  </thead>\n",
       "  <tbody>\n",
       "    <tr>\n",
       "      <td>0</td>\n",
       "      <td>56</td>\n",
       "      <td>0</td>\n",
       "      <td>0</td>\n",
       "      <td>1.1</td>\n",
       "      <td>93.994</td>\n",
       "      <td>-36.4</td>\n",
       "      <td>4.857</td>\n",
       "      <td>5191.0</td>\n",
       "      <td>0</td>\n",
       "      <td>0</td>\n",
       "      <td>...</td>\n",
       "      <td>1</td>\n",
       "      <td>0</td>\n",
       "      <td>0</td>\n",
       "      <td>0</td>\n",
       "      <td>1</td>\n",
       "      <td>0</td>\n",
       "      <td>1</td>\n",
       "      <td>0</td>\n",
       "      <td>0</td>\n",
       "      <td>0</td>\n",
       "    </tr>\n",
       "    <tr>\n",
       "      <td>1</td>\n",
       "      <td>57</td>\n",
       "      <td>0</td>\n",
       "      <td>0</td>\n",
       "      <td>1.1</td>\n",
       "      <td>93.994</td>\n",
       "      <td>-36.4</td>\n",
       "      <td>4.857</td>\n",
       "      <td>5191.0</td>\n",
       "      <td>0</td>\n",
       "      <td>0</td>\n",
       "      <td>...</td>\n",
       "      <td>1</td>\n",
       "      <td>0</td>\n",
       "      <td>0</td>\n",
       "      <td>0</td>\n",
       "      <td>1</td>\n",
       "      <td>0</td>\n",
       "      <td>1</td>\n",
       "      <td>0</td>\n",
       "      <td>0</td>\n",
       "      <td>0</td>\n",
       "    </tr>\n",
       "    <tr>\n",
       "      <td>2</td>\n",
       "      <td>37</td>\n",
       "      <td>0</td>\n",
       "      <td>0</td>\n",
       "      <td>1.1</td>\n",
       "      <td>93.994</td>\n",
       "      <td>-36.4</td>\n",
       "      <td>4.857</td>\n",
       "      <td>5191.0</td>\n",
       "      <td>0</td>\n",
       "      <td>0</td>\n",
       "      <td>...</td>\n",
       "      <td>1</td>\n",
       "      <td>0</td>\n",
       "      <td>0</td>\n",
       "      <td>0</td>\n",
       "      <td>1</td>\n",
       "      <td>0</td>\n",
       "      <td>1</td>\n",
       "      <td>0</td>\n",
       "      <td>0</td>\n",
       "      <td>0</td>\n",
       "    </tr>\n",
       "    <tr>\n",
       "      <td>3</td>\n",
       "      <td>40</td>\n",
       "      <td>0</td>\n",
       "      <td>0</td>\n",
       "      <td>1.1</td>\n",
       "      <td>93.994</td>\n",
       "      <td>-36.4</td>\n",
       "      <td>4.857</td>\n",
       "      <td>5191.0</td>\n",
       "      <td>0</td>\n",
       "      <td>0</td>\n",
       "      <td>...</td>\n",
       "      <td>1</td>\n",
       "      <td>0</td>\n",
       "      <td>0</td>\n",
       "      <td>0</td>\n",
       "      <td>1</td>\n",
       "      <td>0</td>\n",
       "      <td>1</td>\n",
       "      <td>0</td>\n",
       "      <td>0</td>\n",
       "      <td>0</td>\n",
       "    </tr>\n",
       "    <tr>\n",
       "      <td>4</td>\n",
       "      <td>56</td>\n",
       "      <td>0</td>\n",
       "      <td>0</td>\n",
       "      <td>1.1</td>\n",
       "      <td>93.994</td>\n",
       "      <td>-36.4</td>\n",
       "      <td>4.857</td>\n",
       "      <td>5191.0</td>\n",
       "      <td>0</td>\n",
       "      <td>0</td>\n",
       "      <td>...</td>\n",
       "      <td>1</td>\n",
       "      <td>0</td>\n",
       "      <td>0</td>\n",
       "      <td>0</td>\n",
       "      <td>1</td>\n",
       "      <td>0</td>\n",
       "      <td>1</td>\n",
       "      <td>0</td>\n",
       "      <td>0</td>\n",
       "      <td>0</td>\n",
       "    </tr>\n",
       "  </tbody>\n",
       "</table>\n",
       "<p>5 rows × 45 columns</p>\n",
       "</div>"
      ],
      "text/plain": [
       "   age  pdays  previous  emp.var.rate  cons.price.idx  cons.conf.idx  \\\n",
       "0   56      0         0           1.1          93.994          -36.4   \n",
       "1   57      0         0           1.1          93.994          -36.4   \n",
       "2   37      0         0           1.1          93.994          -36.4   \n",
       "3   40      0         0           1.1          93.994          -36.4   \n",
       "4   56      0         0           1.1          93.994          -36.4   \n",
       "\n",
       "   euribor3m  nr.employed  job_blue-collar  job_entrepreneur  ...  month_may  \\\n",
       "0      4.857       5191.0                0                 0  ...          1   \n",
       "1      4.857       5191.0                0                 0  ...          1   \n",
       "2      4.857       5191.0                0                 0  ...          1   \n",
       "3      4.857       5191.0                0                 0  ...          1   \n",
       "4      4.857       5191.0                0                 0  ...          1   \n",
       "\n",
       "   month_nov  month_oct  month_sep  poutcome_nonexistent  poutcome_success  \\\n",
       "0          0          0          0                     1                 0   \n",
       "1          0          0          0                     1                 0   \n",
       "2          0          0          0                     1                 0   \n",
       "3          0          0          0                     1                 0   \n",
       "4          0          0          0                     1                 0   \n",
       "\n",
       "   day_of_week_mon  day_of_week_thu  day_of_week_tue  day_of_week_wed  \n",
       "0                1                0                0                0  \n",
       "1                1                0                0                0  \n",
       "2                1                0                0                0  \n",
       "3                1                0                0                0  \n",
       "4                1                0                0                0  \n",
       "\n",
       "[5 rows x 45 columns]"
      ]
     },
     "execution_count": 41,
     "metadata": {},
     "output_type": "execute_result"
    }
   ],
   "source": [
    "bank_x.head()"
   ]
  },
  {
   "cell_type": "code",
   "execution_count": 42,
   "metadata": {},
   "outputs": [],
   "source": [
    "bank_y = bank.iloc[:,8]"
   ]
  },
  {
   "cell_type": "code",
   "execution_count": 43,
   "metadata": {},
   "outputs": [
    {
     "data": {
      "text/plain": [
       "0    0\n",
       "1    0\n",
       "2    0\n",
       "3    0\n",
       "4    0\n",
       "Name: deposit, dtype: int64"
      ]
     },
     "execution_count": 43,
     "metadata": {},
     "output_type": "execute_result"
    }
   ],
   "source": [
    "bank_y.head()"
   ]
  },
  {
   "cell_type": "code",
   "execution_count": 44,
   "metadata": {},
   "outputs": [],
   "source": [
    "import sklearn\n",
    "from sklearn.model_selection import train_test_split    # For sampling"
   ]
  },
  {
   "cell_type": "code",
   "execution_count": 45,
   "metadata": {},
   "outputs": [],
   "source": [
    "from imblearn import under_sampling, over_sampling\n",
    "from imblearn.over_sampling import SMOTE"
   ]
  },
  {
   "cell_type": "code",
   "execution_count": 46,
   "metadata": {},
   "outputs": [],
   "source": [
    "bank_x_train, bank_x_test, bank_y_train, bank_y_test = train_test_split(bank_x, bank_y,\n",
    "                                                            test_size=.30, random_state=786)"
   ]
  },
  {
   "cell_type": "code",
   "execution_count": 47,
   "metadata": {},
   "outputs": [
    {
     "data": {
      "text/plain": [
       "((28821, 45), (28821,))"
      ]
     },
     "execution_count": 47,
     "metadata": {},
     "output_type": "execute_result"
    }
   ],
   "source": [
    "bank_x_train.shape, bank_y_train.shape"
   ]
  },
  {
   "cell_type": "code",
   "execution_count": 48,
   "metadata": {},
   "outputs": [
    {
     "data": {
      "text/plain": [
       "((12353, 45), (12353,))"
      ]
     },
     "execution_count": 48,
     "metadata": {},
     "output_type": "execute_result"
    }
   ],
   "source": [
    "bank_x_test.shape, bank_y_test.shape"
   ]
  },
  {
   "cell_type": "code",
   "execution_count": 49,
   "metadata": {},
   "outputs": [],
   "source": [
    "# Data scaling\n",
    "from sklearn.preprocessing import MinMaxScaler\n",
    "from sklearn.preprocessing import RobustScaler\n",
    "from sklearn.preprocessing import StandardScaler"
   ]
  },
  {
   "cell_type": "code",
   "execution_count": 50,
   "metadata": {},
   "outputs": [],
   "source": [
    "# minmaxscaler = MinMaxScaler()\n",
    "# robustscaler = RobustScaler()\n",
    "standardscaler = StandardScaler()\n",
    "# For each value in a feature, MinMaxScaler subtracts the minimum value in the feature and then divides by the range. \n",
    "# The range is the difference between the original maximum and original minimum"
   ]
  },
  {
   "cell_type": "code",
   "execution_count": 51,
   "metadata": {},
   "outputs": [],
   "source": [
    "standardscaler.fit(bank_x_train)\n",
    "bank_x_train = standardscaler.transform(bank_x_train)"
   ]
  },
  {
   "cell_type": "code",
   "execution_count": 52,
   "metadata": {},
   "outputs": [],
   "source": [
    "standardscaler.fit(bank_x_test)\n",
    "bank_x_test = standardscaler.transform(bank_x_test)"
   ]
  },
  {
   "cell_type": "code",
   "execution_count": 53,
   "metadata": {},
   "outputs": [],
   "source": [
    "standardscaler.fit(bank_test)\n",
    "bank_test = standardscaler.transform(bank_test)"
   ]
  },
  {
   "cell_type": "code",
   "execution_count": 1248,
   "metadata": {},
   "outputs": [],
   "source": [
    "# mmsc_cols=['cons.conf.idx','emp.var.rate','cons.price.idx','euribor3m','nr.employed']\n",
    "# mmsc_cols"
   ]
  },
  {
   "cell_type": "code",
   "execution_count": 1249,
   "metadata": {},
   "outputs": [],
   "source": [
    "# for col in mmsc_cols:\n",
    "    # minmaxscaler.fit(bank[[col]])\n",
    "  #   standardscaler.fit(bank_x_train[[col]])\n",
    "    # robustscaler.fit(bank[[col]])\n",
    "    # bank[col] = robustscaler.transform(bank[[col]])\n",
    "   #  bank_x_train[col] = standardscaler.transform(bank_x_train[[col]])\n",
    "    # bank[col] = minmaxscaler.transform(bank[[col]])"
   ]
  },
  {
   "cell_type": "code",
   "execution_count": 442,
   "metadata": {},
   "outputs": [],
   "source": [
    "# for col in mmsc_cols:\n",
    "    # minmaxscaler.fit(bank[[col]])\n",
    "  #  standardscaler.fit(bank_x_test[[col]])\n",
    "    # robustscaler.fit(bank[[col]])\n",
    "    # bank[col] = robustscaler.transform(bank[[col]])\n",
    "   # bank_x_test[col] = standardscaler.transform(bank_x_test[[col]])\n",
    "    # bank[col] = minmaxscaler.transform(bank[[col]])"
   ]
  },
  {
   "cell_type": "code",
   "execution_count": 443,
   "metadata": {},
   "outputs": [],
   "source": [
    "#for col in mmsc_cols:\n",
    "    # minmaxscaler.fit(bank[[col]])\n",
    " #   standardscaler.fit(bank_test[[col]])\n",
    "    # robustscaler.fit(bank[[col]])\n",
    "    # bank[col] = robustscaler.transform(bank[[col]])\n",
    "  #  bank_test[col] = standardscaler.transform(bank_test[[col]])\n",
    "    # bank[col] = minmaxscaler.transform(bank[[col]])"
   ]
  },
  {
   "cell_type": "code",
   "execution_count": 59,
   "metadata": {},
   "outputs": [
    {
     "data": {
      "text/html": [
       "<div>\n",
       "<style scoped>\n",
       "    .dataframe tbody tr th:only-of-type {\n",
       "        vertical-align: middle;\n",
       "    }\n",
       "\n",
       "    .dataframe tbody tr th {\n",
       "        vertical-align: top;\n",
       "    }\n",
       "\n",
       "    .dataframe thead th {\n",
       "        text-align: right;\n",
       "    }\n",
       "</style>\n",
       "<table border=\"1\" class=\"dataframe\">\n",
       "  <thead>\n",
       "    <tr style=\"text-align: right;\">\n",
       "      <th></th>\n",
       "      <th>age</th>\n",
       "      <th>pdays</th>\n",
       "      <th>previous</th>\n",
       "      <th>emp.var.rate</th>\n",
       "      <th>cons.price.idx</th>\n",
       "      <th>cons.conf.idx</th>\n",
       "      <th>euribor3m</th>\n",
       "      <th>nr.employed</th>\n",
       "      <th>deposit</th>\n",
       "      <th>job_blue-collar</th>\n",
       "      <th>...</th>\n",
       "      <th>month_may</th>\n",
       "      <th>month_nov</th>\n",
       "      <th>month_oct</th>\n",
       "      <th>month_sep</th>\n",
       "      <th>poutcome_nonexistent</th>\n",
       "      <th>poutcome_success</th>\n",
       "      <th>day_of_week_mon</th>\n",
       "      <th>day_of_week_thu</th>\n",
       "      <th>day_of_week_tue</th>\n",
       "      <th>day_of_week_wed</th>\n",
       "    </tr>\n",
       "  </thead>\n",
       "  <tbody>\n",
       "    <tr>\n",
       "      <td>count</td>\n",
       "      <td>41174.000000</td>\n",
       "      <td>41174.000000</td>\n",
       "      <td>41174.000000</td>\n",
       "      <td>41174.000000</td>\n",
       "      <td>41174.000000</td>\n",
       "      <td>41174.000000</td>\n",
       "      <td>41174.000000</td>\n",
       "      <td>41174.000000</td>\n",
       "      <td>41174.000000</td>\n",
       "      <td>41174.000000</td>\n",
       "      <td>...</td>\n",
       "      <td>41174.000000</td>\n",
       "      <td>41174.000000</td>\n",
       "      <td>41174.000000</td>\n",
       "      <td>41174.000000</td>\n",
       "      <td>41174.000000</td>\n",
       "      <td>41174.000000</td>\n",
       "      <td>41174.000000</td>\n",
       "      <td>41174.000000</td>\n",
       "      <td>41174.000000</td>\n",
       "      <td>41174.000000</td>\n",
       "    </tr>\n",
       "    <tr>\n",
       "      <td>mean</td>\n",
       "      <td>40.023583</td>\n",
       "      <td>0.036431</td>\n",
       "      <td>0.173022</td>\n",
       "      <td>0.081865</td>\n",
       "      <td>93.575713</td>\n",
       "      <td>-40.503070</td>\n",
       "      <td>3.621231</td>\n",
       "      <td>5167.032805</td>\n",
       "      <td>0.112668</td>\n",
       "      <td>0.227158</td>\n",
       "      <td>...</td>\n",
       "      <td>0.334337</td>\n",
       "      <td>0.099577</td>\n",
       "      <td>0.017414</td>\n",
       "      <td>0.013844</td>\n",
       "      <td>0.863385</td>\n",
       "      <td>0.033346</td>\n",
       "      <td>0.206708</td>\n",
       "      <td>0.209283</td>\n",
       "      <td>0.196386</td>\n",
       "      <td>0.197552</td>\n",
       "    </tr>\n",
       "    <tr>\n",
       "      <td>std</td>\n",
       "      <td>10.420578</td>\n",
       "      <td>0.187362</td>\n",
       "      <td>0.494975</td>\n",
       "      <td>1.570899</td>\n",
       "      <td>0.578849</td>\n",
       "      <td>4.627877</td>\n",
       "      <td>1.734456</td>\n",
       "      <td>72.252395</td>\n",
       "      <td>0.316191</td>\n",
       "      <td>0.419001</td>\n",
       "      <td>...</td>\n",
       "      <td>0.471764</td>\n",
       "      <td>0.299439</td>\n",
       "      <td>0.130809</td>\n",
       "      <td>0.116843</td>\n",
       "      <td>0.343445</td>\n",
       "      <td>0.179541</td>\n",
       "      <td>0.404949</td>\n",
       "      <td>0.406801</td>\n",
       "      <td>0.397269</td>\n",
       "      <td>0.398157</td>\n",
       "    </tr>\n",
       "    <tr>\n",
       "      <td>min</td>\n",
       "      <td>17.000000</td>\n",
       "      <td>0.000000</td>\n",
       "      <td>0.000000</td>\n",
       "      <td>-3.400000</td>\n",
       "      <td>92.201000</td>\n",
       "      <td>-50.800000</td>\n",
       "      <td>0.634000</td>\n",
       "      <td>4963.600000</td>\n",
       "      <td>0.000000</td>\n",
       "      <td>0.000000</td>\n",
       "      <td>...</td>\n",
       "      <td>0.000000</td>\n",
       "      <td>0.000000</td>\n",
       "      <td>0.000000</td>\n",
       "      <td>0.000000</td>\n",
       "      <td>0.000000</td>\n",
       "      <td>0.000000</td>\n",
       "      <td>0.000000</td>\n",
       "      <td>0.000000</td>\n",
       "      <td>0.000000</td>\n",
       "      <td>0.000000</td>\n",
       "    </tr>\n",
       "    <tr>\n",
       "      <td>25%</td>\n",
       "      <td>32.000000</td>\n",
       "      <td>0.000000</td>\n",
       "      <td>0.000000</td>\n",
       "      <td>-1.800000</td>\n",
       "      <td>93.075000</td>\n",
       "      <td>-42.700000</td>\n",
       "      <td>1.344000</td>\n",
       "      <td>5099.100000</td>\n",
       "      <td>0.000000</td>\n",
       "      <td>0.000000</td>\n",
       "      <td>...</td>\n",
       "      <td>0.000000</td>\n",
       "      <td>0.000000</td>\n",
       "      <td>0.000000</td>\n",
       "      <td>0.000000</td>\n",
       "      <td>1.000000</td>\n",
       "      <td>0.000000</td>\n",
       "      <td>0.000000</td>\n",
       "      <td>0.000000</td>\n",
       "      <td>0.000000</td>\n",
       "      <td>0.000000</td>\n",
       "    </tr>\n",
       "    <tr>\n",
       "      <td>50%</td>\n",
       "      <td>38.000000</td>\n",
       "      <td>0.000000</td>\n",
       "      <td>0.000000</td>\n",
       "      <td>1.100000</td>\n",
       "      <td>93.749000</td>\n",
       "      <td>-41.800000</td>\n",
       "      <td>4.857000</td>\n",
       "      <td>5191.000000</td>\n",
       "      <td>0.000000</td>\n",
       "      <td>0.000000</td>\n",
       "      <td>...</td>\n",
       "      <td>0.000000</td>\n",
       "      <td>0.000000</td>\n",
       "      <td>0.000000</td>\n",
       "      <td>0.000000</td>\n",
       "      <td>1.000000</td>\n",
       "      <td>0.000000</td>\n",
       "      <td>0.000000</td>\n",
       "      <td>0.000000</td>\n",
       "      <td>0.000000</td>\n",
       "      <td>0.000000</td>\n",
       "    </tr>\n",
       "    <tr>\n",
       "      <td>75%</td>\n",
       "      <td>47.000000</td>\n",
       "      <td>0.000000</td>\n",
       "      <td>0.000000</td>\n",
       "      <td>1.400000</td>\n",
       "      <td>93.994000</td>\n",
       "      <td>-36.400000</td>\n",
       "      <td>4.961000</td>\n",
       "      <td>5228.100000</td>\n",
       "      <td>0.000000</td>\n",
       "      <td>0.000000</td>\n",
       "      <td>...</td>\n",
       "      <td>1.000000</td>\n",
       "      <td>0.000000</td>\n",
       "      <td>0.000000</td>\n",
       "      <td>0.000000</td>\n",
       "      <td>1.000000</td>\n",
       "      <td>0.000000</td>\n",
       "      <td>0.000000</td>\n",
       "      <td>0.000000</td>\n",
       "      <td>0.000000</td>\n",
       "      <td>0.000000</td>\n",
       "    </tr>\n",
       "    <tr>\n",
       "      <td>max</td>\n",
       "      <td>98.000000</td>\n",
       "      <td>1.000000</td>\n",
       "      <td>7.000000</td>\n",
       "      <td>1.400000</td>\n",
       "      <td>94.767000</td>\n",
       "      <td>-26.900000</td>\n",
       "      <td>5.045000</td>\n",
       "      <td>5228.100000</td>\n",
       "      <td>1.000000</td>\n",
       "      <td>1.000000</td>\n",
       "      <td>...</td>\n",
       "      <td>1.000000</td>\n",
       "      <td>1.000000</td>\n",
       "      <td>1.000000</td>\n",
       "      <td>1.000000</td>\n",
       "      <td>1.000000</td>\n",
       "      <td>1.000000</td>\n",
       "      <td>1.000000</td>\n",
       "      <td>1.000000</td>\n",
       "      <td>1.000000</td>\n",
       "      <td>1.000000</td>\n",
       "    </tr>\n",
       "  </tbody>\n",
       "</table>\n",
       "<p>8 rows × 46 columns</p>\n",
       "</div>"
      ],
      "text/plain": [
       "                age         pdays      previous  emp.var.rate  cons.price.idx  \\\n",
       "count  41174.000000  41174.000000  41174.000000  41174.000000    41174.000000   \n",
       "mean      40.023583      0.036431      0.173022      0.081865       93.575713   \n",
       "std       10.420578      0.187362      0.494975      1.570899        0.578849   \n",
       "min       17.000000      0.000000      0.000000     -3.400000       92.201000   \n",
       "25%       32.000000      0.000000      0.000000     -1.800000       93.075000   \n",
       "50%       38.000000      0.000000      0.000000      1.100000       93.749000   \n",
       "75%       47.000000      0.000000      0.000000      1.400000       93.994000   \n",
       "max       98.000000      1.000000      7.000000      1.400000       94.767000   \n",
       "\n",
       "       cons.conf.idx     euribor3m   nr.employed       deposit  \\\n",
       "count   41174.000000  41174.000000  41174.000000  41174.000000   \n",
       "mean      -40.503070      3.621231   5167.032805      0.112668   \n",
       "std         4.627877      1.734456     72.252395      0.316191   \n",
       "min       -50.800000      0.634000   4963.600000      0.000000   \n",
       "25%       -42.700000      1.344000   5099.100000      0.000000   \n",
       "50%       -41.800000      4.857000   5191.000000      0.000000   \n",
       "75%       -36.400000      4.961000   5228.100000      0.000000   \n",
       "max       -26.900000      5.045000   5228.100000      1.000000   \n",
       "\n",
       "       job_blue-collar  ...     month_may     month_nov     month_oct  \\\n",
       "count     41174.000000  ...  41174.000000  41174.000000  41174.000000   \n",
       "mean          0.227158  ...      0.334337      0.099577      0.017414   \n",
       "std           0.419001  ...      0.471764      0.299439      0.130809   \n",
       "min           0.000000  ...      0.000000      0.000000      0.000000   \n",
       "25%           0.000000  ...      0.000000      0.000000      0.000000   \n",
       "50%           0.000000  ...      0.000000      0.000000      0.000000   \n",
       "75%           0.000000  ...      1.000000      0.000000      0.000000   \n",
       "max           1.000000  ...      1.000000      1.000000      1.000000   \n",
       "\n",
       "          month_sep  poutcome_nonexistent  poutcome_success  day_of_week_mon  \\\n",
       "count  41174.000000          41174.000000      41174.000000     41174.000000   \n",
       "mean       0.013844              0.863385          0.033346         0.206708   \n",
       "std        0.116843              0.343445          0.179541         0.404949   \n",
       "min        0.000000              0.000000          0.000000         0.000000   \n",
       "25%        0.000000              1.000000          0.000000         0.000000   \n",
       "50%        0.000000              1.000000          0.000000         0.000000   \n",
       "75%        0.000000              1.000000          0.000000         0.000000   \n",
       "max        1.000000              1.000000          1.000000         1.000000   \n",
       "\n",
       "       day_of_week_thu  day_of_week_tue  day_of_week_wed  \n",
       "count     41174.000000     41174.000000     41174.000000  \n",
       "mean          0.209283         0.196386         0.197552  \n",
       "std           0.406801         0.397269         0.398157  \n",
       "min           0.000000         0.000000         0.000000  \n",
       "25%           0.000000         0.000000         0.000000  \n",
       "50%           0.000000         0.000000         0.000000  \n",
       "75%           0.000000         0.000000         0.000000  \n",
       "max           1.000000         1.000000         1.000000  \n",
       "\n",
       "[8 rows x 46 columns]"
      ]
     },
     "execution_count": 59,
     "metadata": {},
     "output_type": "execute_result"
    }
   ],
   "source": [
    "bank.describe()"
   ]
  },
  {
   "cell_type": "code",
   "execution_count": 87,
   "metadata": {},
   "outputs": [
    {
     "name": "stdout",
     "output_type": "stream",
     "text": [
      "Before OverSampling, count of label '1': 3253\n",
      "Before OverSampling, count of label '0': 25568 \n",
      "\n",
      "After OverSampling, the shape of train_X: (51136, 45)\n",
      "After OverSampling, the shape of train_y: (51136,) \n",
      "\n",
      "After OverSampling, counts of label '1': 25568\n",
      "After OverSampling, counts of label '0': 25568\n"
     ]
    }
   ],
   "source": [
    "    print(\"Before OverSampling, count of label '1': {}\".format(sum(bank_y_train==1)))\n",
    "    print(\"Before OverSampling, count of label '0': {} \\n\".format(sum(bank_y_train==0)))\n",
    "\n",
    "    sm = SMOTE(random_state=2)\n",
    "    X_train_res, y_train_res = sm.fit_sample(bank_x_train, bank_y_train.ravel())\n",
    "\n",
    "    print('After OverSampling, the shape of train_X: {}'.format(X_train_res.shape))\n",
    "    print('After OverSampling, the shape of train_y: {} \\n'.format(y_train_res.shape))\n",
    "\n",
    "    print(\"After OverSampling, counts of label '1': {}\".format(sum(y_train_res==1)))\n",
    "    print(\"After OverSampling, counts of label '0': {}\".format(sum(y_train_res==0)))"
   ]
  },
  {
   "cell_type": "code",
   "execution_count": 55,
   "metadata": {},
   "outputs": [],
   "source": [
    "from sklearn.linear_model import LogisticRegression"
   ]
  },
  {
   "cell_type": "code",
   "execution_count": 56,
   "metadata": {},
   "outputs": [],
   "source": [
    "logmodel = LogisticRegression()"
   ]
  },
  {
   "cell_type": "code",
   "execution_count": 90,
   "metadata": {},
   "outputs": [
    {
     "data": {
      "text/plain": [
       "LogisticRegression()"
      ]
     },
     "execution_count": 90,
     "metadata": {},
     "output_type": "execute_result"
    }
   ],
   "source": [
    "# logmodel.fit(bank_x_train, bank_y_train)\n",
    "logmodel.fit(X_train_res, y_train_res)"
   ]
  },
  {
   "cell_type": "code",
   "execution_count": 91,
   "metadata": {},
   "outputs": [
    {
     "data": {
      "text/plain": [
       "array([0, 0, 0, ..., 0, 1, 0], dtype=int64)"
      ]
     },
     "execution_count": 91,
     "metadata": {},
     "output_type": "execute_result"
    }
   ],
   "source": [
    "pred_lm = logmodel.predict(bank_x_test)\n",
    "pred_lm"
   ]
  },
  {
   "cell_type": "code",
   "execution_count": 92,
   "metadata": {},
   "outputs": [],
   "source": [
    "from sklearn.metrics import classification_report,confusion_matrix,accuracy_score"
   ]
  },
  {
   "cell_type": "code",
   "execution_count": 93,
   "metadata": {},
   "outputs": [
    {
     "data": {
      "text/plain": [
       "array([[ 882, 1625],\n",
       "       [ 504, 9342]], dtype=int64)"
      ]
     },
     "execution_count": 93,
     "metadata": {},
     "output_type": "execute_result"
    }
   ],
   "source": [
    "tab1 = confusion_matrix(pred_lm, bank_y_test, labels=[1,0])\n",
    "tab1"
   ]
  },
  {
   "cell_type": "code",
   "execution_count": 94,
   "metadata": {},
   "outputs": [
    {
     "name": "stdout",
     "output_type": "stream",
     "text": [
      "0.8276532016514208\n"
     ]
    }
   ],
   "source": [
    "print(accuracy_score(bank_y_test, pred_lm))"
   ]
  },
  {
   "cell_type": "code",
   "execution_count": 95,
   "metadata": {},
   "outputs": [
    {
     "name": "stdout",
     "output_type": "stream",
     "text": [
      "              precision    recall  f1-score   support\n",
      "\n",
      "           0       0.95      0.85      0.90     10967\n",
      "           1       0.35      0.64      0.45      1386\n",
      "\n",
      "    accuracy                           0.83     12353\n",
      "   macro avg       0.65      0.74      0.68     12353\n",
      "weighted avg       0.88      0.83      0.85     12353\n",
      "\n"
     ]
    }
   ],
   "source": [
    "print(classification_report(bank_y_test, pred_lm))"
   ]
  },
  {
   "cell_type": "code",
   "execution_count": 96,
   "metadata": {},
   "outputs": [],
   "source": [
    "pred_lm1 = logmodel.predict_proba(bank_x_test)"
   ]
  },
  {
   "cell_type": "code",
   "execution_count": 97,
   "metadata": {},
   "outputs": [
    {
     "data": {
      "text/plain": [
       "[array([0.6938121, 0.3061879]),\n",
       " array([0.78619459, 0.21380541]),\n",
       " array([0.78907607, 0.21092393]),\n",
       " array([0.77599684, 0.22400316]),\n",
       " array([0.03547338, 0.96452662]),\n",
       " array([0.28883742, 0.71116258]),\n",
       " array([0.4263063, 0.5736937]),\n",
       " array([0.17856319, 0.82143681]),\n",
       " array([0.17207171, 0.82792829]),\n",
       " array([0.61619886, 0.38380114]),\n",
       " array([0.74028982, 0.25971018]),\n",
       " array([0.60286837, 0.39713163]),\n",
       " array([0.2428666, 0.7571334]),\n",
       " array([0.66873999, 0.33126001]),\n",
       " array([0.77233414, 0.22766586]),\n",
       " array([0.29143041, 0.70856959]),\n",
       " array([0.77538028, 0.22461972]),\n",
       " array([0.78576444, 0.21423556]),\n",
       " array([0.68887098, 0.31112902]),\n",
       " array([0.8319929, 0.1680071]),\n",
       " array([0.60869341, 0.39130659]),\n",
       " array([0.6429696, 0.3570304]),\n",
       " array([0.5206328, 0.4793672]),\n",
       " array([0.75580317, 0.24419683]),\n",
       " array([0.76251851, 0.23748149]),\n",
       " array([0.65357397, 0.34642603]),\n",
       " array([0.56518643, 0.43481357]),\n",
       " array([0.67462977, 0.32537023]),\n",
       " array([0.7308501, 0.2691499]),\n",
       " array([0.12616836, 0.87383164]),\n",
       " array([0.60608632, 0.39391368]),\n",
       " array([0.74792723, 0.25207277]),\n",
       " array([0.76516131, 0.23483869]),\n",
       " array([0.64221167, 0.35778833]),\n",
       " array([0.67214978, 0.32785022]),\n",
       " array([0.70881833, 0.29118167]),\n",
       " array([0.79960224, 0.20039776]),\n",
       " array([0.65660141, 0.34339859]),\n",
       " array([0.28964655, 0.71035345]),\n",
       " array([0.69372813, 0.30627187]),\n",
       " array([0.71608429, 0.28391571]),\n",
       " array([0.59224041, 0.40775959]),\n",
       " array([0.71261957, 0.28738043]),\n",
       " array([0.69057426, 0.30942574]),\n",
       " array([0.73805728, 0.26194272]),\n",
       " array([0.7557157, 0.2442843]),\n",
       " array([0.70354667, 0.29645333]),\n",
       " array([0.77663046, 0.22336954]),\n",
       " array([0.71831349, 0.28168651]),\n",
       " array([0.6627806, 0.3372194]),\n",
       " array([0.47479482, 0.52520518]),\n",
       " array([0.77096987, 0.22903013]),\n",
       " array([0.62973383, 0.37026617]),\n",
       " array([0.68963287, 0.31036713]),\n",
       " array([0.67779627, 0.32220373]),\n",
       " array([0.78967537, 0.21032463]),\n",
       " array([0.62574367, 0.37425633]),\n",
       " array([0.73243259, 0.26756741]),\n",
       " array([0.83344334, 0.16655666]),\n",
       " array([0.62389013, 0.37610987]),\n",
       " array([0.85286704, 0.14713296]),\n",
       " array([0.6703513, 0.3296487]),\n",
       " array([0.62362017, 0.37637983]),\n",
       " array([0.58640133, 0.41359867]),\n",
       " array([0.78751908, 0.21248092]),\n",
       " array([0.67039292, 0.32960708]),\n",
       " array([0.80055176, 0.19944824]),\n",
       " array([0.7080486, 0.2919514]),\n",
       " array([0.73598409, 0.26401591]),\n",
       " array([0.21680347, 0.78319653]),\n",
       " array([0.63645454, 0.36354546]),\n",
       " array([0.32104971, 0.67895029]),\n",
       " array([0.66722006, 0.33277994]),\n",
       " array([0.78055768, 0.21944232]),\n",
       " array([0.57602354, 0.42397646]),\n",
       " array([0.30352926, 0.69647074]),\n",
       " array([0.73700781, 0.26299219]),\n",
       " array([0.61133484, 0.38866516]),\n",
       " array([0.80622911, 0.19377089]),\n",
       " array([0.72397578, 0.27602422]),\n",
       " array([0.16251216, 0.83748784]),\n",
       " array([0.81813306, 0.18186694]),\n",
       " array([0.75310261, 0.24689739]),\n",
       " array([0.22149788, 0.77850212]),\n",
       " array([0.7506303, 0.2493697]),\n",
       " array([0.70103006, 0.29896994]),\n",
       " array([0.70248839, 0.29751161]),\n",
       " array([0.63937515, 0.36062485]),\n",
       " array([0.67474556, 0.32525444]),\n",
       " array([0.60450218, 0.39549782]),\n",
       " array([0.75243885, 0.24756115]),\n",
       " array([0.78547689, 0.21452311]),\n",
       " array([0.71425065, 0.28574935]),\n",
       " array([0.22256978, 0.77743022]),\n",
       " array([0.74107018, 0.25892982]),\n",
       " array([0.61337506, 0.38662494]),\n",
       " array([0.71230124, 0.28769876]),\n",
       " array([0.72496644, 0.27503356]),\n",
       " array([0.76906397, 0.23093603]),\n",
       " array([0.82478505, 0.17521495]),\n",
       " array([0.69979662, 0.30020338]),\n",
       " array([0.27831696, 0.72168304]),\n",
       " array([0.26576539, 0.73423461]),\n",
       " array([0.53507824, 0.46492176]),\n",
       " array([0.79465981, 0.20534019]),\n",
       " array([0.61124821, 0.38875179]),\n",
       " array([0.79098823, 0.20901177]),\n",
       " array([0.53381792, 0.46618208]),\n",
       " array([0.75800077, 0.24199923]),\n",
       " array([0.27690939, 0.72309061]),\n",
       " array([0.80586361, 0.19413639]),\n",
       " array([0.79821865, 0.20178135]),\n",
       " array([0.67227697, 0.32772303]),\n",
       " array([0.49293243, 0.50706757]),\n",
       " array([0.56840959, 0.43159041]),\n",
       " array([0.80006864, 0.19993136]),\n",
       " array([0.5981671, 0.4018329]),\n",
       " array([0.44269856, 0.55730144]),\n",
       " array([0.61626324, 0.38373676]),\n",
       " array([0.70006103, 0.29993897]),\n",
       " array([0.79071838, 0.20928162]),\n",
       " array([0.3650999, 0.6349001]),\n",
       " array([0.71905246, 0.28094754]),\n",
       " array([0.72055248, 0.27944752]),\n",
       " array([0.67481242, 0.32518758]),\n",
       " array([0.76723083, 0.23276917]),\n",
       " array([0.64287185, 0.35712815]),\n",
       " array([0.79644387, 0.20355613]),\n",
       " array([0.59172889, 0.40827111]),\n",
       " array([0.78285621, 0.21714379]),\n",
       " array([0.08242987, 0.91757013]),\n",
       " array([0.35670555, 0.64329445]),\n",
       " array([0.31273639, 0.68726361]),\n",
       " array([0.81846936, 0.18153064]),\n",
       " array([0.74179831, 0.25820169]),\n",
       " array([0.75481563, 0.24518437]),\n",
       " array([0.45773911, 0.54226089]),\n",
       " array([0.74973072, 0.25026928]),\n",
       " array([0.67419966, 0.32580034]),\n",
       " array([0.67544269, 0.32455731]),\n",
       " array([0.75623997, 0.24376003]),\n",
       " array([0.78377964, 0.21622036]),\n",
       " array([0.73167379, 0.26832621]),\n",
       " array([0.76549376, 0.23450624]),\n",
       " array([0.73987256, 0.26012744]),\n",
       " array([0.76316289, 0.23683711]),\n",
       " array([0.7941808, 0.2058192]),\n",
       " array([0.54481894, 0.45518106]),\n",
       " array([0.66355311, 0.33644689]),\n",
       " array([0.7690479, 0.2309521]),\n",
       " array([0.55287595, 0.44712405]),\n",
       " array([0.71554797, 0.28445203]),\n",
       " array([0.48282385, 0.51717615]),\n",
       " array([0.62909455, 0.37090545]),\n",
       " array([0.52242228, 0.47757772]),\n",
       " array([0.73701051, 0.26298949]),\n",
       " array([0.77943018, 0.22056982]),\n",
       " array([0.6226499, 0.3773501]),\n",
       " array([0.60712876, 0.39287124]),\n",
       " array([0.68147006, 0.31852994]),\n",
       " array([0.59359135, 0.40640865]),\n",
       " array([0.69892636, 0.30107364]),\n",
       " array([0.5511202, 0.4488798]),\n",
       " array([0.78273204, 0.21726796]),\n",
       " array([0.73826083, 0.26173917]),\n",
       " array([0.69995007, 0.30004993]),\n",
       " array([0.72061333, 0.27938667]),\n",
       " array([0.04688249, 0.95311751]),\n",
       " array([0.63732464, 0.36267536]),\n",
       " array([0.64647595, 0.35352405]),\n",
       " array([0.68058629, 0.31941371]),\n",
       " array([0.13117203, 0.86882797]),\n",
       " array([0.69044255, 0.30955745]),\n",
       " array([0.81722534, 0.18277466]),\n",
       " array([0.61555812, 0.38444188]),\n",
       " array([0.67557261, 0.32442739]),\n",
       " array([0.62478536, 0.37521464]),\n",
       " array([0.16090785, 0.83909215]),\n",
       " array([0.63692688, 0.36307312]),\n",
       " array([0.90789962, 0.09210038]),\n",
       " array([0.78316842, 0.21683158]),\n",
       " array([0.54327488, 0.45672512]),\n",
       " array([0.02735021, 0.97264979]),\n",
       " array([0.12422067, 0.87577933]),\n",
       " array([0.5584517, 0.4415483]),\n",
       " array([0.81108796, 0.18891204]),\n",
       " array([0.56734444, 0.43265556]),\n",
       " array([0.55200528, 0.44799472]),\n",
       " array([0.68544114, 0.31455886]),\n",
       " array([0.84035843, 0.15964157]),\n",
       " array([0.61581085, 0.38418915]),\n",
       " array([0.71537067, 0.28462933]),\n",
       " array([0.79905445, 0.20094555]),\n",
       " array([0.76301612, 0.23698388]),\n",
       " array([0.77883079, 0.22116921]),\n",
       " array([0.68486653, 0.31513347]),\n",
       " array([0.50168894, 0.49831106]),\n",
       " array([0.64304025, 0.35695975]),\n",
       " array([0.84473256, 0.15526744]),\n",
       " array([0.64080777, 0.35919223]),\n",
       " array([0.71758256, 0.28241744]),\n",
       " array([0.81014811, 0.18985189]),\n",
       " array([0.81496686, 0.18503314]),\n",
       " array([0.62077121, 0.37922879]),\n",
       " array([0.62152321, 0.37847679]),\n",
       " array([0.20552832, 0.79447168]),\n",
       " array([0.83132885, 0.16867115]),\n",
       " array([0.71611627, 0.28388373]),\n",
       " array([0.79552431, 0.20447569]),\n",
       " array([0.25188843, 0.74811157]),\n",
       " array([0.78920869, 0.21079131]),\n",
       " array([0.78040575, 0.21959425]),\n",
       " array([0.76721865, 0.23278135]),\n",
       " array([0.27865778, 0.72134222]),\n",
       " array([0.66466136, 0.33533864]),\n",
       " array([0.49672933, 0.50327067]),\n",
       " array([0.46131224, 0.53868776]),\n",
       " array([0.72987051, 0.27012949]),\n",
       " array([0.6668351, 0.3331649]),\n",
       " array([0.81280534, 0.18719466]),\n",
       " array([0.23021583, 0.76978417]),\n",
       " array([0.60886168, 0.39113832]),\n",
       " array([0.80066498, 0.19933502]),\n",
       " array([0.33364127, 0.66635873]),\n",
       " array([0.01763534, 0.98236466]),\n",
       " array([0.60947055, 0.39052945]),\n",
       " array([0.84008622, 0.15991378]),\n",
       " array([0.68702897, 0.31297103]),\n",
       " array([0.76125391, 0.23874609]),\n",
       " array([0.56974889, 0.43025111]),\n",
       " array([0.63041011, 0.36958989]),\n",
       " array([0.08911781, 0.91088219]),\n",
       " array([0.63031703, 0.36968297]),\n",
       " array([0.60915077, 0.39084923]),\n",
       " array([0.67036813, 0.32963187]),\n",
       " array([0.60150037, 0.39849963]),\n",
       " array([0.61711562, 0.38288438]),\n",
       " array([0.74065678, 0.25934322]),\n",
       " array([0.67125585, 0.32874415]),\n",
       " array([0.6262324, 0.3737676]),\n",
       " array([0.58750374, 0.41249626]),\n",
       " array([0.31403727, 0.68596273]),\n",
       " array([0.75435156, 0.24564844]),\n",
       " array([0.62462322, 0.37537678]),\n",
       " array([0.80131806, 0.19868194]),\n",
       " array([0.55765766, 0.44234234]),\n",
       " array([0.69631282, 0.30368718]),\n",
       " array([0.8342416, 0.1657584]),\n",
       " array([0.71834694, 0.28165306]),\n",
       " array([0.54101747, 0.45898253]),\n",
       " array([0.73439449, 0.26560551]),\n",
       " array([0.76903317, 0.23096683]),\n",
       " array([0.74351575, 0.25648425]),\n",
       " array([0.71940491, 0.28059509]),\n",
       " array([0.31877424, 0.68122576]),\n",
       " array([0.04846018, 0.95153982]),\n",
       " array([0.78886937, 0.21113063]),\n",
       " array([0.30155585, 0.69844415]),\n",
       " array([0.67222158, 0.32777842]),\n",
       " array([0.70772628, 0.29227372]),\n",
       " array([0.77035588, 0.22964412]),\n",
       " array([0.68084507, 0.31915493]),\n",
       " array([0.15280926, 0.84719074]),\n",
       " array([0.64411664, 0.35588336]),\n",
       " array([0.56276526, 0.43723474]),\n",
       " array([0.68926969, 0.31073031]),\n",
       " array([0.75524553, 0.24475447]),\n",
       " array([0.79023039, 0.20976961]),\n",
       " array([0.73593522, 0.26406478]),\n",
       " array([0.64695295, 0.35304705]),\n",
       " array([0.50548636, 0.49451364]),\n",
       " array([0.68025054, 0.31974946]),\n",
       " array([0.57667906, 0.42332094]),\n",
       " array([0.57106277, 0.42893723]),\n",
       " array([0.65899769, 0.34100231]),\n",
       " array([0.78193731, 0.21806269]),\n",
       " array([0.72740602, 0.27259398]),\n",
       " array([0.69870455, 0.30129545]),\n",
       " array([0.80475156, 0.19524844]),\n",
       " array([0.26697604, 0.73302396]),\n",
       " array([0.23175689, 0.76824311]),\n",
       " array([0.64827035, 0.35172965]),\n",
       " array([0.66708302, 0.33291698]),\n",
       " array([0.75942529, 0.24057471]),\n",
       " array([0.73634597, 0.26365403]),\n",
       " array([0.75342872, 0.24657128]),\n",
       " array([0.62309731, 0.37690269]),\n",
       " array([0.78804049, 0.21195951]),\n",
       " array([0.26932871, 0.73067129]),\n",
       " array([0.54143342, 0.45856658]),\n",
       " array([0.69212869, 0.30787131]),\n",
       " array([0.03761472, 0.96238528]),\n",
       " array([0.73545163, 0.26454837]),\n",
       " array([0.54341747, 0.45658253]),\n",
       " array([0.81242685, 0.18757315]),\n",
       " array([0.65026403, 0.34973597]),\n",
       " array([0.33805119, 0.66194881]),\n",
       " array([0.04624165, 0.95375835]),\n",
       " array([0.73854384, 0.26145616]),\n",
       " array([0.76962294, 0.23037706]),\n",
       " array([0.61117468, 0.38882532]),\n",
       " array([0.20166177, 0.79833823]),\n",
       " array([0.78212352, 0.21787648]),\n",
       " array([0.03403819, 0.96596181]),\n",
       " array([0.8194823, 0.1805177]),\n",
       " array([0.54341747, 0.45658253]),\n",
       " array([0.75902447, 0.24097553]),\n",
       " array([0.02957501, 0.97042499]),\n",
       " array([0.64721969, 0.35278031]),\n",
       " array([0.19042276, 0.80957724]),\n",
       " array([0.66482836, 0.33517164]),\n",
       " array([0.7796255, 0.2203745]),\n",
       " array([0.76519241, 0.23480759]),\n",
       " array([0.24414145, 0.75585855]),\n",
       " array([0.6733851, 0.3266149]),\n",
       " array([0.03911149, 0.96088851]),\n",
       " array([0.50427605, 0.49572395]),\n",
       " array([0.52802981, 0.47197019]),\n",
       " array([0.75214589, 0.24785411]),\n",
       " array([0.69832071, 0.30167929]),\n",
       " array([0.74788527, 0.25211473]),\n",
       " array([0.73223735, 0.26776265]),\n",
       " array([0.17059223, 0.82940777]),\n",
       " array([0.61950426, 0.38049574]),\n",
       " array([0.73774931, 0.26225069]),\n",
       " array([0.73061018, 0.26938982]),\n",
       " array([0.79379697, 0.20620303]),\n",
       " array([0.86613466, 0.13386534]),\n",
       " array([0.59297142, 0.40702858]),\n",
       " array([0.82930963, 0.17069037]),\n",
       " array([0.29947523, 0.70052477]),\n",
       " array([0.68189321, 0.31810679]),\n",
       " array([0.68148864, 0.31851136]),\n",
       " array([0.75327971, 0.24672029]),\n",
       " array([0.83440111, 0.16559889]),\n",
       " array([0.72822481, 0.27177519]),\n",
       " array([0.73353535, 0.26646465]),\n",
       " array([0.76898884, 0.23101116]),\n",
       " array([0.74458162, 0.25541838]),\n",
       " array([0.41616972, 0.58383028]),\n",
       " array([0.55879222, 0.44120778]),\n",
       " array([0.16468172, 0.83531828]),\n",
       " array([0.74031349, 0.25968651]),\n",
       " array([0.75857184, 0.24142816]),\n",
       " array([0.69207613, 0.30792387]),\n",
       " array([0.03358816, 0.96641184]),\n",
       " array([0.8270196, 0.1729804]),\n",
       " array([0.64670981, 0.35329019]),\n",
       " array([0.26385559, 0.73614441]),\n",
       " array([0.43036798, 0.56963202]),\n",
       " array([0.61812538, 0.38187462]),\n",
       " array([0.66859794, 0.33140206]),\n",
       " array([0.63249354, 0.36750646]),\n",
       " array([0.5928251, 0.4071749]),\n",
       " array([0.7789658, 0.2210342]),\n",
       " array([0.49270321, 0.50729679]),\n",
       " array([0.83285549, 0.16714451]),\n",
       " array([0.72315497, 0.27684503]),\n",
       " array([0.58099993, 0.41900007]),\n",
       " array([0.1812307, 0.8187693]),\n",
       " array([0.73580658, 0.26419342]),\n",
       " array([0.6939928, 0.3060072]),\n",
       " array([0.71102324, 0.28897676]),\n",
       " array([0.68224828, 0.31775172]),\n",
       " array([0.76437443, 0.23562557]),\n",
       " array([0.79466375, 0.20533625]),\n",
       " array([0.12427141, 0.87572859]),\n",
       " array([0.81817686, 0.18182314]),\n",
       " array([0.47681682, 0.52318318]),\n",
       " array([0.68811415, 0.31188585]),\n",
       " array([0.77043097, 0.22956903]),\n",
       " array([0.70577044, 0.29422956]),\n",
       " array([0.8374066, 0.1625934]),\n",
       " array([0.7850422, 0.2149578]),\n",
       " array([0.49105114, 0.50894886]),\n",
       " array([0.77092214, 0.22907786]),\n",
       " array([0.67058863, 0.32941137]),\n",
       " array([0.72159499, 0.27840501]),\n",
       " array([0.69785567, 0.30214433]),\n",
       " array([0.68268546, 0.31731454]),\n",
       " array([0.71267377, 0.28732623]),\n",
       " array([0.71398186, 0.28601814]),\n",
       " array([0.68385034, 0.31614966]),\n",
       " array([0.70315826, 0.29684174]),\n",
       " array([0.14095461, 0.85904539]),\n",
       " array([0.66817801, 0.33182199]),\n",
       " array([0.68182752, 0.31817248]),\n",
       " array([0.71416152, 0.28583848]),\n",
       " array([0.71888778, 0.28111222]),\n",
       " array([0.18212059, 0.81787941]),\n",
       " array([0.67783155, 0.32216845]),\n",
       " array([0.80943473, 0.19056527]),\n",
       " array([0.70650751, 0.29349249]),\n",
       " array([0.64533588, 0.35466412]),\n",
       " array([0.25532585, 0.74467415]),\n",
       " array([0.74951289, 0.25048711]),\n",
       " array([0.52087988, 0.47912012]),\n",
       " array([0.55051121, 0.44948879]),\n",
       " array([0.04544594, 0.95455406]),\n",
       " array([0.75218951, 0.24781049]),\n",
       " array([0.76779885, 0.23220115]),\n",
       " array([0.60233967, 0.39766033]),\n",
       " array([0.68157159, 0.31842841]),\n",
       " array([0.75364591, 0.24635409]),\n",
       " array([0.74139052, 0.25860948]),\n",
       " array([0.5549446, 0.4450554]),\n",
       " array([0.863795, 0.136205]),\n",
       " array([0.72353974, 0.27646026]),\n",
       " array([0.75660136, 0.24339864]),\n",
       " array([0.596599, 0.403401]),\n",
       " array([0.72911412, 0.27088588]),\n",
       " array([0.64537591, 0.35462409]),\n",
       " array([0.77107028, 0.22892972]),\n",
       " array([0.79854974, 0.20145026]),\n",
       " array([0.09945773, 0.90054227]),\n",
       " array([0.71936849, 0.28063151]),\n",
       " array([0.7313319, 0.2686681]),\n",
       " array([0.69441478, 0.30558522]),\n",
       " array([0.16842274, 0.83157726]),\n",
       " array([0.36770076, 0.63229924]),\n",
       " array([0.15453436, 0.84546564]),\n",
       " array([0.7314459, 0.2685541]),\n",
       " array([0.03219484, 0.96780516]),\n",
       " array([0.74754292, 0.25245708]),\n",
       " array([0.72887664, 0.27112336]),\n",
       " array([0.83155918, 0.16844082]),\n",
       " array([0.26616902, 0.73383098]),\n",
       " array([0.54164484, 0.45835516]),\n",
       " array([0.44374802, 0.55625198]),\n",
       " array([0.6746157, 0.3253843]),\n",
       " array([0.5964356, 0.4035644]),\n",
       " array([0.71683598, 0.28316402]),\n",
       " array([0.63206855, 0.36793145]),\n",
       " array([0.49886822, 0.50113178]),\n",
       " array([0.51032552, 0.48967448]),\n",
       " array([0.8082524, 0.1917476]),\n",
       " array([0.50177979, 0.49822021]),\n",
       " array([0.79993719, 0.20006281]),\n",
       " array([0.75085481, 0.24914519]),\n",
       " array([0.57118057, 0.42881943]),\n",
       " array([0.70987837, 0.29012163]),\n",
       " array([0.77726569, 0.22273431]),\n",
       " array([0.82082778, 0.17917222]),\n",
       " array([0.46774437, 0.53225563]),\n",
       " array([0.61433173, 0.38566827]),\n",
       " array([0.7461925, 0.2538075]),\n",
       " array([0.73269223, 0.26730777]),\n",
       " array([0.80005478, 0.19994522]),\n",
       " array([0.13031042, 0.86968958]),\n",
       " array([0.29868576, 0.70131424]),\n",
       " array([0.64035354, 0.35964646]),\n",
       " array([0.75852602, 0.24147398]),\n",
       " array([0.73154043, 0.26845957]),\n",
       " array([0.55151225, 0.44848775]),\n",
       " array([0.15248604, 0.84751396]),\n",
       " array([0.64428306, 0.35571694]),\n",
       " array([0.08710853, 0.91289147]),\n",
       " array([0.6931473, 0.3068527]),\n",
       " array([0.61458627, 0.38541373]),\n",
       " array([0.63886158, 0.36113842]),\n",
       " array([0.67893651, 0.32106349]),\n",
       " array([0.76254281, 0.23745719]),\n",
       " array([0.70696153, 0.29303847]),\n",
       " array([0.81610752, 0.18389248]),\n",
       " array([0.7266354, 0.2733646]),\n",
       " array([0.07756842, 0.92243158]),\n",
       " array([0.6660406, 0.3339594]),\n",
       " array([0.15825572, 0.84174428]),\n",
       " array([0.57482502, 0.42517498]),\n",
       " array([0.73237866, 0.26762134]),\n",
       " array([0.75183656, 0.24816344]),\n",
       " array([0.04827394, 0.95172606]),\n",
       " array([0.66888039, 0.33111961]),\n",
       " array([0.13688151, 0.86311849]),\n",
       " array([0.11196546, 0.88803454]),\n",
       " array([0.67663578, 0.32336422]),\n",
       " array([0.61735316, 0.38264684]),\n",
       " array([0.20163773, 0.79836227]),\n",
       " array([0.7393591, 0.2606409]),\n",
       " array([0.521326, 0.478674]),\n",
       " array([0.71556785, 0.28443215]),\n",
       " array([0.54496099, 0.45503901]),\n",
       " array([0.73673848, 0.26326152]),\n",
       " array([0.6220532, 0.3779468]),\n",
       " array([0.72682027, 0.27317973]),\n",
       " array([0.50644582, 0.49355418]),\n",
       " array([0.66334425, 0.33665575]),\n",
       " array([0.48410893, 0.51589107]),\n",
       " array([0.70382914, 0.29617086]),\n",
       " array([0.64380663, 0.35619337]),\n",
       " array([0.62116324, 0.37883676]),\n",
       " array([0.73952228, 0.26047772]),\n",
       " array([0.66619123, 0.33380877]),\n",
       " array([0.67498384, 0.32501616]),\n",
       " array([0.81221108, 0.18778892]),\n",
       " array([0.80139494, 0.19860506]),\n",
       " array([0.68613599, 0.31386401]),\n",
       " array([0.62006513, 0.37993487]),\n",
       " array([0.58650149, 0.41349851]),\n",
       " array([0.68142024, 0.31857976]),\n",
       " array([0.34042004, 0.65957996]),\n",
       " array([0.58963282, 0.41036718]),\n",
       " array([0.5453929, 0.4546071]),\n",
       " array([0.64571789, 0.35428211]),\n",
       " array([0.05035119, 0.94964881]),\n",
       " array([0.75315983, 0.24684017]),\n",
       " array([0.82005815, 0.17994185]),\n",
       " array([0.5425939, 0.4574061]),\n",
       " array([0.82100152, 0.17899848]),\n",
       " array([0.49559745, 0.50440255]),\n",
       " array([0.7104806, 0.2895194]),\n",
       " array([0.71380307, 0.28619693]),\n",
       " array([0.75353003, 0.24646997]),\n",
       " array([0.78731415, 0.21268585]),\n",
       " array([0.74475447, 0.25524553]),\n",
       " array([0.79717027, 0.20282973]),\n",
       " array([0.71165219, 0.28834781]),\n",
       " array([0.59871897, 0.40128103]),\n",
       " array([0.71513843, 0.28486157]),\n",
       " array([0.69156063, 0.30843937]),\n",
       " array([0.75208317, 0.24791683]),\n",
       " array([0.51033849, 0.48966151]),\n",
       " array([0.21815872, 0.78184128]),\n",
       " array([0.77756981, 0.22243019]),\n",
       " array([0.67538207, 0.32461793]),\n",
       " array([0.6777908, 0.3222092]),\n",
       " array([0.78114497, 0.21885503]),\n",
       " array([0.61735656, 0.38264344]),\n",
       " array([0.69088098, 0.30911902]),\n",
       " array([0.5220015, 0.4779985]),\n",
       " array([0.20574706, 0.79425294]),\n",
       " array([0.72424737, 0.27575263]),\n",
       " array([0.78741371, 0.21258629]),\n",
       " array([0.71483032, 0.28516968]),\n",
       " array([0.74149379, 0.25850621]),\n",
       " array([0.54017228, 0.45982772]),\n",
       " array([0.80381541, 0.19618459]),\n",
       " array([0.70520362, 0.29479638]),\n",
       " array([0.06597121, 0.93402879]),\n",
       " array([0.82626242, 0.17373758]),\n",
       " array([0.75844123, 0.24155877]),\n",
       " array([0.66850363, 0.33149637]),\n",
       " array([0.76696633, 0.23303367]),\n",
       " array([0.6054095, 0.3945905]),\n",
       " array([0.71587365, 0.28412635]),\n",
       " array([0.58132464, 0.41867536]),\n",
       " array([0.29656615, 0.70343385]),\n",
       " array([0.71956548, 0.28043452]),\n",
       " array([0.05512544, 0.94487456]),\n",
       " array([0.22532539, 0.77467461]),\n",
       " array([0.79092722, 0.20907278]),\n",
       " array([0.34784783, 0.65215217]),\n",
       " array([0.68241169, 0.31758831]),\n",
       " array([0.72948736, 0.27051264]),\n",
       " array([0.53837864, 0.46162136]),\n",
       " array([0.45386582, 0.54613418]),\n",
       " array([0.6686266, 0.3313734]),\n",
       " array([0.71618598, 0.28381402]),\n",
       " array([0.60148462, 0.39851538]),\n",
       " array([0.51864884, 0.48135116]),\n",
       " array([0.12384714, 0.87615286]),\n",
       " array([0.11981618, 0.88018382]),\n",
       " array([0.48341353, 0.51658647]),\n",
       " array([0.75630785, 0.24369215]),\n",
       " array([0.15474921, 0.84525079]),\n",
       " array([0.72707692, 0.27292308]),\n",
       " array([0.6903584, 0.3096416]),\n",
       " array([0.53222462, 0.46777538]),\n",
       " array([0.65254656, 0.34745344]),\n",
       " array([0.64047181, 0.35952819]),\n",
       " array([0.77508248, 0.22491752]),\n",
       " array([0.77673314, 0.22326686]),\n",
       " array([0.77255139, 0.22744861]),\n",
       " array([0.8756437, 0.1243563]),\n",
       " array([0.60292256, 0.39707744]),\n",
       " array([0.72533941, 0.27466059]),\n",
       " array([0.76681356, 0.23318644]),\n",
       " array([0.77773227, 0.22226773]),\n",
       " array([0.72767655, 0.27232345]),\n",
       " array([0.69926606, 0.30073394]),\n",
       " array([0.61902557, 0.38097443]),\n",
       " array([0.62328622, 0.37671378]),\n",
       " array([0.64995537, 0.35004463]),\n",
       " array([0.65821705, 0.34178295]),\n",
       " array([0.51992579, 0.48007421]),\n",
       " array([0.81567582, 0.18432418]),\n",
       " array([0.7506009, 0.2493991]),\n",
       " array([0.72900025, 0.27099975]),\n",
       " array([0.76370582, 0.23629418]),\n",
       " array([0.82282123, 0.17717877]),\n",
       " array([0.05390259, 0.94609741]),\n",
       " array([0.74577079, 0.25422921]),\n",
       " array([0.71741518, 0.28258482]),\n",
       " array([0.74662573, 0.25337427]),\n",
       " array([0.30322905, 0.69677095]),\n",
       " array([0.68567796, 0.31432204]),\n",
       " array([0.59944841, 0.40055159]),\n",
       " array([0.57221548, 0.42778452]),\n",
       " array([0.05864481, 0.94135519]),\n",
       " array([0.70554152, 0.29445848]),\n",
       " array([0.74632347, 0.25367653]),\n",
       " array([0.57224376, 0.42775624]),\n",
       " array([0.61687377, 0.38312623]),\n",
       " array([0.6165436, 0.3834564]),\n",
       " array([0.52342083, 0.47657917]),\n",
       " array([0.65879677, 0.34120323]),\n",
       " array([0.72716317, 0.27283683]),\n",
       " array([0.22841615, 0.77158385]),\n",
       " array([0.68089355, 0.31910645]),\n",
       " array([0.54523949, 0.45476051]),\n",
       " array([0.37302289, 0.62697711]),\n",
       " array([0.31214805, 0.68785195]),\n",
       " array([0.71645142, 0.28354858]),\n",
       " array([0.65850259, 0.34149741]),\n",
       " array([0.54318597, 0.45681403]),\n",
       " array([0.80491823, 0.19508177]),\n",
       " array([0.70293323, 0.29706677]),\n",
       " array([0.68000759, 0.31999241]),\n",
       " array([0.49975901, 0.50024099]),\n",
       " array([0.62362017, 0.37637983]),\n",
       " array([0.04974284, 0.95025716]),\n",
       " array([0.7124604, 0.2875396]),\n",
       " array([0.71660637, 0.28339363]),\n",
       " array([0.03718091, 0.96281909]),\n",
       " array([0.80010868, 0.19989132]),\n",
       " array([0.62116324, 0.37883676]),\n",
       " array([0.04127699, 0.95872301]),\n",
       " array([0.68724225, 0.31275775]),\n",
       " array([0.34690941, 0.65309059]),\n",
       " array([0.28638073, 0.71361927]),\n",
       " array([0.66203622, 0.33796378]),\n",
       " array([0.77035588, 0.22964412]),\n",
       " array([0.74861306, 0.25138694]),\n",
       " array([0.79821891, 0.20178109]),\n",
       " array([0.78017539, 0.21982461]),\n",
       " array([0.57671409, 0.42328591]),\n",
       " array([0.30107316, 0.69892684]),\n",
       " array([0.59083264, 0.40916736]),\n",
       " array([0.66747986, 0.33252014]),\n",
       " array([0.67212872, 0.32787128]),\n",
       " array([0.71544895, 0.28455105]),\n",
       " array([0.20393272, 0.79606728]),\n",
       " array([0.46587471, 0.53412529]),\n",
       " array([0.14021136, 0.85978864]),\n",
       " array([0.76047015, 0.23952985]),\n",
       " array([0.76034034, 0.23965966]),\n",
       " array([0.60129537, 0.39870463]),\n",
       " array([0.75936457, 0.24063543]),\n",
       " array([0.74209443, 0.25790557]),\n",
       " array([0.76968212, 0.23031788]),\n",
       " array([0.59692692, 0.40307308]),\n",
       " array([0.22834749, 0.77165251]),\n",
       " array([0.3989892, 0.6010108]),\n",
       " array([0.67816521, 0.32183479]),\n",
       " array([0.6741836, 0.3258164]),\n",
       " array([0.75524106, 0.24475894]),\n",
       " array([0.39582855, 0.60417145]),\n",
       " array([0.02491565, 0.97508435]),\n",
       " array([0.59052155, 0.40947845]),\n",
       " array([0.05418161, 0.94581839]),\n",
       " array([0.78719826, 0.21280174]),\n",
       " array([0.73158506, 0.26841494]),\n",
       " array([0.51025055, 0.48974945]),\n",
       " array([0.78039334, 0.21960666]),\n",
       " array([0.79981161, 0.20018839]),\n",
       " array([0.77416711, 0.22583289]),\n",
       " array([0.28511569, 0.71488431]),\n",
       " array([0.69370751, 0.30629249]),\n",
       " array([0.09638169, 0.90361831]),\n",
       " array([0.02459344, 0.97540656]),\n",
       " array([0.16290444, 0.83709556]),\n",
       " array([0.68496129, 0.31503871]),\n",
       " array([0.80662649, 0.19337351]),\n",
       " array([0.79736726, 0.20263274]),\n",
       " array([0.59256332, 0.40743668]),\n",
       " array([0.36656597, 0.63343403]),\n",
       " array([0.73857424, 0.26142576]),\n",
       " array([0.78886539, 0.21113461]),\n",
       " array([0.76611826, 0.23388174]),\n",
       " array([0.73810135, 0.26189865]),\n",
       " array([0.65260618, 0.34739382]),\n",
       " array([0.44320594, 0.55679406]),\n",
       " array([0.45174708, 0.54825292]),\n",
       " array([0.66554903, 0.33445097]),\n",
       " array([0.68581454, 0.31418546]),\n",
       " array([0.77631225, 0.22368775]),\n",
       " array([0.8440318, 0.1559682]),\n",
       " array([0.7176758, 0.2823242]),\n",
       " array([0.14075272, 0.85924728]),\n",
       " array([0.33890268, 0.66109732]),\n",
       " array([0.68354597, 0.31645403]),\n",
       " array([0.61035118, 0.38964882]),\n",
       " array([0.02408502, 0.97591498]),\n",
       " array([0.71008713, 0.28991287]),\n",
       " array([0.7564651, 0.2435349]),\n",
       " array([0.77831595, 0.22168405]),\n",
       " array([0.48265964, 0.51734036]),\n",
       " array([0.22270835, 0.77729165]),\n",
       " array([0.72459112, 0.27540888]),\n",
       " array([0.26682835, 0.73317165]),\n",
       " array([0.80352345, 0.19647655]),\n",
       " array([0.73736711, 0.26263289]),\n",
       " array([0.77631701, 0.22368299]),\n",
       " array([0.76468373, 0.23531627]),\n",
       " array([0.78998252, 0.21001748]),\n",
       " array([0.80664415, 0.19335585]),\n",
       " array([0.62713364, 0.37286636]),\n",
       " array([0.47065331, 0.52934669]),\n",
       " array([0.72397679, 0.27602321]),\n",
       " array([0.68258879, 0.31741121]),\n",
       " array([0.52597574, 0.47402426]),\n",
       " array([0.73909432, 0.26090568]),\n",
       " array([0.75052812, 0.24947188]),\n",
       " array([0.63342793, 0.36657207]),\n",
       " array([0.48148922, 0.51851078]),\n",
       " array([0.81330205, 0.18669795]),\n",
       " array([0.82820377, 0.17179623]),\n",
       " array([0.26810298, 0.73189702]),\n",
       " array([0.81438675, 0.18561325]),\n",
       " array([0.17164801, 0.82835199]),\n",
       " array([0.57308113, 0.42691887]),\n",
       " array([0.16258164, 0.83741836]),\n",
       " array([0.34822119, 0.65177881]),\n",
       " array([0.59562939, 0.40437061]),\n",
       " array([0.25791577, 0.74208423]),\n",
       " array([0.81995421, 0.18004579]),\n",
       " array([0.75173606, 0.24826394]),\n",
       " array([0.79491825, 0.20508175]),\n",
       " array([0.71303639, 0.28696361]),\n",
       " array([0.57580378, 0.42419622]),\n",
       " array([0.82206012, 0.17793988]),\n",
       " array([0.79902512, 0.20097488]),\n",
       " array([0.81523352, 0.18476648]),\n",
       " array([0.75777326, 0.24222674]),\n",
       " array([0.19062228, 0.80937772]),\n",
       " array([0.25658574, 0.74341426]),\n",
       " array([0.78221087, 0.21778913]),\n",
       " array([0.74741195, 0.25258805]),\n",
       " array([0.7144445, 0.2855555]),\n",
       " array([0.76131145, 0.23868855]),\n",
       " array([0.70586843, 0.29413157]),\n",
       " array([0.76546587, 0.23453413]),\n",
       " array([0.78743789, 0.21256211]),\n",
       " array([0.65566885, 0.34433115]),\n",
       " array([0.70479936, 0.29520064]),\n",
       " array([0.66264047, 0.33735953]),\n",
       " array([0.30299343, 0.69700657]),\n",
       " array([0.58396546, 0.41603454]),\n",
       " array([0.76705467, 0.23294533]),\n",
       " array([0.68351471, 0.31648529]),\n",
       " array([0.65748183, 0.34251817]),\n",
       " array([0.5610527, 0.4389473]),\n",
       " array([0.80005933, 0.19994067]),\n",
       " array([0.69343196, 0.30656804]),\n",
       " array([0.54160492, 0.45839508]),\n",
       " array([0.02402719, 0.97597281]),\n",
       " array([0.60876528, 0.39123472]),\n",
       " array([0.73073235, 0.26926765]),\n",
       " array([0.42929641, 0.57070359]),\n",
       " array([0.73392827, 0.26607173]),\n",
       " array([0.60848444, 0.39151556]),\n",
       " array([0.12584123, 0.87415877]),\n",
       " array([0.70970737, 0.29029263]),\n",
       " array([0.73231961, 0.26768039]),\n",
       " array([0.77085066, 0.22914934]),\n",
       " array([0.54251384, 0.45748616]),\n",
       " array([0.20629384, 0.79370616]),\n",
       " array([0.56750842, 0.43249158]),\n",
       " array([0.66733812, 0.33266188]),\n",
       " array([0.26874553, 0.73125447]),\n",
       " array([0.73034588, 0.26965412]),\n",
       " array([0.75203044, 0.24796956]),\n",
       " array([0.75584971, 0.24415029]),\n",
       " array([0.49927372, 0.50072628]),\n",
       " array([0.80140194, 0.19859806]),\n",
       " array([0.71638977, 0.28361023]),\n",
       " array([0.64887481, 0.35112519]),\n",
       " array([0.65150862, 0.34849138]),\n",
       " array([0.73747923, 0.26252077]),\n",
       " array([0.71057323, 0.28942677]),\n",
       " array([0.66812918, 0.33187082]),\n",
       " array([0.84271605, 0.15728395]),\n",
       " array([0.2371271, 0.7628729]),\n",
       " array([0.45579583, 0.54420417]),\n",
       " array([0.50591475, 0.49408525]),\n",
       " array([0.55917573, 0.44082427]),\n",
       " array([0.27918434, 0.72081566]),\n",
       " array([0.65905083, 0.34094917]),\n",
       " array([0.59743501, 0.40256499]),\n",
       " array([0.80616105, 0.19383895]),\n",
       " array([0.83529068, 0.16470932]),\n",
       " array([0.79617957, 0.20382043]),\n",
       " array([0.65726686, 0.34273314]),\n",
       " array([0.65374235, 0.34625765]),\n",
       " array([0.0537003, 0.9462997]),\n",
       " array([0.11108022, 0.88891978]),\n",
       " array([0.78477835, 0.21522165]),\n",
       " array([0.66359927, 0.33640073]),\n",
       " array([0.82211048, 0.17788952]),\n",
       " array([0.81125101, 0.18874899]),\n",
       " array([0.63455649, 0.36544351]),\n",
       " array([0.86660708, 0.13339292]),\n",
       " array([0.56794809, 0.43205191]),\n",
       " array([0.58809909, 0.41190091]),\n",
       " array([0.49172523, 0.50827477]),\n",
       " array([0.56950528, 0.43049472]),\n",
       " array([0.75181508, 0.24818492]),\n",
       " array([0.85707775, 0.14292225]),\n",
       " array([0.79786825, 0.20213175]),\n",
       " array([0.68188464, 0.31811536]),\n",
       " array([0.76374771, 0.23625229]),\n",
       " array([0.59300907, 0.40699093]),\n",
       " array([0.34672407, 0.65327593]),\n",
       " array([0.65782564, 0.34217436]),\n",
       " array([0.1635059, 0.8364941]),\n",
       " array([0.76751663, 0.23248337]),\n",
       " array([0.78571077, 0.21428923]),\n",
       " array([0.76803211, 0.23196789]),\n",
       " array([0.64844173, 0.35155827]),\n",
       " array([0.75775784, 0.24224216]),\n",
       " array([0.80728345, 0.19271655]),\n",
       " array([0.66334425, 0.33665575]),\n",
       " array([0.2797714, 0.7202286]),\n",
       " array([0.61780604, 0.38219396]),\n",
       " array([0.31363813, 0.68636187]),\n",
       " array([0.12248014, 0.87751986]),\n",
       " array([0.57166343, 0.42833657]),\n",
       " array([0.09034519, 0.90965481]),\n",
       " array([0.50877365, 0.49122635]),\n",
       " array([0.67981956, 0.32018044]),\n",
       " array([0.64723749, 0.35276251]),\n",
       " array([0.69856067, 0.30143933]),\n",
       " array([0.54732364, 0.45267636]),\n",
       " array([0.59832684, 0.40167316]),\n",
       " array([0.68693099, 0.31306901]),\n",
       " array([0.82558212, 0.17441788]),\n",
       " array([0.65837763, 0.34162237]),\n",
       " array([0.7447602, 0.2552398]),\n",
       " array([0.82426544, 0.17573456]),\n",
       " array([0.67368836, 0.32631164]),\n",
       " array([0.68452542, 0.31547458]),\n",
       " array([0.35369688, 0.64630312]),\n",
       " array([0.79204243, 0.20795757]),\n",
       " array([0.0213936, 0.9786064]),\n",
       " array([0.7577282, 0.2422718]),\n",
       " array([0.72758772, 0.27241228]),\n",
       " array([0.68290895, 0.31709105]),\n",
       " array([0.585807, 0.414193]),\n",
       " array([0.6972375, 0.3027625]),\n",
       " array([0.62565444, 0.37434556]),\n",
       " array([0.79570986, 0.20429014]),\n",
       " array([0.65756901, 0.34243099]),\n",
       " array([0.47828361, 0.52171639]),\n",
       " array([0.80707858, 0.19292142]),\n",
       " array([0.1145227, 0.8854773]),\n",
       " array([0.75393685, 0.24606315]),\n",
       " array([0.70849756, 0.29150244]),\n",
       " array([0.67556334, 0.32443666]),\n",
       " array([0.6846233, 0.3153767]),\n",
       " array([0.74761139, 0.25238861]),\n",
       " array([0.76196939, 0.23803061]),\n",
       " array([0.78509943, 0.21490057]),\n",
       " array([0.79086229, 0.20913771]),\n",
       " array([0.53153313, 0.46846687]),\n",
       " array([0.62423615, 0.37576385]),\n",
       " array([0.17591875, 0.82408125]),\n",
       " array([0.67274806, 0.32725194]),\n",
       " array([0.60391916, 0.39608084]),\n",
       " array([0.32351478, 0.67648522]),\n",
       " array([0.76523698, 0.23476302]),\n",
       " array([0.36860754, 0.63139246]),\n",
       " array([0.51238783, 0.48761217]),\n",
       " array([0.75338269, 0.24661731]),\n",
       " array([0.71308053, 0.28691947]),\n",
       " array([0.70318576, 0.29681424]),\n",
       " array([0.7561947, 0.2438053]),\n",
       " array([0.57774874, 0.42225126]),\n",
       " array([0.32476609, 0.67523391]),\n",
       " array([0.73853324, 0.26146676]),\n",
       " array([0.73416484, 0.26583516]),\n",
       " array([0.28121974, 0.71878026]),\n",
       " array([0.73394949, 0.26605051]),\n",
       " array([0.75991375, 0.24008625]),\n",
       " array([0.71880773, 0.28119227]),\n",
       " array([0.81363562, 0.18636438]),\n",
       " array([0.78778987, 0.21221013]),\n",
       " array([0.84695506, 0.15304494]),\n",
       " array([0.19832153, 0.80167847]),\n",
       " array([0.26550757, 0.73449243]),\n",
       " array([0.25029871, 0.74970129]),\n",
       " array([0.70333223, 0.29666777]),\n",
       " array([0.10251617, 0.89748383]),\n",
       " array([0.82609842, 0.17390158]),\n",
       " array([0.739114, 0.260886]),\n",
       " array([0.66050279, 0.33949721]),\n",
       " array([0.18152819, 0.81847181]),\n",
       " array([0.63837502, 0.36162498]),\n",
       " array([0.83153732, 0.16846268]),\n",
       " array([0.18748877, 0.81251123]),\n",
       " array([0.61356183, 0.38643817]),\n",
       " array([0.06214997, 0.93785003]),\n",
       " array([0.72818101, 0.27181899]),\n",
       " array([0.69681926, 0.30318074]),\n",
       " array([0.67353812, 0.32646188]),\n",
       " array([0.80704979, 0.19295021]),\n",
       " array([0.19203351, 0.80796649]),\n",
       " array([0.79360665, 0.20639335]),\n",
       " array([0.24003414, 0.75996586]),\n",
       " array([0.11694277, 0.88305723]),\n",
       " array([0.20215363, 0.79784637]),\n",
       " array([0.77391697, 0.22608303]),\n",
       " array([0.6359086, 0.3640914]),\n",
       " array([0.60173903, 0.39826097]),\n",
       " array([0.83415888, 0.16584112]),\n",
       " array([0.63526584, 0.36473416]),\n",
       " array([0.68321656, 0.31678344]),\n",
       " array([0.13046206, 0.86953794]),\n",
       " array([0.60184471, 0.39815529]),\n",
       " array([0.60583629, 0.39416371]),\n",
       " array([0.06232787, 0.93767213]),\n",
       " array([0.76101351, 0.23898649]),\n",
       " array([0.56569005, 0.43430995]),\n",
       " array([0.70180882, 0.29819118]),\n",
       " array([0.76753583, 0.23246417]),\n",
       " array([0.77461763, 0.22538237]),\n",
       " array([0.64535129, 0.35464871]),\n",
       " array([0.21910983, 0.78089017]),\n",
       " array([0.5363934, 0.4636066]),\n",
       " array([0.6572581, 0.3427419]),\n",
       " array([0.27043284, 0.72956716]),\n",
       " array([0.34061764, 0.65938236]),\n",
       " array([0.77327788, 0.22672212]),\n",
       " array([0.60196591, 0.39803409]),\n",
       " array([0.22744637, 0.77255363]),\n",
       " array([0.69182475, 0.30817525]),\n",
       " array([0.58857926, 0.41142074]),\n",
       " array([0.71685506, 0.28314494]),\n",
       " array([0.53041293, 0.46958707]),\n",
       " array([0.54043059, 0.45956941]),\n",
       " array([0.6692952, 0.3307048]),\n",
       " array([0.5947896, 0.4052104]),\n",
       " array([0.12715788, 0.87284212]),\n",
       " array([0.28113394, 0.71886606]),\n",
       " array([0.19224749, 0.80775251]),\n",
       " array([0.73874246, 0.26125754]),\n",
       " array([0.60577893, 0.39422107]),\n",
       " array([0.7896909, 0.2103091]),\n",
       " array([0.68674343, 0.31325657]),\n",
       " array([0.57503855, 0.42496145]),\n",
       " array([0.6697389, 0.3302611]),\n",
       " array([0.46549462, 0.53450538]),\n",
       " array([0.76229906, 0.23770094]),\n",
       " array([0.55922771, 0.44077229]),\n",
       " array([0.71824399, 0.28175601]),\n",
       " array([0.65157025, 0.34842975]),\n",
       " array([0.54997822, 0.45002178]),\n",
       " array([0.83212022, 0.16787978]),\n",
       " array([0.65975417, 0.34024583]),\n",
       " array([0.85092183, 0.14907817]),\n",
       " array([0.79264738, 0.20735262]),\n",
       " array([0.75549687, 0.24450313]),\n",
       " array([0.70708621, 0.29291379]),\n",
       " array([0.06483866, 0.93516134]),\n",
       " array([0.79716409, 0.20283591]),\n",
       " array([0.30369216, 0.69630784]),\n",
       " array([0.7964115, 0.2035885]),\n",
       " array([0.68201259, 0.31798741]),\n",
       " array([0.73541184, 0.26458816]),\n",
       " array([0.62737685, 0.37262315]),\n",
       " array([0.13294058, 0.86705942]),\n",
       " array([0.18591233, 0.81408767]),\n",
       " array([0.75756627, 0.24243373]),\n",
       " array([0.7563779, 0.2436221]),\n",
       " array([0.20683896, 0.79316104]),\n",
       " array([0.76834907, 0.23165093]),\n",
       " array([0.65985775, 0.34014225]),\n",
       " array([0.75735759, 0.24264241]),\n",
       " array([0.78627504, 0.21372496]),\n",
       " array([0.75963399, 0.24036601]),\n",
       " array([0.6711888, 0.3288112]),\n",
       " array([0.79836991, 0.20163009]),\n",
       " array([0.27121109, 0.72878891]),\n",
       " array([0.61179843, 0.38820157]),\n",
       " array([0.58475368, 0.41524632]),\n",
       " array([0.69056862, 0.30943138]),\n",
       " array([0.69704463, 0.30295537]),\n",
       " array([0.63801396, 0.36198604]),\n",
       " array([0.61711396, 0.38288604]),\n",
       " array([0.06349451, 0.93650549]),\n",
       " array([0.74933063, 0.25066937]),\n",
       " array([0.034351, 0.965649]),\n",
       " array([0.7638526, 0.2361474]),\n",
       " array([0.71733682, 0.28266318]),\n",
       " array([0.64149915, 0.35850085]),\n",
       " array([0.63157333, 0.36842667]),\n",
       " array([0.66809498, 0.33190502]),\n",
       " array([0.03738342, 0.96261658]),\n",
       " array([0.67297536, 0.32702464]),\n",
       " array([0.52385974, 0.47614026]),\n",
       " array([0.70393074, 0.29606926]),\n",
       " ...]"
      ]
     },
     "execution_count": 97,
     "metadata": {},
     "output_type": "execute_result"
    }
   ],
   "source": [
    "list(pred_lm1)"
   ]
  },
  {
   "cell_type": "code",
   "execution_count": 98,
   "metadata": {},
   "outputs": [],
   "source": [
    "from sklearn.metrics import roc_auc_score, roc_curve"
   ]
  },
  {
   "cell_type": "code",
   "execution_count": 99,
   "metadata": {
    "scrolled": true
   },
   "outputs": [
    {
     "name": "stdout",
     "output_type": "stream",
     "text": [
      "AUC score:  0.7986787004066114\n"
     ]
    }
   ],
   "source": [
    "print(\"AUC score: \", roc_auc_score(bank_y_test, pred_lm1[:,1]))"
   ]
  },
  {
   "cell_type": "code",
   "execution_count": 100,
   "metadata": {
    "scrolled": true
   },
   "outputs": [
    {
     "data": {
      "image/png": "[encoded data removed]",
      "text/plain": [
       "<Figure size 432x288 with 1 Axes>"
      ]
     },
     "metadata": {
      "needs_background": "light"
     },
     "output_type": "display_data"
    }
   ],
   "source": [
    "fpr, tpr, threshold = roc_curve(bank_y_test, pred_lm1[:,1])\n",
    "plt.clf()\n",
    "plt.plot(fpr, tpr, )\n",
    "plt.plot([0,1],[0,1],'r--')\n",
    "plt.xlabel('FPR')\n",
    "plt.ylabel('TPR')\n",
    "plt.title('ROC curve')\n",
    "plt.show()"
   ]
  },
  {
   "cell_type": "code",
   "execution_count": 101,
   "metadata": {},
   "outputs": [
    {
     "data": {
      "text/plain": [
       "array([0, 0, 0, ..., 0, 0, 0], dtype=int64)"
      ]
     },
     "execution_count": 101,
     "metadata": {},
     "output_type": "execute_result"
    }
   ],
   "source": [
    "# Prediction on test dataset\n",
    "pred_lm_test = logmodel.predict(bank_test)\n",
    "pred_lm_test"
   ]
  },
  {
   "cell_type": "code",
   "execution_count": 102,
   "metadata": {},
   "outputs": [],
   "source": [
    "submission=pd.read_csv(\"C:/Training/Final Project/Final_Predictions/sample_submission.csv\")"
   ]
  },
  {
   "cell_type": "code",
   "execution_count": 103,
   "metadata": {},
   "outputs": [],
   "source": [
    "submission['y']=pred_lm_test \n",
    "submission['Id']=bank_test_backup['Id']"
   ]
  },
  {
   "cell_type": "code",
   "execution_count": 104,
   "metadata": {},
   "outputs": [],
   "source": [
    "pd.DataFrame(submission, columns=['Id','y']).to_csv('C:/Training/Final Project/Final_Predictions/Final10.csv')"
   ]
  },
  {
   "cell_type": "code",
   "execution_count": 109,
   "metadata": {},
   "outputs": [],
   "source": [
    "final=pd.read_csv(r\"C:/Training/Final Project/Final_Predictions/Final10.csv\")"
   ]
  },
  {
   "cell_type": "code",
   "execution_count": 110,
   "metadata": {},
   "outputs": [
    {
     "data": {
      "text/html": [
       "<div>\n",
       "<style scoped>\n",
       "    .dataframe tbody tr th:only-of-type {\n",
       "        vertical-align: middle;\n",
       "    }\n",
       "\n",
       "    .dataframe tbody tr th {\n",
       "        vertical-align: top;\n",
       "    }\n",
       "\n",
       "    .dataframe thead th {\n",
       "        text-align: right;\n",
       "    }\n",
       "</style>\n",
       "<table border=\"1\" class=\"dataframe\">\n",
       "  <thead>\n",
       "    <tr style=\"text-align: right;\">\n",
       "      <th></th>\n",
       "      <th>Id</th>\n",
       "      <th>y</th>\n",
       "      <th>actual</th>\n",
       "    </tr>\n",
       "  </thead>\n",
       "  <tbody>\n",
       "    <tr>\n",
       "      <td>0</td>\n",
       "      <td>1</td>\n",
       "      <td>0</td>\n",
       "      <td>0</td>\n",
       "    </tr>\n",
       "    <tr>\n",
       "      <td>1</td>\n",
       "      <td>2</td>\n",
       "      <td>0</td>\n",
       "      <td>0</td>\n",
       "    </tr>\n",
       "    <tr>\n",
       "      <td>2</td>\n",
       "      <td>3</td>\n",
       "      <td>0</td>\n",
       "      <td>0</td>\n",
       "    </tr>\n",
       "    <tr>\n",
       "      <td>3</td>\n",
       "      <td>4</td>\n",
       "      <td>0</td>\n",
       "      <td>0</td>\n",
       "    </tr>\n",
       "    <tr>\n",
       "      <td>4</td>\n",
       "      <td>5</td>\n",
       "      <td>0</td>\n",
       "      <td>0</td>\n",
       "    </tr>\n",
       "  </tbody>\n",
       "</table>\n",
       "</div>"
      ],
      "text/plain": [
       "   Id  y  actual\n",
       "0   1  0       0\n",
       "1   2  0       0\n",
       "2   3  0       0\n",
       "3   4  0       0\n",
       "4   5  0       0"
      ]
     },
     "execution_count": 110,
     "metadata": {},
     "output_type": "execute_result"
    }
   ],
   "source": [
    "final.head()"
   ]
  },
  {
   "cell_type": "code",
   "execution_count": 111,
   "metadata": {},
   "outputs": [
    {
     "data": {
      "text/plain": [
       "array([[ 278,  543],\n",
       "       [ 173, 3125]], dtype=int64)"
      ]
     },
     "execution_count": 111,
     "metadata": {},
     "output_type": "execute_result"
    }
   ],
   "source": [
    "tab_final = confusion_matrix(pred_lm_test, final.actual, labels=[1,0])\n",
    "tab_final"
   ]
  },
  {
   "cell_type": "code",
   "execution_count": 112,
   "metadata": {},
   "outputs": [
    {
     "name": "stdout",
     "output_type": "stream",
     "text": [
      "0.826171400825443\n"
     ]
    }
   ],
   "source": [
    "print(accuracy_score(final.actual, pred_lm_test))"
   ]
  },
  {
   "cell_type": "code",
   "execution_count": 113,
   "metadata": {},
   "outputs": [
    {
     "name": "stdout",
     "output_type": "stream",
     "text": [
      "              precision    recall  f1-score   support\n",
      "\n",
      "           0       0.95      0.85      0.90      3668\n",
      "           1       0.34      0.62      0.44       451\n",
      "\n",
      "    accuracy                           0.83      4119\n",
      "   macro avg       0.64      0.73      0.67      4119\n",
      "weighted avg       0.88      0.83      0.85      4119\n",
      "\n"
     ]
    }
   ],
   "source": [
    "print(classification_report(final.actual, pred_lm_test))"
   ]
  },
  {
   "cell_type": "code",
   "execution_count": 114,
   "metadata": {},
   "outputs": [
    {
     "data": {
      "text/plain": [
       "array([[0.51860091, 0.48139909],\n",
       "       [0.76914892, 0.23085108],\n",
       "       [0.72683662, 0.27316338],\n",
       "       ...,\n",
       "       [0.6045402 , 0.3954598 ],\n",
       "       [0.660496  , 0.339504  ],\n",
       "       [0.67131029, 0.32868971]])"
      ]
     },
     "execution_count": 114,
     "metadata": {},
     "output_type": "execute_result"
    }
   ],
   "source": [
    "pred_final1 = logmodel.predict_proba(bank_test)\n",
    "pred_final1"
   ]
  },
  {
   "cell_type": "code",
   "execution_count": 115,
   "metadata": {},
   "outputs": [
    {
     "name": "stdout",
     "output_type": "stream",
     "text": [
      "AUC score:  0.7838225124345026\n"
     ]
    }
   ],
   "source": [
    "print(\"AUC score: \", roc_auc_score(final.actual, pred_final1[:,1]))"
   ]
  },
  {
   "cell_type": "code",
   "execution_count": 116,
   "metadata": {},
   "outputs": [
    {
     "data": {
      "image/png": "[encoded data removed]",
      "text/plain": [
       "<Figure size 432x288 with 1 Axes>"
      ]
     },
     "metadata": {
      "needs_background": "light"
     },
     "output_type": "display_data"
    }
   ],
   "source": [
    "fpr, tpr, threshold = roc_curve(final.actual, pred_final1[:,1])\n",
    "plt.clf()\n",
    "plt.plot(fpr, tpr, )\n",
    "plt.plot([0,1],[0,1],'r--')\n",
    "plt.xlabel('FPR')\n",
    "plt.ylabel('TPR')\n",
    "plt.title('ROC curve')\n",
    "plt.show()"
   ]
  }
 ],
 "metadata": {
  "kernelspec": {
   "display_name": "Python 3",
   "language": "python",
   "name": "python3"
  },
  "language_info": {
   "codemirror_mode": {
    "name": "ipython",
    "version": 3
   },
   "file_extension": ".py",
   "mimetype": "text/x-python",
   "name": "python",
   "nbconvert_exporter": "python",
   "pygments_lexer": "ipython3",
   "version": "3.7.4"
  }
 },
 "nbformat": 4,
 "nbformat_minor": 2
}
